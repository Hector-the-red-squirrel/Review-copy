{
 "cells": [
  {
   "cell_type": "code",
   "execution_count": 1,
   "metadata": {},
   "outputs": [],
   "source": [
    "import pandas as pd\n",
    "import matplotlib.pyplot as plt\n",
    "import seaborn as sns\n",
    "import scipy.stats\n",
    "import numpy as np\n",
    "import allel\n",
    "import itertools\n",
    "import os\n",
    "from subprocess import call\n",
    "from tqdm import tqdm, trange\n",
    "\n",
    "import statsmodels.api as sm\n",
    "import statsmodels.formula.api as smf\n",
    "\n",
    "from IPython.core.interactiveshell import InteractiveShell\n",
    "InteractiveShell.ast_node_interactivity = \"all\" #allows multiple outputs"
   ]
  },
  {
   "cell_type": "markdown",
   "metadata": {},
   "source": [
    "#### List file for GATK"
   ]
  },
  {
   "cell_type": "code",
   "execution_count": 2,
   "metadata": {},
   "outputs": [
    {
     "name": "stderr",
     "output_type": "stream",
     "text": [
      "2096it [00:00, 178785.92it/s]         \n"
     ]
    }
   ],
   "source": [
    "path_folder_2 = '/data3/TaeFile/Pol_HeaderedVcf/'\n",
    "\n",
    "interval_list =[]    \n",
    "\n",
    "for file in tqdm(os.listdir(path_folder_2), total=len(path_folder_2)):\n",
    "    info = file.split('_headered')[0]\n",
    "    contig = info.split('_')[0]\n",
    "    start = info.split('_')[1]\n",
    "    start_int = int(start)\n",
    "    end = start_int + 99999\n",
    "    interval_list.append([contig, start, end])"
   ]
  },
  {
   "cell_type": "code",
   "execution_count": 3,
   "metadata": {},
   "outputs": [
    {
     "data": {
      "text/html": [
       "<div>\n",
       "<style scoped>\n",
       "    .dataframe tbody tr th:only-of-type {\n",
       "        vertical-align: middle;\n",
       "    }\n",
       "\n",
       "    .dataframe tbody tr th {\n",
       "        vertical-align: top;\n",
       "    }\n",
       "\n",
       "    .dataframe thead th {\n",
       "        text-align: right;\n",
       "    }\n",
       "</style>\n",
       "<table border=\"1\" class=\"dataframe\">\n",
       "  <thead>\n",
       "    <tr style=\"text-align: right;\">\n",
       "      <th></th>\n",
       "      <th>0</th>\n",
       "      <th>1</th>\n",
       "      <th>2</th>\n",
       "    </tr>\n",
       "  </thead>\n",
       "  <tbody>\n",
       "    <tr>\n",
       "      <th>0</th>\n",
       "      <td>PdomSCFr1.2-0158</td>\n",
       "      <td>100000</td>\n",
       "      <td>199999</td>\n",
       "    </tr>\n",
       "    <tr>\n",
       "      <th>1</th>\n",
       "      <td>PdomSCFr1.2-0024</td>\n",
       "      <td>0</td>\n",
       "      <td>99999</td>\n",
       "    </tr>\n",
       "    <tr>\n",
       "      <th>2</th>\n",
       "      <td>PdomSCFr1.2-0001</td>\n",
       "      <td>5500000</td>\n",
       "      <td>5599999</td>\n",
       "    </tr>\n",
       "    <tr>\n",
       "      <th>3</th>\n",
       "      <td>PdomSCFr1.2-0157</td>\n",
       "      <td>0</td>\n",
       "      <td>99999</td>\n",
       "    </tr>\n",
       "    <tr>\n",
       "      <th>4</th>\n",
       "      <td>PdomSCFr1.2-0038</td>\n",
       "      <td>1300000</td>\n",
       "      <td>1399999</td>\n",
       "    </tr>\n",
       "  </tbody>\n",
       "</table>\n",
       "</div>"
      ],
      "text/plain": [
       "                  0        1        2\n",
       "0  PdomSCFr1.2-0158   100000   199999\n",
       "1  PdomSCFr1.2-0024        0    99999\n",
       "2  PdomSCFr1.2-0001  5500000  5599999\n",
       "3  PdomSCFr1.2-0157        0    99999\n",
       "4  PdomSCFr1.2-0038  1300000  1399999"
      ]
     },
     "execution_count": 3,
     "metadata": {},
     "output_type": "execute_result"
    }
   ],
   "source": [
    "polistes_interval = pd.DataFrame(interval_list)\n",
    "polistes_interval.head()"
   ]
  },
  {
   "cell_type": "code",
   "execution_count": 4,
   "metadata": {},
   "outputs": [],
   "source": [
    "polistes_interval.rename(columns={\n",
    "    0:\"Contig\", 1:\"Start\", 2:\"Stop\"}, inplace=True)"
   ]
  },
  {
   "cell_type": "code",
   "execution_count": 5,
   "metadata": {},
   "outputs": [
    {
     "data": {
      "text/html": [
       "<div>\n",
       "<style scoped>\n",
       "    .dataframe tbody tr th:only-of-type {\n",
       "        vertical-align: middle;\n",
       "    }\n",
       "\n",
       "    .dataframe tbody tr th {\n",
       "        vertical-align: top;\n",
       "    }\n",
       "\n",
       "    .dataframe thead th {\n",
       "        text-align: right;\n",
       "    }\n",
       "</style>\n",
       "<table border=\"1\" class=\"dataframe\">\n",
       "  <thead>\n",
       "    <tr style=\"text-align: right;\">\n",
       "      <th></th>\n",
       "      <th>Contig</th>\n",
       "      <th>Start</th>\n",
       "      <th>Stop</th>\n",
       "    </tr>\n",
       "  </thead>\n",
       "  <tbody>\n",
       "    <tr>\n",
       "      <th>0</th>\n",
       "      <td>PdomSCFr1.2-0158</td>\n",
       "      <td>100000</td>\n",
       "      <td>199999</td>\n",
       "    </tr>\n",
       "    <tr>\n",
       "      <th>1</th>\n",
       "      <td>PdomSCFr1.2-0024</td>\n",
       "      <td>0</td>\n",
       "      <td>99999</td>\n",
       "    </tr>\n",
       "    <tr>\n",
       "      <th>2</th>\n",
       "      <td>PdomSCFr1.2-0001</td>\n",
       "      <td>5500000</td>\n",
       "      <td>5599999</td>\n",
       "    </tr>\n",
       "    <tr>\n",
       "      <th>3</th>\n",
       "      <td>PdomSCFr1.2-0157</td>\n",
       "      <td>0</td>\n",
       "      <td>99999</td>\n",
       "    </tr>\n",
       "    <tr>\n",
       "      <th>4</th>\n",
       "      <td>PdomSCFr1.2-0038</td>\n",
       "      <td>1300000</td>\n",
       "      <td>1399999</td>\n",
       "    </tr>\n",
       "  </tbody>\n",
       "</table>\n",
       "</div>"
      ],
      "text/plain": [
       "             Contig    Start     Stop\n",
       "0  PdomSCFr1.2-0158   100000   199999\n",
       "1  PdomSCFr1.2-0024        0    99999\n",
       "2  PdomSCFr1.2-0001  5500000  5599999\n",
       "3  PdomSCFr1.2-0157        0    99999\n",
       "4  PdomSCFr1.2-0038  1300000  1399999"
      ]
     },
     "execution_count": 5,
     "metadata": {},
     "output_type": "execute_result"
    }
   ],
   "source": [
    "polistes_interval.head()"
   ]
  },
  {
   "cell_type": "code",
   "execution_count": 6,
   "metadata": {},
   "outputs": [
    {
     "data": {
      "text/html": [
       "<div>\n",
       "<style scoped>\n",
       "    .dataframe tbody tr th:only-of-type {\n",
       "        vertical-align: middle;\n",
       "    }\n",
       "\n",
       "    .dataframe tbody tr th {\n",
       "        vertical-align: top;\n",
       "    }\n",
       "\n",
       "    .dataframe thead th {\n",
       "        text-align: right;\n",
       "    }\n",
       "</style>\n",
       "<table border=\"1\" class=\"dataframe\">\n",
       "  <thead>\n",
       "    <tr style=\"text-align: right;\">\n",
       "      <th></th>\n",
       "      <th>Contig</th>\n",
       "      <th>Start</th>\n",
       "      <th>Stop</th>\n",
       "    </tr>\n",
       "  </thead>\n",
       "  <tbody>\n",
       "    <tr>\n",
       "      <th>1443</th>\n",
       "      <td>PdomSCFr1.2-0001</td>\n",
       "      <td>0</td>\n",
       "      <td>99999</td>\n",
       "    </tr>\n",
       "    <tr>\n",
       "      <th>1881</th>\n",
       "      <td>PdomSCFr1.2-0001</td>\n",
       "      <td>100000</td>\n",
       "      <td>199999</td>\n",
       "    </tr>\n",
       "    <tr>\n",
       "      <th>1970</th>\n",
       "      <td>PdomSCFr1.2-0001</td>\n",
       "      <td>1000000</td>\n",
       "      <td>1099999</td>\n",
       "    </tr>\n",
       "    <tr>\n",
       "      <th>248</th>\n",
       "      <td>PdomSCFr1.2-0001</td>\n",
       "      <td>1100000</td>\n",
       "      <td>1199999</td>\n",
       "    </tr>\n",
       "    <tr>\n",
       "      <th>1207</th>\n",
       "      <td>PdomSCFr1.2-0001</td>\n",
       "      <td>1200000</td>\n",
       "      <td>1299999</td>\n",
       "    </tr>\n",
       "  </tbody>\n",
       "</table>\n",
       "</div>"
      ],
      "text/plain": [
       "                Contig    Start     Stop\n",
       "1443  PdomSCFr1.2-0001        0    99999\n",
       "1881  PdomSCFr1.2-0001   100000   199999\n",
       "1970  PdomSCFr1.2-0001  1000000  1099999\n",
       "248   PdomSCFr1.2-0001  1100000  1199999\n",
       "1207  PdomSCFr1.2-0001  1200000  1299999"
      ]
     },
     "execution_count": 6,
     "metadata": {},
     "output_type": "execute_result"
    }
   ],
   "source": [
    "polistes_interval.sort_values(by=['Contig', 'Start'], inplace=True)\n",
    "polistes_interval.head()"
   ]
  },
  {
   "cell_type": "code",
   "execution_count": 7,
   "metadata": {},
   "outputs": [],
   "source": [
    "#polistes_interval.to_csv('/data3/TaeFile/Pdom_good_intervals.bed', sep='\\t', index=False, header=False)\n",
    "#run only once!"
   ]
  },
  {
   "cell_type": "code",
   "execution_count": 8,
   "metadata": {},
   "outputs": [
    {
     "data": {
      "text/html": [
       "<div>\n",
       "<style scoped>\n",
       "    .dataframe tbody tr th:only-of-type {\n",
       "        vertical-align: middle;\n",
       "    }\n",
       "\n",
       "    .dataframe tbody tr th {\n",
       "        vertical-align: top;\n",
       "    }\n",
       "\n",
       "    .dataframe thead th {\n",
       "        text-align: right;\n",
       "    }\n",
       "</style>\n",
       "<table border=\"1\" class=\"dataframe\">\n",
       "  <thead>\n",
       "    <tr style=\"text-align: right;\">\n",
       "      <th></th>\n",
       "      <th></th>\n",
       "      <th>Contig</th>\n",
       "      <th>Start</th>\n",
       "      <th>Stop</th>\n",
       "    </tr>\n",
       "  </thead>\n",
       "  <tbody>\n",
       "    <tr>\n",
       "      <th rowspan=\"10\" valign=\"top\">0</th>\n",
       "      <th>1443</th>\n",
       "      <td>PdomSCFr1.2-0001</td>\n",
       "      <td>0</td>\n",
       "      <td>99999</td>\n",
       "    </tr>\n",
       "    <tr>\n",
       "      <th>1881</th>\n",
       "      <td>PdomSCFr1.2-0001</td>\n",
       "      <td>100000</td>\n",
       "      <td>199999</td>\n",
       "    </tr>\n",
       "    <tr>\n",
       "      <th>1970</th>\n",
       "      <td>PdomSCFr1.2-0001</td>\n",
       "      <td>1000000</td>\n",
       "      <td>1099999</td>\n",
       "    </tr>\n",
       "    <tr>\n",
       "      <th>248</th>\n",
       "      <td>PdomSCFr1.2-0001</td>\n",
       "      <td>1100000</td>\n",
       "      <td>1199999</td>\n",
       "    </tr>\n",
       "    <tr>\n",
       "      <th>1207</th>\n",
       "      <td>PdomSCFr1.2-0001</td>\n",
       "      <td>1200000</td>\n",
       "      <td>1299999</td>\n",
       "    </tr>\n",
       "    <tr>\n",
       "      <th>246</th>\n",
       "      <td>PdomSCFr1.2-0001</td>\n",
       "      <td>1300000</td>\n",
       "      <td>1399999</td>\n",
       "    </tr>\n",
       "    <tr>\n",
       "      <th>587</th>\n",
       "      <td>PdomSCFr1.2-0001</td>\n",
       "      <td>1400000</td>\n",
       "      <td>1499999</td>\n",
       "    </tr>\n",
       "    <tr>\n",
       "      <th>1655</th>\n",
       "      <td>PdomSCFr1.2-0001</td>\n",
       "      <td>1500000</td>\n",
       "      <td>1599999</td>\n",
       "    </tr>\n",
       "    <tr>\n",
       "      <th>796</th>\n",
       "      <td>PdomSCFr1.2-0001</td>\n",
       "      <td>1600000</td>\n",
       "      <td>1699999</td>\n",
       "    </tr>\n",
       "    <tr>\n",
       "      <th>349</th>\n",
       "      <td>PdomSCFr1.2-0001</td>\n",
       "      <td>1700000</td>\n",
       "      <td>1799999</td>\n",
       "    </tr>\n",
       "  </tbody>\n",
       "</table>\n",
       "</div>"
      ],
      "text/plain": [
       "                  Contig    Start     Stop\n",
       "0 1443  PdomSCFr1.2-0001        0    99999\n",
       "  1881  PdomSCFr1.2-0001   100000   199999\n",
       "  1970  PdomSCFr1.2-0001  1000000  1099999\n",
       "  248   PdomSCFr1.2-0001  1100000  1199999\n",
       "  1207  PdomSCFr1.2-0001  1200000  1299999\n",
       "  246   PdomSCFr1.2-0001  1300000  1399999\n",
       "  587   PdomSCFr1.2-0001  1400000  1499999\n",
       "  1655  PdomSCFr1.2-0001  1500000  1599999\n",
       "  796   PdomSCFr1.2-0001  1600000  1699999\n",
       "  349   PdomSCFr1.2-0001  1700000  1799999"
      ]
     },
     "execution_count": 8,
     "metadata": {},
     "output_type": "execute_result"
    }
   ],
   "source": [
    "test1 = polistes_interval.groupby(\"Contig\", as_index=False).apply(lambda x: x.iloc[:-1])\n",
    "test1.head(10)"
   ]
  },
  {
   "cell_type": "markdown",
   "metadata": {},
   "source": [
    "### Take the GC by interval file and edit contig ID to fit the old dataframe ID, For Bimp"
   ]
  },
  {
   "cell_type": "code",
   "execution_count": 10,
   "metadata": {},
   "outputs": [],
   "source": [
    "BimpGC_raw = pd.read_csv('/home/taeyoon/GCContent/BimpGC_V2.txt', sep='\\t', header=None)"
   ]
  },
  {
   "cell_type": "code",
   "execution_count": 11,
   "metadata": {},
   "outputs": [
    {
     "data": {
      "text/html": [
       "<div>\n",
       "<style scoped>\n",
       "    .dataframe tbody tr th:only-of-type {\n",
       "        vertical-align: middle;\n",
       "    }\n",
       "\n",
       "    .dataframe tbody tr th {\n",
       "        vertical-align: top;\n",
       "    }\n",
       "\n",
       "    .dataframe thead th {\n",
       "        text-align: right;\n",
       "    }\n",
       "</style>\n",
       "<table border=\"1\" class=\"dataframe\">\n",
       "  <thead>\n",
       "    <tr style=\"text-align: right;\">\n",
       "      <th></th>\n",
       "      <th>0</th>\n",
       "      <th>1</th>\n",
       "    </tr>\n",
       "  </thead>\n",
       "  <tbody>\n",
       "    <tr>\n",
       "      <th>0</th>\n",
       "      <td>NT_176427.1:1-99999</td>\n",
       "      <td>0.296453</td>\n",
       "    </tr>\n",
       "    <tr>\n",
       "      <th>1</th>\n",
       "      <td>NT_176427.1:100001-199999</td>\n",
       "      <td>0.260573</td>\n",
       "    </tr>\n",
       "    <tr>\n",
       "      <th>2</th>\n",
       "      <td>NT_176427.1:200001-270154</td>\n",
       "      <td>0.296548</td>\n",
       "    </tr>\n",
       "    <tr>\n",
       "      <th>3</th>\n",
       "      <td>NT_176429.1:1-99999</td>\n",
       "      <td>0.369374</td>\n",
       "    </tr>\n",
       "    <tr>\n",
       "      <th>4</th>\n",
       "      <td>NT_176429.1:100001-199999</td>\n",
       "      <td>0.401534</td>\n",
       "    </tr>\n",
       "  </tbody>\n",
       "</table>\n",
       "</div>"
      ],
      "text/plain": [
       "                           0         1\n",
       "0        NT_176427.1:1-99999  0.296453\n",
       "1  NT_176427.1:100001-199999  0.260573\n",
       "2  NT_176427.1:200001-270154  0.296548\n",
       "3        NT_176429.1:1-99999  0.369374\n",
       "4  NT_176429.1:100001-199999  0.401534"
      ]
     },
     "execution_count": 11,
     "metadata": {},
     "output_type": "execute_result"
    }
   ],
   "source": [
    "BimpGC_raw.head()"
   ]
  },
  {
   "cell_type": "code",
   "execution_count": 12,
   "metadata": {},
   "outputs": [
    {
     "data": {
      "text/html": [
       "<div>\n",
       "<style scoped>\n",
       "    .dataframe tbody tr th:only-of-type {\n",
       "        vertical-align: middle;\n",
       "    }\n",
       "\n",
       "    .dataframe tbody tr th {\n",
       "        vertical-align: top;\n",
       "    }\n",
       "\n",
       "    .dataframe thead th {\n",
       "        text-align: right;\n",
       "    }\n",
       "</style>\n",
       "<table border=\"1\" class=\"dataframe\">\n",
       "  <thead>\n",
       "    <tr style=\"text-align: right;\">\n",
       "      <th></th>\n",
       "      <th>ID</th>\n",
       "      <th>GC_Content</th>\n",
       "    </tr>\n",
       "  </thead>\n",
       "  <tbody>\n",
       "    <tr>\n",
       "      <th>0</th>\n",
       "      <td>NT_176427.1:1-99999</td>\n",
       "      <td>0.296453</td>\n",
       "    </tr>\n",
       "    <tr>\n",
       "      <th>1</th>\n",
       "      <td>NT_176427.1:100001-199999</td>\n",
       "      <td>0.260573</td>\n",
       "    </tr>\n",
       "    <tr>\n",
       "      <th>2</th>\n",
       "      <td>NT_176427.1:200001-270154</td>\n",
       "      <td>0.296548</td>\n",
       "    </tr>\n",
       "    <tr>\n",
       "      <th>3</th>\n",
       "      <td>NT_176429.1:1-99999</td>\n",
       "      <td>0.369374</td>\n",
       "    </tr>\n",
       "    <tr>\n",
       "      <th>4</th>\n",
       "      <td>NT_176429.1:100001-199999</td>\n",
       "      <td>0.401534</td>\n",
       "    </tr>\n",
       "  </tbody>\n",
       "</table>\n",
       "</div>"
      ],
      "text/plain": [
       "                          ID  GC_Content\n",
       "0        NT_176427.1:1-99999    0.296453\n",
       "1  NT_176427.1:100001-199999    0.260573\n",
       "2  NT_176427.1:200001-270154    0.296548\n",
       "3        NT_176429.1:1-99999    0.369374\n",
       "4  NT_176429.1:100001-199999    0.401534"
      ]
     },
     "execution_count": 12,
     "metadata": {},
     "output_type": "execute_result"
    }
   ],
   "source": [
    "BimpGC_raw.rename(columns ={0:\"ID\", 1:\"GC_Content\"}, inplace =True)\n",
    "BimpGC_raw.head()"
   ]
  },
  {
   "cell_type": "code",
   "execution_count": 13,
   "metadata": {},
   "outputs": [
    {
     "data": {
      "text/html": [
       "<div>\n",
       "<style scoped>\n",
       "    .dataframe tbody tr th:only-of-type {\n",
       "        vertical-align: middle;\n",
       "    }\n",
       "\n",
       "    .dataframe tbody tr th {\n",
       "        vertical-align: top;\n",
       "    }\n",
       "\n",
       "    .dataframe thead th {\n",
       "        text-align: right;\n",
       "    }\n",
       "</style>\n",
       "<table border=\"1\" class=\"dataframe\">\n",
       "  <thead>\n",
       "    <tr style=\"text-align: right;\">\n",
       "      <th></th>\n",
       "      <th>ID</th>\n",
       "      <th>GC_Content</th>\n",
       "    </tr>\n",
       "  </thead>\n",
       "  <tbody>\n",
       "    <tr>\n",
       "      <th>0</th>\n",
       "      <td>NT_176427.1:</td>\n",
       "      <td>0.296453</td>\n",
       "    </tr>\n",
       "    <tr>\n",
       "      <th>1</th>\n",
       "      <td>NT_176427.1:10000</td>\n",
       "      <td>0.260573</td>\n",
       "    </tr>\n",
       "    <tr>\n",
       "      <th>2</th>\n",
       "      <td>NT_176427.1:20000</td>\n",
       "      <td>0.296548</td>\n",
       "    </tr>\n",
       "    <tr>\n",
       "      <th>3</th>\n",
       "      <td>NT_176429.1:</td>\n",
       "      <td>0.369374</td>\n",
       "    </tr>\n",
       "    <tr>\n",
       "      <th>4</th>\n",
       "      <td>NT_176429.1:10000</td>\n",
       "      <td>0.401534</td>\n",
       "    </tr>\n",
       "  </tbody>\n",
       "</table>\n",
       "</div>"
      ],
      "text/plain": [
       "                  ID  GC_Content\n",
       "0       NT_176427.1:    0.296453\n",
       "1  NT_176427.1:10000    0.260573\n",
       "2  NT_176427.1:20000    0.296548\n",
       "3       NT_176429.1:    0.369374\n",
       "4  NT_176429.1:10000    0.401534"
      ]
     },
     "execution_count": 13,
     "metadata": {},
     "output_type": "execute_result"
    }
   ],
   "source": [
    "BimpGC_raw['ID'] = BimpGC_raw['ID'].str.split('1-').str.get(0)\n",
    "BimpGC_raw.head()"
   ]
  },
  {
   "cell_type": "code",
   "execution_count": 14,
   "metadata": {},
   "outputs": [
    {
     "data": {
      "text/html": [
       "<div>\n",
       "<style scoped>\n",
       "    .dataframe tbody tr th:only-of-type {\n",
       "        vertical-align: middle;\n",
       "    }\n",
       "\n",
       "    .dataframe tbody tr th {\n",
       "        vertical-align: top;\n",
       "    }\n",
       "\n",
       "    .dataframe thead th {\n",
       "        text-align: right;\n",
       "    }\n",
       "</style>\n",
       "<table border=\"1\" class=\"dataframe\">\n",
       "  <thead>\n",
       "    <tr style=\"text-align: right;\">\n",
       "      <th></th>\n",
       "      <th>ID</th>\n",
       "      <th>GC_Content</th>\n",
       "    </tr>\n",
       "  </thead>\n",
       "  <tbody>\n",
       "    <tr>\n",
       "      <th>0</th>\n",
       "      <td>NT_176427.1:0</td>\n",
       "      <td>0.296453</td>\n",
       "    </tr>\n",
       "    <tr>\n",
       "      <th>1</th>\n",
       "      <td>NT_176427.1:100000</td>\n",
       "      <td>0.260573</td>\n",
       "    </tr>\n",
       "    <tr>\n",
       "      <th>2</th>\n",
       "      <td>NT_176427.1:200000</td>\n",
       "      <td>0.296548</td>\n",
       "    </tr>\n",
       "    <tr>\n",
       "      <th>3</th>\n",
       "      <td>NT_176429.1:0</td>\n",
       "      <td>0.369374</td>\n",
       "    </tr>\n",
       "    <tr>\n",
       "      <th>4</th>\n",
       "      <td>NT_176429.1:100000</td>\n",
       "      <td>0.401534</td>\n",
       "    </tr>\n",
       "  </tbody>\n",
       "</table>\n",
       "</div>"
      ],
      "text/plain": [
       "                   ID  GC_Content\n",
       "0       NT_176427.1:0    0.296453\n",
       "1  NT_176427.1:100000    0.260573\n",
       "2  NT_176427.1:200000    0.296548\n",
       "3       NT_176429.1:0    0.369374\n",
       "4  NT_176429.1:100000    0.401534"
      ]
     },
     "execution_count": 14,
     "metadata": {},
     "output_type": "execute_result"
    }
   ],
   "source": [
    "BimpGC_raw['ID'] = BimpGC_raw['ID'] + '0' #make sure to run once at a time, or else it'll add more zeros\n",
    "BimpGC_raw.head()"
   ]
  },
  {
   "cell_type": "code",
   "execution_count": 15,
   "metadata": {},
   "outputs": [
    {
     "data": {
      "text/html": [
       "<div>\n",
       "<style scoped>\n",
       "    .dataframe tbody tr th:only-of-type {\n",
       "        vertical-align: middle;\n",
       "    }\n",
       "\n",
       "    .dataframe tbody tr th {\n",
       "        vertical-align: top;\n",
       "    }\n",
       "\n",
       "    .dataframe thead th {\n",
       "        text-align: right;\n",
       "    }\n",
       "</style>\n",
       "<table border=\"1\" class=\"dataframe\">\n",
       "  <thead>\n",
       "    <tr style=\"text-align: right;\">\n",
       "      <th></th>\n",
       "      <th>ID</th>\n",
       "      <th>GC_Content</th>\n",
       "    </tr>\n",
       "  </thead>\n",
       "  <tbody>\n",
       "    <tr>\n",
       "      <th>0</th>\n",
       "      <td>NT_176427.1_0</td>\n",
       "      <td>0.296453</td>\n",
       "    </tr>\n",
       "    <tr>\n",
       "      <th>1</th>\n",
       "      <td>NT_176427.1_100000</td>\n",
       "      <td>0.260573</td>\n",
       "    </tr>\n",
       "    <tr>\n",
       "      <th>2</th>\n",
       "      <td>NT_176427.1_200000</td>\n",
       "      <td>0.296548</td>\n",
       "    </tr>\n",
       "    <tr>\n",
       "      <th>3</th>\n",
       "      <td>NT_176429.1_0</td>\n",
       "      <td>0.369374</td>\n",
       "    </tr>\n",
       "    <tr>\n",
       "      <th>4</th>\n",
       "      <td>NT_176429.1_100000</td>\n",
       "      <td>0.401534</td>\n",
       "    </tr>\n",
       "  </tbody>\n",
       "</table>\n",
       "</div>"
      ],
      "text/plain": [
       "                   ID  GC_Content\n",
       "0       NT_176427.1_0    0.296453\n",
       "1  NT_176427.1_100000    0.260573\n",
       "2  NT_176427.1_200000    0.296548\n",
       "3       NT_176429.1_0    0.369374\n",
       "4  NT_176429.1_100000    0.401534"
      ]
     },
     "execution_count": 15,
     "metadata": {},
     "output_type": "execute_result"
    }
   ],
   "source": [
    "BimpGC_raw_front = BimpGC_raw['ID'].str.split(':').str.get(0)\n",
    "BimpGC_raw_back = BimpGC_raw['ID'].str.split(':').str.get(1)\n",
    "BimpGC_raw['ID'] = BimpGC_raw_front + '_' + BimpGC_raw_back\n",
    "BimpGC_raw.head()"
   ]
  },
  {
   "cell_type": "code",
   "execution_count": 16,
   "metadata": {},
   "outputs": [],
   "source": [
    "#output and save a copy of this dataframe\n",
    "#BimpGC_raw.to_csv('/home/taeyoon/GCContent/BimpGC_ready.csv', sep='\\t', index=False)\n",
    "#run once and once only, unless change is made and needs to overwrite the file"
   ]
  },
  {
   "cell_type": "markdown",
   "metadata": {},
   "source": [
    "### Same thing for Pdom"
   ]
  },
  {
   "cell_type": "code",
   "execution_count": 17,
   "metadata": {},
   "outputs": [
    {
     "data": {
      "text/html": [
       "<div>\n",
       "<style scoped>\n",
       "    .dataframe tbody tr th:only-of-type {\n",
       "        vertical-align: middle;\n",
       "    }\n",
       "\n",
       "    .dataframe tbody tr th {\n",
       "        vertical-align: top;\n",
       "    }\n",
       "\n",
       "    .dataframe thead th {\n",
       "        text-align: right;\n",
       "    }\n",
       "</style>\n",
       "<table border=\"1\" class=\"dataframe\">\n",
       "  <thead>\n",
       "    <tr style=\"text-align: right;\">\n",
       "      <th></th>\n",
       "      <th>0</th>\n",
       "      <th>1</th>\n",
       "    </tr>\n",
       "  </thead>\n",
       "  <tbody>\n",
       "    <tr>\n",
       "      <th>0</th>\n",
       "      <td>PdomSCFr1.2-0001:1-99999</td>\n",
       "      <td>0.392744</td>\n",
       "    </tr>\n",
       "    <tr>\n",
       "      <th>1</th>\n",
       "      <td>PdomSCFr1.2-0001:100001-199999</td>\n",
       "      <td>0.415594</td>\n",
       "    </tr>\n",
       "    <tr>\n",
       "      <th>2</th>\n",
       "      <td>PdomSCFr1.2-0001:200001-299999</td>\n",
       "      <td>0.350644</td>\n",
       "    </tr>\n",
       "    <tr>\n",
       "      <th>3</th>\n",
       "      <td>PdomSCFr1.2-0001:300001-399999</td>\n",
       "      <td>0.321123</td>\n",
       "    </tr>\n",
       "    <tr>\n",
       "      <th>4</th>\n",
       "      <td>PdomSCFr1.2-0001:400001-499999</td>\n",
       "      <td>0.327853</td>\n",
       "    </tr>\n",
       "  </tbody>\n",
       "</table>\n",
       "</div>"
      ],
      "text/plain": [
       "                                0         1\n",
       "0        PdomSCFr1.2-0001:1-99999  0.392744\n",
       "1  PdomSCFr1.2-0001:100001-199999  0.415594\n",
       "2  PdomSCFr1.2-0001:200001-299999  0.350644\n",
       "3  PdomSCFr1.2-0001:300001-399999  0.321123\n",
       "4  PdomSCFr1.2-0001:400001-499999  0.327853"
      ]
     },
     "execution_count": 17,
     "metadata": {},
     "output_type": "execute_result"
    }
   ],
   "source": [
    "PdomGC_raw = pd.read_csv('/home/taeyoon/GCContent/PdomGC_V1.txt', sep='\\t', header=None)\n",
    "PdomGC_raw.head()"
   ]
  },
  {
   "cell_type": "code",
   "execution_count": 18,
   "metadata": {},
   "outputs": [
    {
     "data": {
      "text/html": [
       "<div>\n",
       "<style scoped>\n",
       "    .dataframe tbody tr th:only-of-type {\n",
       "        vertical-align: middle;\n",
       "    }\n",
       "\n",
       "    .dataframe tbody tr th {\n",
       "        vertical-align: top;\n",
       "    }\n",
       "\n",
       "    .dataframe thead th {\n",
       "        text-align: right;\n",
       "    }\n",
       "</style>\n",
       "<table border=\"1\" class=\"dataframe\">\n",
       "  <thead>\n",
       "    <tr style=\"text-align: right;\">\n",
       "      <th></th>\n",
       "      <th>ID</th>\n",
       "      <th>GC_Content</th>\n",
       "    </tr>\n",
       "  </thead>\n",
       "  <tbody>\n",
       "    <tr>\n",
       "      <th>0</th>\n",
       "      <td>PdomSCFr1.2-0001:1-99999</td>\n",
       "      <td>0.392744</td>\n",
       "    </tr>\n",
       "    <tr>\n",
       "      <th>1</th>\n",
       "      <td>PdomSCFr1.2-0001:100001-199999</td>\n",
       "      <td>0.415594</td>\n",
       "    </tr>\n",
       "    <tr>\n",
       "      <th>2</th>\n",
       "      <td>PdomSCFr1.2-0001:200001-299999</td>\n",
       "      <td>0.350644</td>\n",
       "    </tr>\n",
       "    <tr>\n",
       "      <th>3</th>\n",
       "      <td>PdomSCFr1.2-0001:300001-399999</td>\n",
       "      <td>0.321123</td>\n",
       "    </tr>\n",
       "    <tr>\n",
       "      <th>4</th>\n",
       "      <td>PdomSCFr1.2-0001:400001-499999</td>\n",
       "      <td>0.327853</td>\n",
       "    </tr>\n",
       "  </tbody>\n",
       "</table>\n",
       "</div>"
      ],
      "text/plain": [
       "                               ID  GC_Content\n",
       "0        PdomSCFr1.2-0001:1-99999    0.392744\n",
       "1  PdomSCFr1.2-0001:100001-199999    0.415594\n",
       "2  PdomSCFr1.2-0001:200001-299999    0.350644\n",
       "3  PdomSCFr1.2-0001:300001-399999    0.321123\n",
       "4  PdomSCFr1.2-0001:400001-499999    0.327853"
      ]
     },
     "execution_count": 18,
     "metadata": {},
     "output_type": "execute_result"
    }
   ],
   "source": [
    "PdomGC_raw.rename(columns={0:'ID', 1:'GC_Content'}, inplace=True)\n",
    "PdomGC_raw.head()"
   ]
  },
  {
   "cell_type": "code",
   "execution_count": 19,
   "metadata": {},
   "outputs": [
    {
     "data": {
      "text/html": [
       "<div>\n",
       "<style scoped>\n",
       "    .dataframe tbody tr th:only-of-type {\n",
       "        vertical-align: middle;\n",
       "    }\n",
       "\n",
       "    .dataframe tbody tr th {\n",
       "        vertical-align: top;\n",
       "    }\n",
       "\n",
       "    .dataframe thead th {\n",
       "        text-align: right;\n",
       "    }\n",
       "</style>\n",
       "<table border=\"1\" class=\"dataframe\">\n",
       "  <thead>\n",
       "    <tr style=\"text-align: right;\">\n",
       "      <th></th>\n",
       "      <th>ID</th>\n",
       "      <th>GC_Content</th>\n",
       "    </tr>\n",
       "  </thead>\n",
       "  <tbody>\n",
       "    <tr>\n",
       "      <th>0</th>\n",
       "      <td>PdomSCFr1.2-0001:</td>\n",
       "      <td>0.392744</td>\n",
       "    </tr>\n",
       "    <tr>\n",
       "      <th>1</th>\n",
       "      <td>PdomSCFr1.2-0001:10000</td>\n",
       "      <td>0.415594</td>\n",
       "    </tr>\n",
       "    <tr>\n",
       "      <th>2</th>\n",
       "      <td>PdomSCFr1.2-0001:20000</td>\n",
       "      <td>0.350644</td>\n",
       "    </tr>\n",
       "    <tr>\n",
       "      <th>3</th>\n",
       "      <td>PdomSCFr1.2-0001:30000</td>\n",
       "      <td>0.321123</td>\n",
       "    </tr>\n",
       "    <tr>\n",
       "      <th>4</th>\n",
       "      <td>PdomSCFr1.2-0001:40000</td>\n",
       "      <td>0.327853</td>\n",
       "    </tr>\n",
       "  </tbody>\n",
       "</table>\n",
       "</div>"
      ],
      "text/plain": [
       "                       ID  GC_Content\n",
       "0       PdomSCFr1.2-0001:    0.392744\n",
       "1  PdomSCFr1.2-0001:10000    0.415594\n",
       "2  PdomSCFr1.2-0001:20000    0.350644\n",
       "3  PdomSCFr1.2-0001:30000    0.321123\n",
       "4  PdomSCFr1.2-0001:40000    0.327853"
      ]
     },
     "execution_count": 19,
     "metadata": {},
     "output_type": "execute_result"
    }
   ],
   "source": [
    "PdomGC_raw['ID'] = PdomGC_raw['ID'].str.split('1-').str.get(0)\n",
    "PdomGC_raw.head()"
   ]
  },
  {
   "cell_type": "code",
   "execution_count": 20,
   "metadata": {},
   "outputs": [
    {
     "data": {
      "text/html": [
       "<div>\n",
       "<style scoped>\n",
       "    .dataframe tbody tr th:only-of-type {\n",
       "        vertical-align: middle;\n",
       "    }\n",
       "\n",
       "    .dataframe tbody tr th {\n",
       "        vertical-align: top;\n",
       "    }\n",
       "\n",
       "    .dataframe thead th {\n",
       "        text-align: right;\n",
       "    }\n",
       "</style>\n",
       "<table border=\"1\" class=\"dataframe\">\n",
       "  <thead>\n",
       "    <tr style=\"text-align: right;\">\n",
       "      <th></th>\n",
       "      <th>ID</th>\n",
       "      <th>GC_Content</th>\n",
       "    </tr>\n",
       "  </thead>\n",
       "  <tbody>\n",
       "    <tr>\n",
       "      <th>0</th>\n",
       "      <td>PdomSCFr1.2-0001:0</td>\n",
       "      <td>0.392744</td>\n",
       "    </tr>\n",
       "    <tr>\n",
       "      <th>1</th>\n",
       "      <td>PdomSCFr1.2-0001:100000</td>\n",
       "      <td>0.415594</td>\n",
       "    </tr>\n",
       "    <tr>\n",
       "      <th>2</th>\n",
       "      <td>PdomSCFr1.2-0001:200000</td>\n",
       "      <td>0.350644</td>\n",
       "    </tr>\n",
       "    <tr>\n",
       "      <th>3</th>\n",
       "      <td>PdomSCFr1.2-0001:300000</td>\n",
       "      <td>0.321123</td>\n",
       "    </tr>\n",
       "    <tr>\n",
       "      <th>4</th>\n",
       "      <td>PdomSCFr1.2-0001:400000</td>\n",
       "      <td>0.327853</td>\n",
       "    </tr>\n",
       "  </tbody>\n",
       "</table>\n",
       "</div>"
      ],
      "text/plain": [
       "                        ID  GC_Content\n",
       "0       PdomSCFr1.2-0001:0    0.392744\n",
       "1  PdomSCFr1.2-0001:100000    0.415594\n",
       "2  PdomSCFr1.2-0001:200000    0.350644\n",
       "3  PdomSCFr1.2-0001:300000    0.321123\n",
       "4  PdomSCFr1.2-0001:400000    0.327853"
      ]
     },
     "execution_count": 20,
     "metadata": {},
     "output_type": "execute_result"
    }
   ],
   "source": [
    "PdomGC_raw['ID'] = PdomGC_raw['ID'] + '0'\n",
    "PdomGC_raw.head()"
   ]
  },
  {
   "cell_type": "code",
   "execution_count": 21,
   "metadata": {},
   "outputs": [
    {
     "data": {
      "text/html": [
       "<div>\n",
       "<style scoped>\n",
       "    .dataframe tbody tr th:only-of-type {\n",
       "        vertical-align: middle;\n",
       "    }\n",
       "\n",
       "    .dataframe tbody tr th {\n",
       "        vertical-align: top;\n",
       "    }\n",
       "\n",
       "    .dataframe thead th {\n",
       "        text-align: right;\n",
       "    }\n",
       "</style>\n",
       "<table border=\"1\" class=\"dataframe\">\n",
       "  <thead>\n",
       "    <tr style=\"text-align: right;\">\n",
       "      <th></th>\n",
       "      <th>ID</th>\n",
       "      <th>GC_Content</th>\n",
       "    </tr>\n",
       "  </thead>\n",
       "  <tbody>\n",
       "    <tr>\n",
       "      <th>0</th>\n",
       "      <td>PdomSCFr1.2-0001_0</td>\n",
       "      <td>0.392744</td>\n",
       "    </tr>\n",
       "    <tr>\n",
       "      <th>1</th>\n",
       "      <td>PdomSCFr1.2-0001_100000</td>\n",
       "      <td>0.415594</td>\n",
       "    </tr>\n",
       "    <tr>\n",
       "      <th>2</th>\n",
       "      <td>PdomSCFr1.2-0001_200000</td>\n",
       "      <td>0.350644</td>\n",
       "    </tr>\n",
       "    <tr>\n",
       "      <th>3</th>\n",
       "      <td>PdomSCFr1.2-0001_300000</td>\n",
       "      <td>0.321123</td>\n",
       "    </tr>\n",
       "    <tr>\n",
       "      <th>4</th>\n",
       "      <td>PdomSCFr1.2-0001_400000</td>\n",
       "      <td>0.327853</td>\n",
       "    </tr>\n",
       "  </tbody>\n",
       "</table>\n",
       "</div>"
      ],
      "text/plain": [
       "                        ID  GC_Content\n",
       "0       PdomSCFr1.2-0001_0    0.392744\n",
       "1  PdomSCFr1.2-0001_100000    0.415594\n",
       "2  PdomSCFr1.2-0001_200000    0.350644\n",
       "3  PdomSCFr1.2-0001_300000    0.321123\n",
       "4  PdomSCFr1.2-0001_400000    0.327853"
      ]
     },
     "execution_count": 21,
     "metadata": {},
     "output_type": "execute_result"
    }
   ],
   "source": [
    "PdomGC_raw_front = PdomGC_raw['ID'].str.split(':').str.get(0)\n",
    "PdomGC_raw_back = PdomGC_raw['ID'].str.split(':').str.get(1)\n",
    "PdomGC_raw['ID'] = PdomGC_raw_front + '_' + PdomGC_raw_back\n",
    "PdomGC_raw.head()"
   ]
  },
  {
   "cell_type": "code",
   "execution_count": 22,
   "metadata": {},
   "outputs": [],
   "source": [
    "#output the file\n",
    "#PdomGC_raw.to_csv('/home/taeyoon/GCContent/PdomGC_ready.csv', sep='\\t', index=False)\n",
    "#run only once!"
   ]
  },
  {
   "cell_type": "markdown",
   "metadata": {},
   "source": [
    "### Merge Old Dataframe with new Info, First Bimp"
   ]
  },
  {
   "cell_type": "code",
   "execution_count": 55,
   "metadata": {},
   "outputs": [
    {
     "data": {
      "text/html": [
       "<div>\n",
       "<style scoped>\n",
       "    .dataframe tbody tr th:only-of-type {\n",
       "        vertical-align: middle;\n",
       "    }\n",
       "\n",
       "    .dataframe tbody tr th {\n",
       "        vertical-align: top;\n",
       "    }\n",
       "\n",
       "    .dataframe thead th {\n",
       "        text-align: right;\n",
       "    }\n",
       "</style>\n",
       "<table border=\"1\" class=\"dataframe\">\n",
       "  <thead>\n",
       "    <tr style=\"text-align: right;\">\n",
       "      <th></th>\n",
       "      <th>ID</th>\n",
       "      <th>r2_mean</th>\n",
       "      <th>r2_median</th>\n",
       "      <th>SW_Total</th>\n",
       "      <th>WS_Total</th>\n",
       "      <th>NN_Total</th>\n",
       "      <th>SNP_Total</th>\n",
       "      <th>SW_Rare</th>\n",
       "      <th>WS_Rare</th>\n",
       "      <th>SW_Common</th>\n",
       "      <th>WS_Common</th>\n",
       "    </tr>\n",
       "  </thead>\n",
       "  <tbody>\n",
       "    <tr>\n",
       "      <th>0</th>\n",
       "      <td>NT_177880.1_900000</td>\n",
       "      <td>0.478757</td>\n",
       "      <td>0.428571</td>\n",
       "      <td>471</td>\n",
       "      <td>304</td>\n",
       "      <td>101</td>\n",
       "      <td>876</td>\n",
       "      <td>262</td>\n",
       "      <td>119</td>\n",
       "      <td>71</td>\n",
       "      <td>87</td>\n",
       "    </tr>\n",
       "    <tr>\n",
       "      <th>1</th>\n",
       "      <td>NT_179893.1_1300000</td>\n",
       "      <td>0.549740</td>\n",
       "      <td>0.428571</td>\n",
       "      <td>353</td>\n",
       "      <td>197</td>\n",
       "      <td>68</td>\n",
       "      <td>618</td>\n",
       "      <td>208</td>\n",
       "      <td>89</td>\n",
       "      <td>54</td>\n",
       "      <td>53</td>\n",
       "    </tr>\n",
       "    <tr>\n",
       "      <th>2</th>\n",
       "      <td>NT_176548.1_300000</td>\n",
       "      <td>0.464233</td>\n",
       "      <td>0.428571</td>\n",
       "      <td>371</td>\n",
       "      <td>133</td>\n",
       "      <td>54</td>\n",
       "      <td>558</td>\n",
       "      <td>245</td>\n",
       "      <td>69</td>\n",
       "      <td>22</td>\n",
       "      <td>26</td>\n",
       "    </tr>\n",
       "    <tr>\n",
       "      <th>3</th>\n",
       "      <td>NT_176871.1_300000</td>\n",
       "      <td>0.414016</td>\n",
       "      <td>0.285714</td>\n",
       "      <td>386</td>\n",
       "      <td>210</td>\n",
       "      <td>85</td>\n",
       "      <td>681</td>\n",
       "      <td>235</td>\n",
       "      <td>108</td>\n",
       "      <td>33</td>\n",
       "      <td>37</td>\n",
       "    </tr>\n",
       "    <tr>\n",
       "      <th>4</th>\n",
       "      <td>NT_176837.1_300000</td>\n",
       "      <td>0.563966</td>\n",
       "      <td>0.444444</td>\n",
       "      <td>566</td>\n",
       "      <td>368</td>\n",
       "      <td>117</td>\n",
       "      <td>1051</td>\n",
       "      <td>289</td>\n",
       "      <td>152</td>\n",
       "      <td>97</td>\n",
       "      <td>87</td>\n",
       "    </tr>\n",
       "  </tbody>\n",
       "</table>\n",
       "</div>"
      ],
      "text/plain": [
       "                    ID   r2_mean  r2_median  SW_Total  WS_Total  NN_Total  \\\n",
       "0   NT_177880.1_900000  0.478757   0.428571       471       304       101   \n",
       "1  NT_179893.1_1300000  0.549740   0.428571       353       197        68   \n",
       "2   NT_176548.1_300000  0.464233   0.428571       371       133        54   \n",
       "3   NT_176871.1_300000  0.414016   0.285714       386       210        85   \n",
       "4   NT_176837.1_300000  0.563966   0.444444       566       368       117   \n",
       "\n",
       "   SNP_Total  SW_Rare  WS_Rare  SW_Common  WS_Common  \n",
       "0        876      262      119         71         87  \n",
       "1        618      208       89         54         53  \n",
       "2        558      245       69         22         26  \n",
       "3        681      235      108         33         37  \n",
       "4       1051      289      152         97         87  "
      ]
     },
     "execution_count": 55,
     "metadata": {},
     "output_type": "execute_result"
    }
   ],
   "source": [
    "Bombus_df = pd.read_csv('/home/taeyoon/GCContent/BombusDataframe.csv')\n",
    "Bombus_df.head()"
   ]
  },
  {
   "cell_type": "code",
   "execution_count": 56,
   "metadata": {},
   "outputs": [
    {
     "data": {
      "text/html": [
       "<div>\n",
       "<style scoped>\n",
       "    .dataframe tbody tr th:only-of-type {\n",
       "        vertical-align: middle;\n",
       "    }\n",
       "\n",
       "    .dataframe tbody tr th {\n",
       "        vertical-align: top;\n",
       "    }\n",
       "\n",
       "    .dataframe thead th {\n",
       "        text-align: right;\n",
       "    }\n",
       "</style>\n",
       "<table border=\"1\" class=\"dataframe\">\n",
       "  <thead>\n",
       "    <tr style=\"text-align: right;\">\n",
       "      <th></th>\n",
       "      <th>ID</th>\n",
       "      <th>GC_Content</th>\n",
       "    </tr>\n",
       "  </thead>\n",
       "  <tbody>\n",
       "    <tr>\n",
       "      <th>0</th>\n",
       "      <td>NT_176427.1_0</td>\n",
       "      <td>0.296453</td>\n",
       "    </tr>\n",
       "    <tr>\n",
       "      <th>1</th>\n",
       "      <td>NT_176427.1_100000</td>\n",
       "      <td>0.260573</td>\n",
       "    </tr>\n",
       "    <tr>\n",
       "      <th>2</th>\n",
       "      <td>NT_176427.1_200000</td>\n",
       "      <td>0.296548</td>\n",
       "    </tr>\n",
       "    <tr>\n",
       "      <th>3</th>\n",
       "      <td>NT_176429.1_0</td>\n",
       "      <td>0.369374</td>\n",
       "    </tr>\n",
       "    <tr>\n",
       "      <th>4</th>\n",
       "      <td>NT_176429.1_100000</td>\n",
       "      <td>0.401534</td>\n",
       "    </tr>\n",
       "  </tbody>\n",
       "</table>\n",
       "</div>"
      ],
      "text/plain": [
       "                   ID  GC_Content\n",
       "0       NT_176427.1_0    0.296453\n",
       "1  NT_176427.1_100000    0.260573\n",
       "2  NT_176427.1_200000    0.296548\n",
       "3       NT_176429.1_0    0.369374\n",
       "4  NT_176429.1_100000    0.401534"
      ]
     },
     "execution_count": 56,
     "metadata": {},
     "output_type": "execute_result"
    }
   ],
   "source": [
    "Bombus_GC = pd.read_csv('/home/taeyoon/GCContent/BimpGC_ready.csv', sep='\\t')\n",
    "Bombus_GC.head()"
   ]
  },
  {
   "cell_type": "code",
   "execution_count": 57,
   "metadata": {},
   "outputs": [],
   "source": [
    "#merge!\n",
    "Bombus_big_df = pd.merge(Bombus_df, Bombus_GC, how='left', on=['ID'])\n",
    "#merge on key only present in Bombus_df, if the particular window exists in GC_df only, I don't want it."
   ]
  },
  {
   "cell_type": "code",
   "execution_count": 58,
   "metadata": {},
   "outputs": [
    {
     "data": {
      "text/html": [
       "<div>\n",
       "<style scoped>\n",
       "    .dataframe tbody tr th:only-of-type {\n",
       "        vertical-align: middle;\n",
       "    }\n",
       "\n",
       "    .dataframe tbody tr th {\n",
       "        vertical-align: top;\n",
       "    }\n",
       "\n",
       "    .dataframe thead th {\n",
       "        text-align: right;\n",
       "    }\n",
       "</style>\n",
       "<table border=\"1\" class=\"dataframe\">\n",
       "  <thead>\n",
       "    <tr style=\"text-align: right;\">\n",
       "      <th></th>\n",
       "      <th>ID</th>\n",
       "      <th>r2_mean</th>\n",
       "      <th>r2_median</th>\n",
       "      <th>SW_Total</th>\n",
       "      <th>WS_Total</th>\n",
       "      <th>NN_Total</th>\n",
       "      <th>SNP_Total</th>\n",
       "      <th>SW_Rare</th>\n",
       "      <th>WS_Rare</th>\n",
       "      <th>SW_Common</th>\n",
       "      <th>WS_Common</th>\n",
       "      <th>GC_Content</th>\n",
       "    </tr>\n",
       "  </thead>\n",
       "  <tbody>\n",
       "    <tr>\n",
       "      <th>0</th>\n",
       "      <td>NT_177880.1_900000</td>\n",
       "      <td>0.478757</td>\n",
       "      <td>0.428571</td>\n",
       "      <td>471</td>\n",
       "      <td>304</td>\n",
       "      <td>101</td>\n",
       "      <td>876</td>\n",
       "      <td>262</td>\n",
       "      <td>119</td>\n",
       "      <td>71</td>\n",
       "      <td>87</td>\n",
       "      <td>0.351114</td>\n",
       "    </tr>\n",
       "    <tr>\n",
       "      <th>1</th>\n",
       "      <td>NT_179893.1_1300000</td>\n",
       "      <td>0.549740</td>\n",
       "      <td>0.428571</td>\n",
       "      <td>353</td>\n",
       "      <td>197</td>\n",
       "      <td>68</td>\n",
       "      <td>618</td>\n",
       "      <td>208</td>\n",
       "      <td>89</td>\n",
       "      <td>54</td>\n",
       "      <td>53</td>\n",
       "      <td>0.360864</td>\n",
       "    </tr>\n",
       "    <tr>\n",
       "      <th>2</th>\n",
       "      <td>NT_176548.1_300000</td>\n",
       "      <td>0.464233</td>\n",
       "      <td>0.428571</td>\n",
       "      <td>371</td>\n",
       "      <td>133</td>\n",
       "      <td>54</td>\n",
       "      <td>558</td>\n",
       "      <td>245</td>\n",
       "      <td>69</td>\n",
       "      <td>22</td>\n",
       "      <td>26</td>\n",
       "      <td>0.489595</td>\n",
       "    </tr>\n",
       "    <tr>\n",
       "      <th>3</th>\n",
       "      <td>NT_176871.1_300000</td>\n",
       "      <td>0.414016</td>\n",
       "      <td>0.285714</td>\n",
       "      <td>386</td>\n",
       "      <td>210</td>\n",
       "      <td>85</td>\n",
       "      <td>681</td>\n",
       "      <td>235</td>\n",
       "      <td>108</td>\n",
       "      <td>33</td>\n",
       "      <td>37</td>\n",
       "      <td>0.399884</td>\n",
       "    </tr>\n",
       "    <tr>\n",
       "      <th>4</th>\n",
       "      <td>NT_176837.1_300000</td>\n",
       "      <td>0.563966</td>\n",
       "      <td>0.444444</td>\n",
       "      <td>566</td>\n",
       "      <td>368</td>\n",
       "      <td>117</td>\n",
       "      <td>1051</td>\n",
       "      <td>289</td>\n",
       "      <td>152</td>\n",
       "      <td>97</td>\n",
       "      <td>87</td>\n",
       "      <td>0.360534</td>\n",
       "    </tr>\n",
       "  </tbody>\n",
       "</table>\n",
       "</div>"
      ],
      "text/plain": [
       "                    ID   r2_mean  r2_median  SW_Total  WS_Total  NN_Total  \\\n",
       "0   NT_177880.1_900000  0.478757   0.428571       471       304       101   \n",
       "1  NT_179893.1_1300000  0.549740   0.428571       353       197        68   \n",
       "2   NT_176548.1_300000  0.464233   0.428571       371       133        54   \n",
       "3   NT_176871.1_300000  0.414016   0.285714       386       210        85   \n",
       "4   NT_176837.1_300000  0.563966   0.444444       566       368       117   \n",
       "\n",
       "   SNP_Total  SW_Rare  WS_Rare  SW_Common  WS_Common  GC_Content  \n",
       "0        876      262      119         71         87    0.351114  \n",
       "1        618      208       89         54         53    0.360864  \n",
       "2        558      245       69         22         26    0.489595  \n",
       "3        681      235      108         33         37    0.399884  \n",
       "4       1051      289      152         97         87    0.360534  "
      ]
     },
     "execution_count": 58,
     "metadata": {},
     "output_type": "execute_result"
    }
   ],
   "source": [
    "Bombus_big_df.head()"
   ]
  },
  {
   "cell_type": "markdown",
   "metadata": {},
   "source": [
    "#### Graph, GC and R^2 relationship"
   ]
  },
  {
   "cell_type": "code",
   "execution_count": 27,
   "metadata": {},
   "outputs": [
    {
     "data": {
      "text/plain": [
       "<Figure size 1152x432 with 0 Axes>"
      ]
     },
     "execution_count": 27,
     "metadata": {},
     "output_type": "execute_result"
    },
    {
     "data": {
      "text/plain": [
       "(0, 1)"
      ]
     },
     "execution_count": 27,
     "metadata": {},
     "output_type": "execute_result"
    },
    {
     "name": "stderr",
     "output_type": "stream",
     "text": [
      "/home/taeyoon/miniconda3/lib/python3.6/site-packages/scipy/stats/stats.py:1713: FutureWarning: Using a non-tuple sequence for multidimensional indexing is deprecated; use `arr[tuple(seq)]` instead of `arr[seq]`. In the future this will be interpreted as an array index, `arr[np.array(seq)]`, which will result either in an error or a different result.\n",
      "  return np.add.reduce(sorted[indexer] * weights, axis=axis) / sumval\n"
     ]
    },
    {
     "data": {
      "text/plain": [
       "<matplotlib.axes._subplots.AxesSubplot at 0x7f632b56b240>"
      ]
     },
     "execution_count": 27,
     "metadata": {},
     "output_type": "execute_result"
    },
    {
     "data": {
      "text/plain": [
       "LinregressResult(slope=-0.06473529250983949, intercept=0.40962442138891564, rvalue=-0.24413293739214795, pvalue=3.5344677930762416e-33, stderr=0.005311192458210555)"
      ]
     },
     "execution_count": 27,
     "metadata": {},
     "output_type": "execute_result"
    },
    {
     "data": {
      "image/png": "[encoded data removed]",
      "text/plain": [
       "<Figure size 1152x432 with 1 Axes>"
      ]
     },
     "metadata": {},
     "output_type": "display_data"
    }
   ],
   "source": [
    "plt.figure(figsize=(16,6))\n",
    "plt.xlim(0,1)\n",
    "sns.regplot(Bombus_big_df['r2_mean'], Bombus_big_df['GC_Content'], marker=\"+\", scatter_kws={'alpha':0.3}) #blue\n",
    "scipy.stats.linregress(Bombus_big_df['r2_mean'], Bombus_big_df['GC_Content'])"
   ]
  },
  {
   "cell_type": "markdown",
   "metadata": {},
   "source": [
    "### Merge Dataframe, Pdom"
   ]
  },
  {
   "cell_type": "code",
   "execution_count": 59,
   "metadata": {},
   "outputs": [
    {
     "data": {
      "text/html": [
       "<div>\n",
       "<style scoped>\n",
       "    .dataframe tbody tr th:only-of-type {\n",
       "        vertical-align: middle;\n",
       "    }\n",
       "\n",
       "    .dataframe tbody tr th {\n",
       "        vertical-align: top;\n",
       "    }\n",
       "\n",
       "    .dataframe thead th {\n",
       "        text-align: right;\n",
       "    }\n",
       "</style>\n",
       "<table border=\"1\" class=\"dataframe\">\n",
       "  <thead>\n",
       "    <tr style=\"text-align: right;\">\n",
       "      <th></th>\n",
       "      <th>ID</th>\n",
       "      <th>r2_mean</th>\n",
       "      <th>r2_median</th>\n",
       "      <th>SW_Total</th>\n",
       "      <th>WS_Total</th>\n",
       "      <th>NN_Total</th>\n",
       "      <th>SNP_Total</th>\n",
       "      <th>SW_Rare</th>\n",
       "      <th>WS_Rare</th>\n",
       "      <th>SW_Common</th>\n",
       "      <th>WS_Common</th>\n",
       "    </tr>\n",
       "  </thead>\n",
       "  <tbody>\n",
       "    <tr>\n",
       "      <th>0</th>\n",
       "      <td>PdomSCFr1.2-0173_100000</td>\n",
       "      <td>0.246808</td>\n",
       "      <td>0.079546</td>\n",
       "      <td>688</td>\n",
       "      <td>456</td>\n",
       "      <td>327</td>\n",
       "      <td>1471</td>\n",
       "      <td>384</td>\n",
       "      <td>186</td>\n",
       "      <td>82</td>\n",
       "      <td>105</td>\n",
       "    </tr>\n",
       "    <tr>\n",
       "      <th>1</th>\n",
       "      <td>PdomSCFr1.2-0115_200000</td>\n",
       "      <td>0.251666</td>\n",
       "      <td>0.092593</td>\n",
       "      <td>851</td>\n",
       "      <td>648</td>\n",
       "      <td>391</td>\n",
       "      <td>1890</td>\n",
       "      <td>454</td>\n",
       "      <td>271</td>\n",
       "      <td>118</td>\n",
       "      <td>138</td>\n",
       "    </tr>\n",
       "    <tr>\n",
       "      <th>2</th>\n",
       "      <td>PdomSCFr1.2-0030_300000</td>\n",
       "      <td>0.396516</td>\n",
       "      <td>0.200820</td>\n",
       "      <td>236</td>\n",
       "      <td>154</td>\n",
       "      <td>108</td>\n",
       "      <td>498</td>\n",
       "      <td>105</td>\n",
       "      <td>60</td>\n",
       "      <td>16</td>\n",
       "      <td>17</td>\n",
       "    </tr>\n",
       "    <tr>\n",
       "      <th>3</th>\n",
       "      <td>PdomSCFr1.2-0025_2000000</td>\n",
       "      <td>0.335720</td>\n",
       "      <td>0.111111</td>\n",
       "      <td>756</td>\n",
       "      <td>471</td>\n",
       "      <td>309</td>\n",
       "      <td>1536</td>\n",
       "      <td>503</td>\n",
       "      <td>266</td>\n",
       "      <td>91</td>\n",
       "      <td>105</td>\n",
       "    </tr>\n",
       "    <tr>\n",
       "      <th>4</th>\n",
       "      <td>PdomSCFr1.2-0034_1400000</td>\n",
       "      <td>0.252937</td>\n",
       "      <td>0.079365</td>\n",
       "      <td>626</td>\n",
       "      <td>456</td>\n",
       "      <td>246</td>\n",
       "      <td>1328</td>\n",
       "      <td>395</td>\n",
       "      <td>206</td>\n",
       "      <td>57</td>\n",
       "      <td>104</td>\n",
       "    </tr>\n",
       "  </tbody>\n",
       "</table>\n",
       "</div>"
      ],
      "text/plain": [
       "                         ID   r2_mean  r2_median  SW_Total  WS_Total  \\\n",
       "0   PdomSCFr1.2-0173_100000  0.246808   0.079546       688       456   \n",
       "1   PdomSCFr1.2-0115_200000  0.251666   0.092593       851       648   \n",
       "2   PdomSCFr1.2-0030_300000  0.396516   0.200820       236       154   \n",
       "3  PdomSCFr1.2-0025_2000000  0.335720   0.111111       756       471   \n",
       "4  PdomSCFr1.2-0034_1400000  0.252937   0.079365       626       456   \n",
       "\n",
       "   NN_Total  SNP_Total  SW_Rare  WS_Rare  SW_Common  WS_Common  \n",
       "0       327       1471      384      186         82        105  \n",
       "1       391       1890      454      271        118        138  \n",
       "2       108        498      105       60         16         17  \n",
       "3       309       1536      503      266         91        105  \n",
       "4       246       1328      395      206         57        104  "
      ]
     },
     "execution_count": 59,
     "metadata": {},
     "output_type": "execute_result"
    }
   ],
   "source": [
    "Polistes_df = pd.read_csv('/home/taeyoon/GCContent/PolistesDataframe.csv')\n",
    "Polistes_df.head()"
   ]
  },
  {
   "cell_type": "code",
   "execution_count": 60,
   "metadata": {},
   "outputs": [
    {
     "data": {
      "text/html": [
       "<div>\n",
       "<style scoped>\n",
       "    .dataframe tbody tr th:only-of-type {\n",
       "        vertical-align: middle;\n",
       "    }\n",
       "\n",
       "    .dataframe tbody tr th {\n",
       "        vertical-align: top;\n",
       "    }\n",
       "\n",
       "    .dataframe thead th {\n",
       "        text-align: right;\n",
       "    }\n",
       "</style>\n",
       "<table border=\"1\" class=\"dataframe\">\n",
       "  <thead>\n",
       "    <tr style=\"text-align: right;\">\n",
       "      <th></th>\n",
       "      <th>ID</th>\n",
       "      <th>GC_Content</th>\n",
       "    </tr>\n",
       "  </thead>\n",
       "  <tbody>\n",
       "    <tr>\n",
       "      <th>0</th>\n",
       "      <td>PdomSCFr1.2-0001_0</td>\n",
       "      <td>0.392744</td>\n",
       "    </tr>\n",
       "    <tr>\n",
       "      <th>1</th>\n",
       "      <td>PdomSCFr1.2-0001_100000</td>\n",
       "      <td>0.415594</td>\n",
       "    </tr>\n",
       "    <tr>\n",
       "      <th>2</th>\n",
       "      <td>PdomSCFr1.2-0001_200000</td>\n",
       "      <td>0.350644</td>\n",
       "    </tr>\n",
       "    <tr>\n",
       "      <th>3</th>\n",
       "      <td>PdomSCFr1.2-0001_300000</td>\n",
       "      <td>0.321123</td>\n",
       "    </tr>\n",
       "    <tr>\n",
       "      <th>4</th>\n",
       "      <td>PdomSCFr1.2-0001_400000</td>\n",
       "      <td>0.327853</td>\n",
       "    </tr>\n",
       "  </tbody>\n",
       "</table>\n",
       "</div>"
      ],
      "text/plain": [
       "                        ID  GC_Content\n",
       "0       PdomSCFr1.2-0001_0    0.392744\n",
       "1  PdomSCFr1.2-0001_100000    0.415594\n",
       "2  PdomSCFr1.2-0001_200000    0.350644\n",
       "3  PdomSCFr1.2-0001_300000    0.321123\n",
       "4  PdomSCFr1.2-0001_400000    0.327853"
      ]
     },
     "execution_count": 60,
     "metadata": {},
     "output_type": "execute_result"
    }
   ],
   "source": [
    "Polistes_GC = pd.read_csv('/home/taeyoon/GCContent/PdomGC_ready.csv', sep='\\t')\n",
    "Polistes_GC.head()"
   ]
  },
  {
   "cell_type": "code",
   "execution_count": 61,
   "metadata": {},
   "outputs": [
    {
     "data": {
      "text/html": [
       "<div>\n",
       "<style scoped>\n",
       "    .dataframe tbody tr th:only-of-type {\n",
       "        vertical-align: middle;\n",
       "    }\n",
       "\n",
       "    .dataframe tbody tr th {\n",
       "        vertical-align: top;\n",
       "    }\n",
       "\n",
       "    .dataframe thead th {\n",
       "        text-align: right;\n",
       "    }\n",
       "</style>\n",
       "<table border=\"1\" class=\"dataframe\">\n",
       "  <thead>\n",
       "    <tr style=\"text-align: right;\">\n",
       "      <th></th>\n",
       "      <th>ID</th>\n",
       "      <th>r2_mean</th>\n",
       "      <th>r2_median</th>\n",
       "      <th>SW_Total</th>\n",
       "      <th>WS_Total</th>\n",
       "      <th>NN_Total</th>\n",
       "      <th>SNP_Total</th>\n",
       "      <th>SW_Rare</th>\n",
       "      <th>WS_Rare</th>\n",
       "      <th>SW_Common</th>\n",
       "      <th>WS_Common</th>\n",
       "      <th>GC_Content</th>\n",
       "    </tr>\n",
       "  </thead>\n",
       "  <tbody>\n",
       "    <tr>\n",
       "      <th>0</th>\n",
       "      <td>PdomSCFr1.2-0173_100000</td>\n",
       "      <td>0.246808</td>\n",
       "      <td>0.079546</td>\n",
       "      <td>688</td>\n",
       "      <td>456</td>\n",
       "      <td>327</td>\n",
       "      <td>1471</td>\n",
       "      <td>384</td>\n",
       "      <td>186</td>\n",
       "      <td>82</td>\n",
       "      <td>105</td>\n",
       "      <td>0.289281</td>\n",
       "    </tr>\n",
       "    <tr>\n",
       "      <th>1</th>\n",
       "      <td>PdomSCFr1.2-0115_200000</td>\n",
       "      <td>0.251666</td>\n",
       "      <td>0.092593</td>\n",
       "      <td>851</td>\n",
       "      <td>648</td>\n",
       "      <td>391</td>\n",
       "      <td>1890</td>\n",
       "      <td>454</td>\n",
       "      <td>271</td>\n",
       "      <td>118</td>\n",
       "      <td>138</td>\n",
       "      <td>0.233172</td>\n",
       "    </tr>\n",
       "    <tr>\n",
       "      <th>2</th>\n",
       "      <td>PdomSCFr1.2-0030_300000</td>\n",
       "      <td>0.396516</td>\n",
       "      <td>0.200820</td>\n",
       "      <td>236</td>\n",
       "      <td>154</td>\n",
       "      <td>108</td>\n",
       "      <td>498</td>\n",
       "      <td>105</td>\n",
       "      <td>60</td>\n",
       "      <td>16</td>\n",
       "      <td>17</td>\n",
       "      <td>0.273633</td>\n",
       "    </tr>\n",
       "    <tr>\n",
       "      <th>3</th>\n",
       "      <td>PdomSCFr1.2-0025_2000000</td>\n",
       "      <td>0.335720</td>\n",
       "      <td>0.111111</td>\n",
       "      <td>756</td>\n",
       "      <td>471</td>\n",
       "      <td>309</td>\n",
       "      <td>1536</td>\n",
       "      <td>503</td>\n",
       "      <td>266</td>\n",
       "      <td>91</td>\n",
       "      <td>105</td>\n",
       "      <td>0.308193</td>\n",
       "    </tr>\n",
       "    <tr>\n",
       "      <th>4</th>\n",
       "      <td>PdomSCFr1.2-0034_1400000</td>\n",
       "      <td>0.252937</td>\n",
       "      <td>0.079365</td>\n",
       "      <td>626</td>\n",
       "      <td>456</td>\n",
       "      <td>246</td>\n",
       "      <td>1328</td>\n",
       "      <td>395</td>\n",
       "      <td>206</td>\n",
       "      <td>57</td>\n",
       "      <td>104</td>\n",
       "      <td>0.336833</td>\n",
       "    </tr>\n",
       "  </tbody>\n",
       "</table>\n",
       "</div>"
      ],
      "text/plain": [
       "                         ID   r2_mean  r2_median  SW_Total  WS_Total  \\\n",
       "0   PdomSCFr1.2-0173_100000  0.246808   0.079546       688       456   \n",
       "1   PdomSCFr1.2-0115_200000  0.251666   0.092593       851       648   \n",
       "2   PdomSCFr1.2-0030_300000  0.396516   0.200820       236       154   \n",
       "3  PdomSCFr1.2-0025_2000000  0.335720   0.111111       756       471   \n",
       "4  PdomSCFr1.2-0034_1400000  0.252937   0.079365       626       456   \n",
       "\n",
       "   NN_Total  SNP_Total  SW_Rare  WS_Rare  SW_Common  WS_Common  GC_Content  \n",
       "0       327       1471      384      186         82        105    0.289281  \n",
       "1       391       1890      454      271        118        138    0.233172  \n",
       "2       108        498      105       60         16         17    0.273633  \n",
       "3       309       1536      503      266         91        105    0.308193  \n",
       "4       246       1328      395      206         57        104    0.336833  "
      ]
     },
     "execution_count": 61,
     "metadata": {},
     "output_type": "execute_result"
    }
   ],
   "source": [
    "#merge!\n",
    "Polistes_big_df = pd.merge(Polistes_df, Polistes_GC, how='left', on=['ID'])\n",
    "Polistes_big_df.head()"
   ]
  },
  {
   "cell_type": "code",
   "execution_count": 62,
   "metadata": {},
   "outputs": [
    {
     "data": {
      "text/plain": [
       "2095"
      ]
     },
     "execution_count": 62,
     "metadata": {},
     "output_type": "execute_result"
    }
   ],
   "source": [
    "len(Polistes_big_df)"
   ]
  },
  {
   "cell_type": "code",
   "execution_count": 63,
   "metadata": {},
   "outputs": [],
   "source": [
    "Polistes_big_df.dropna();"
   ]
  },
  {
   "cell_type": "code",
   "execution_count": 64,
   "metadata": {},
   "outputs": [
    {
     "data": {
      "text/plain": [
       "2095"
      ]
     },
     "execution_count": 64,
     "metadata": {},
     "output_type": "execute_result"
    }
   ],
   "source": [
    "len(Polistes_big_df) #drop na does not reduce length. No NaN present in the original dataframe"
   ]
  },
  {
   "cell_type": "markdown",
   "metadata": {},
   "source": [
    "#### Graph relationship between R2 mean and GC%"
   ]
  },
  {
   "cell_type": "code",
   "execution_count": 65,
   "metadata": {},
   "outputs": [
    {
     "data": {
      "text/plain": [
       "<Figure size 1152x432 with 0 Axes>"
      ]
     },
     "execution_count": 65,
     "metadata": {},
     "output_type": "execute_result"
    },
    {
     "data": {
      "text/plain": [
       "(0, 1)"
      ]
     },
     "execution_count": 65,
     "metadata": {},
     "output_type": "execute_result"
    },
    {
     "name": "stderr",
     "output_type": "stream",
     "text": [
      "/home/taeyoon/miniconda3/lib/python3.6/site-packages/scipy/stats/stats.py:1713: FutureWarning: Using a non-tuple sequence for multidimensional indexing is deprecated; use `arr[tuple(seq)]` instead of `arr[seq]`. In the future this will be interpreted as an array index, `arr[np.array(seq)]`, which will result either in an error or a different result.\n",
      "  return np.add.reduce(sorted[indexer] * weights, axis=axis) / sumval\n"
     ]
    },
    {
     "data": {
      "text/plain": [
       "<matplotlib.axes._subplots.AxesSubplot at 0x7f63292d2f28>"
      ]
     },
     "execution_count": 65,
     "metadata": {},
     "output_type": "execute_result"
    },
    {
     "data": {
      "text/plain": [
       "LinregressResult(slope=-0.032637799087265454, intercept=0.3071118579967254, rvalue=-0.10663923519585225, pvalue=9.979390992104604e-07, stderr=0.006651746628016832)"
      ]
     },
     "execution_count": 65,
     "metadata": {},
     "output_type": "execute_result"
    },
    {
     "data": {
      "image/png": "[encoded data removed]",
      "text/plain": [
       "<Figure size 1152x432 with 1 Axes>"
      ]
     },
     "metadata": {},
     "output_type": "display_data"
    }
   ],
   "source": [
    "plt.figure(figsize=(16,6))\n",
    "plt.xlim(0,1)\n",
    "sns.regplot(Polistes_big_df['r2_mean'], Polistes_big_df['GC_Content'], marker=\"+\", scatter_kws={'alpha':0.3}) #blue\n",
    "scipy.stats.linregress(Polistes_big_df['r2_mean'], Polistes_big_df['GC_Content'])"
   ]
  },
  {
   "cell_type": "markdown",
   "metadata": {},
   "source": [
    "### Combined Graph"
   ]
  },
  {
   "cell_type": "code",
   "execution_count": 72,
   "metadata": {},
   "outputs": [
    {
     "data": {
      "text/plain": [
       "<Figure size 864x432 with 0 Axes>"
      ]
     },
     "execution_count": 72,
     "metadata": {},
     "output_type": "execute_result"
    },
    {
     "data": {
      "text/plain": [
       "(0, 1)"
      ]
     },
     "execution_count": 72,
     "metadata": {},
     "output_type": "execute_result"
    },
    {
     "data": {
      "text/plain": [
       "(0, 0.75)"
      ]
     },
     "execution_count": 72,
     "metadata": {},
     "output_type": "execute_result"
    },
    {
     "name": "stderr",
     "output_type": "stream",
     "text": [
      "/home/taeyoon/miniconda3/lib/python3.6/site-packages/scipy/stats/stats.py:1713: FutureWarning: Using a non-tuple sequence for multidimensional indexing is deprecated; use `arr[tuple(seq)]` instead of `arr[seq]`. In the future this will be interpreted as an array index, `arr[np.array(seq)]`, which will result either in an error or a different result.\n",
      "  return np.add.reduce(sorted[indexer] * weights, axis=axis) / sumval\n"
     ]
    },
    {
     "data": {
      "text/plain": [
       "<matplotlib.axes._subplots.AxesSubplot at 0x7f6328731240>"
      ]
     },
     "execution_count": 72,
     "metadata": {},
     "output_type": "execute_result"
    },
    {
     "data": {
      "text/plain": [
       "<matplotlib.axes._subplots.AxesSubplot at 0x7f6328731240>"
      ]
     },
     "execution_count": 72,
     "metadata": {},
     "output_type": "execute_result"
    },
    {
     "data": {
      "text/plain": [
       "Text(0,0.5,'GC% Content Per Window')"
      ]
     },
     "execution_count": 72,
     "metadata": {},
     "output_type": "execute_result"
    },
    {
     "data": {
      "text/plain": [
       "Text(0.5,0,'R^2 Mean')"
      ]
     },
     "execution_count": 72,
     "metadata": {},
     "output_type": "execute_result"
    },
    {
     "data": {
      "text/plain": [
       "<matplotlib.legend.Legend at 0x7f63292ea5f8>"
      ]
     },
     "execution_count": 72,
     "metadata": {},
     "output_type": "execute_result"
    },
    {
     "data": {
      "image/png": "[encoded data removed]",
      "text/plain": [
       "<Figure size 864x432 with 1 Axes>"
      ]
     },
     "metadata": {},
     "output_type": "display_data"
    }
   ],
   "source": [
    "plt.figure(figsize=(12,6))\n",
    "plt.xlim(0,1)\n",
    "plt.ylim(0,0.75)\n",
    "\n",
    "sns.regplot(Bombus_big_df['r2_mean'], Bombus_big_df['GC_Content'], marker=\"+\", \n",
    "            scatter_kws={'alpha':0.3}, label='Bombus') #blue\n",
    "\n",
    "sns.regplot(Polistes_big_df['r2_mean'], Polistes_big_df['GC_Content'], marker=\"+\", \n",
    "            scatter_kws={'alpha':0.3}, label='Polistes') #orange\n",
    "\n",
    "plt.ylabel('GC% Content Per Window')\n",
    "plt.xlabel('R^2 Mean')\n",
    "plt.legend(loc='upper right', prop={'size': 20}, markerscale=2)"
   ]
  },
  {
   "cell_type": "code",
   "execution_count": 67,
   "metadata": {},
   "outputs": [
    {
     "data": {
      "text/plain": [
       "LinregressResult(slope=-0.06473529250983949, intercept=0.40962442138891564, rvalue=-0.24413293739214795, pvalue=3.5344677930762416e-33, stderr=0.005311192458210555)"
      ]
     },
     "execution_count": 67,
     "metadata": {},
     "output_type": "execute_result"
    }
   ],
   "source": [
    "scipy.stats.linregress(Bombus_big_df['r2_mean'], Bombus_big_df['GC_Content']) #blue"
   ]
  },
  {
   "cell_type": "code",
   "execution_count": 68,
   "metadata": {},
   "outputs": [
    {
     "data": {
      "text/plain": [
       "LinregressResult(slope=-0.032637799087265454, intercept=0.3071118579967254, rvalue=-0.10663923519585225, pvalue=9.979390992104604e-07, stderr=0.006651746628016832)"
      ]
     },
     "execution_count": 68,
     "metadata": {},
     "output_type": "execute_result"
    }
   ],
   "source": [
    "scipy.stats.linregress(Polistes_big_df['r2_mean'], Polistes_big_df['GC_Content']) #orange"
   ]
  },
  {
   "cell_type": "code",
   "execution_count": 69,
   "metadata": {},
   "outputs": [
    {
     "data": {
      "text/plain": [
       "2095"
      ]
     },
     "execution_count": 69,
     "metadata": {},
     "output_type": "execute_result"
    }
   ],
   "source": [
    "len(Polistes_big_df)"
   ]
  },
  {
   "cell_type": "code",
   "execution_count": 38,
   "metadata": {},
   "outputs": [],
   "source": [
    "#Z-test for coefficients (slopes)\n",
    "def Z_score(slope1, std_error1, slope2, std_error2):\n",
    "    numerator = (slope1 - slope2)\n",
    "    denominator = pow((pow(std_error1,2) + pow(std_error2,2)), 1/2)\n",
    "    Z = (numerator) / (denominator)\n",
    "    return Z"
   ]
  },
  {
   "cell_type": "code",
   "execution_count": 71,
   "metadata": {},
   "outputs": [
    {
     "data": {
      "text/plain": [
       "-3.770842915106372"
      ]
     },
     "execution_count": 71,
     "metadata": {},
     "output_type": "execute_result"
    }
   ],
   "source": [
    "Z_score(-0.06473529250983949, 0.005311192458210555, -0.032637799087265454, 0.006651746628016832)\n",
    "#Z score is -3.770842915106372\n",
    "#p-value is 0.000163, reject null, slope difference is significant"
   ]
  }
 ],
 "metadata": {
  "kernelspec": {
   "display_name": "Python 3",
   "language": "python",
   "name": "python3"
  },
  "language_info": {
   "codemirror_mode": {
    "name": "ipython",
    "version": 3
   },
   "file_extension": ".py",
   "mimetype": "text/x-python",
   "name": "python",
   "nbconvert_exporter": "python",
   "pygments_lexer": "ipython3",
   "version": "3.6.3"
  }
 },
 "nbformat": 4,
 "nbformat_minor": 2
}
