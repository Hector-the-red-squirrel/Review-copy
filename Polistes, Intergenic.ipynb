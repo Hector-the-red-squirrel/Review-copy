{
 "cells": [
  {
   "cell_type": "code",
   "execution_count": 1,
   "metadata": {},
   "outputs": [],
   "source": [
    "import pandas as pd\n",
    "import matplotlib.pyplot as plt\n",
    "import seaborn as sns\n",
    "import scipy.stats\n",
    "import numpy as np\n",
    "import allel\n",
    "import itertools\n",
    "import os\n",
    "from subprocess import call\n",
    "from tqdm import tqdm, trange\n",
    "from scipy.stats import chi2_contingency\n",
    "\n",
    "import statsmodels.api as sm\n",
    "import statsmodels.formula.api as smf\n",
    "\n",
    "from IPython.core.interactiveshell import InteractiveShell\n",
    "InteractiveShell.ast_node_interactivity = \"all\" #allows multiple outputs"
   ]
  },
  {
   "cell_type": "markdown",
   "metadata": {},
   "source": [
    "### Classification Functions"
   ]
  },
  {
   "cell_type": "code",
   "execution_count": 2,
   "metadata": {},
   "outputs": [],
   "source": [
    "#AA caller, based on frequency.\n",
    "def AA_caller(frequency, reference, alternative):\n",
    "    if (frequency > 0.5):\n",
    "        return alternative\n",
    "    elif (frequency < 0.5):\n",
    "        return reference\n",
    "    else:\n",
    "        return np.nan"
   ]
  },
  {
   "cell_type": "code",
   "execution_count": 3,
   "metadata": {},
   "outputs": [],
   "source": [
    "#mutation direction classification\n",
    "strong_bases= ['G', 'C']\n",
    "weak_bases= ['A', 'T']\n",
    "\n",
    "def strength_classifier(ancestor, derived):\n",
    "    if (ancestor in strong_bases) and (derived in weak_bases):\n",
    "        return 'SW'\n",
    "    elif (ancestor in weak_bases) and (derived in strong_bases):\n",
    "        return 'WS'\n",
    "    else:\n",
    "        return 'NN'"
   ]
  },
  {
   "cell_type": "code",
   "execution_count": 4,
   "metadata": {},
   "outputs": [],
   "source": [
    "#Define frequency of the Derived State, the mutation\n",
    "#if ALT = Derived, keep the original AF, which describes the frequency of the ALT\n",
    "#if REF = Derived, use 1 - AF\n",
    "\n",
    "def mutation_frequency (Derived, ALT, AF):\n",
    "    if Derived == ALT: #this means derived is ALT, which AF is associated with\n",
    "        return AF\n",
    "    if Derived != ALT: #this means dervied is REF, which is inversely associated with AF\n",
    "        return (1-AF)\n",
    "    else:\n",
    "        return 'Error'"
   ]
  },
  {
   "cell_type": "code",
   "execution_count": 5,
   "metadata": {},
   "outputs": [],
   "source": [
    "#Ancestry based on allele frequency\n",
    "\n",
    "def barcoder(strength, frequency):\n",
    "    if (strength == 'SW') and (frequency <= 0.1):\n",
    "        return 'SW-Rare'\n",
    "    elif (strength == 'SW') and (0.25 <= frequency <= 0.5):\n",
    "        return 'SW-Common'\n",
    "    elif (strength == 'WS') and (frequency <= 0.1):\n",
    "        return 'WS-Rare'\n",
    "    elif (strength == 'WS') and (0.25 <= frequency <= 0.5):\n",
    "        return 'WS-Common'\n",
    "    else:\n",
    "        return 'NaN'"
   ]
  },
  {
   "cell_type": "markdown",
   "metadata": {},
   "source": [
    "### Polistes, INTERgenic"
   ]
  },
  {
   "cell_type": "code",
   "execution_count": 6,
   "metadata": {
    "scrolled": true
   },
   "outputs": [
    {
     "name": "stderr",
     "output_type": "stream",
     "text": [
      "/home/taeyoon/miniconda3/lib/python3.6/site-packages/ipykernel_launcher.py:12: SettingWithCopyWarning: \n",
      "A value is trying to be set on a copy of a slice from a DataFrame.\n",
      "Try using .loc[row_indexer,col_indexer] = value instead\n",
      "\n",
      "See the caveats in the documentation: http://pandas.pydata.org/pandas-docs/stable/indexing.html#indexing-view-versus-copy\n",
      "  if sys.path[0] == '':\n",
      "/home/taeyoon/miniconda3/lib/python3.6/site-packages/ipykernel_launcher.py:13: SettingWithCopyWarning: \n",
      "A value is trying to be set on a copy of a slice from a DataFrame.\n",
      "Try using .loc[row_indexer,col_indexer] = value instead\n",
      "\n",
      "See the caveats in the documentation: http://pandas.pydata.org/pandas-docs/stable/indexing.html#indexing-view-versus-copy\n",
      "  del sys.path[0]\n",
      "/home/taeyoon/miniconda3/lib/python3.6/site-packages/ipykernel_launcher.py:14: SettingWithCopyWarning: \n",
      "A value is trying to be set on a copy of a slice from a DataFrame.\n",
      "Try using .loc[row_indexer,col_indexer] = value instead\n",
      "\n",
      "See the caveats in the documentation: http://pandas.pydata.org/pandas-docs/stable/indexing.html#indexing-view-versus-copy\n",
      "  \n"
     ]
    }
   ],
   "source": [
    "Pdom_Intergenic_raw = pd.read_table('/home/taeyoon/VcfFiles/Annotated/Polistes-intergenic.recode.vcf', header=None, comment='#')\n",
    "\n",
    "Pdom_Intergenic_raw.rename(columns={0:\"SCAF\", \n",
    "    1:\"POS\", 2:\"ID\", 3:\"REF\", 4:\"ALT\", 5:\"QUAL\", 6:\"FILTER\", 7:\"INFO\", 8:\"FORMAT\", \n",
    "    9:\"1\", 10:\"10\", 11:\"11\", 12:\"2b\", 13:\"3\", 14:\"4\", 15:\"5\", 16:\"6\", 17:\"7\", 18:\"8\"}, inplace=True)\n",
    "\n",
    "items_used = [\"SCAF\", \"POS\", \"REF\", \"ALT\", \"INFO\"]\n",
    "\n",
    "Pdom_Intergenic_v1 = Pdom_Intergenic_raw[items_used]\n",
    "\n",
    "#split INFO to extract alternative frequency, denoted AF.\n",
    "Pdom_Intergenic_v1[\"preFREQ\"] = Pdom_Intergenic_v1[\"INFO\"].str.split(\"AF=\").str.get(1)\n",
    "Pdom_Intergenic_v1[\"FREQ\"] = Pdom_Intergenic_v1[\"preFREQ\"].str.split(\";\").str.get(0)\n",
    "Pdom_Intergenic_v1[\"AF\"] = Pdom_Intergenic_v1[\"FREQ\"].astype(float) #convert string to float, needs a new column\n",
    "\n",
    "#Drop rows with AF of 0 or 1\n",
    "Pdom_Intergenic_v1 = Pdom_Intergenic_v1[Pdom_Intergenic_v1[\"AF\"] != 0] #drop all that is 0\n",
    "Pdom_Intergenic_v1 = Pdom_Intergenic_v1[Pdom_Intergenic_v1[\"AF\"] != 1] #drop all that is 1\n",
    "\n",
    "#drop now useless columns, designate as v2\n",
    "Pdom_Intergenic_v2 = Pdom_Intergenic_v1.drop(columns=['INFO', 'preFREQ', 'FREQ'])"
   ]
  },
  {
   "cell_type": "code",
   "execution_count": 7,
   "metadata": {},
   "outputs": [
    {
     "data": {
      "text/html": [
       "<div>\n",
       "<style scoped>\n",
       "    .dataframe tbody tr th:only-of-type {\n",
       "        vertical-align: middle;\n",
       "    }\n",
       "\n",
       "    .dataframe tbody tr th {\n",
       "        vertical-align: top;\n",
       "    }\n",
       "\n",
       "    .dataframe thead th {\n",
       "        text-align: right;\n",
       "    }\n",
       "</style>\n",
       "<table border=\"1\" class=\"dataframe\">\n",
       "  <thead>\n",
       "    <tr style=\"text-align: right;\">\n",
       "      <th></th>\n",
       "      <th>Barcode</th>\n",
       "    </tr>\n",
       "  </thead>\n",
       "  <tbody>\n",
       "    <tr>\n",
       "      <th>NaN</th>\n",
       "      <td>710668</td>\n",
       "    </tr>\n",
       "    <tr>\n",
       "      <th>SW-Rare</th>\n",
       "      <td>578591</td>\n",
       "    </tr>\n",
       "    <tr>\n",
       "      <th>WS-Rare</th>\n",
       "      <td>302690</td>\n",
       "    </tr>\n",
       "    <tr>\n",
       "      <th>SW-Common</th>\n",
       "      <td>185378</td>\n",
       "    </tr>\n",
       "    <tr>\n",
       "      <th>WS-Common</th>\n",
       "      <td>152508</td>\n",
       "    </tr>\n",
       "  </tbody>\n",
       "</table>\n",
       "</div>"
      ],
      "text/plain": [
       "           Barcode\n",
       "NaN         710668\n",
       "SW-Rare     578591\n",
       "WS-Rare     302690\n",
       "SW-Common   185378\n",
       "WS-Common   152508"
      ]
     },
     "execution_count": 7,
     "metadata": {},
     "output_type": "execute_result"
    }
   ],
   "source": [
    "#finding AA\n",
    "Pdom_Intergenic_v2[\"AA\"] = Pdom_Intergenic_v2.apply(lambda row: AA_caller(row[\"AF\"], row[\"REF\"], row[\"ALT\"]), \n",
    "                                                    axis='columns')\n",
    "#finding derived, switch the last two kwarg positions\n",
    "Pdom_Intergenic_v2[\"Derived\"] = Pdom_Intergenic_v2.apply(lambda row: AA_caller(row[\"AF\"], row[\"ALT\"], row[\"REF\"]), \n",
    "                                                         axis='columns')\n",
    "\n",
    "#Mutation direction, kwarg in AA, derived order\n",
    "Pdom_Intergenic_v2['Strength'] = Pdom_Intergenic_v2.apply(lambda row: strength_classifier(row[\"AA\"], row[\"Derived\"]), \n",
    "                                                          axis='columns')\n",
    "\n",
    "#Mutation Frequency\n",
    "Pdom_Intergenic_v2['MF'] = Pdom_Intergenic_v2.apply(lambda row: mutation_frequency(row['Derived'], row['ALT'], row['AF']), \n",
    "                                    axis='columns')\n",
    "\n",
    "#the Barcode, spliting rare and common mutations, kwarg in strength, frequency order.\n",
    "Pdom_Intergenic_v2[\"Barcode\"] = Pdom_Intergenic_v2.apply(lambda row: barcoder(row[\"Strength\"], row[\"MF\"]), axis='columns')\n",
    "\n",
    "#get the values into a separate dataframe, avoids error downstream\n",
    "Pdom_Intergenic_values = pd.DataFrame(data = Pdom_Intergenic_v2['Barcode'].value_counts())\n",
    "Pdom_Intergenic_values.head()"
   ]
  },
  {
   "cell_type": "markdown",
   "metadata": {},
   "source": [
    "#### Stacked Bar Plot"
   ]
  },
  {
   "cell_type": "code",
   "execution_count": 8,
   "metadata": {},
   "outputs": [
    {
     "name": "stdout",
     "output_type": "stream",
     "text": [
      "302690\n"
     ]
    }
   ],
   "source": [
    "#Assign names for each category to use in making stacked bar plot\n",
    "Pdom_Intergenic_WS_R = Pdom_Intergenic_values['Barcode'].at['WS-Rare']\n",
    "Pdom_Intergenic_WS_C = Pdom_Intergenic_values['Barcode'].at['WS-Common']\n",
    "Pdom_Intergenic_SW_R = Pdom_Intergenic_values['Barcode'].at['SW-Rare']\n",
    "Pdom_Intergenic_SW_C = Pdom_Intergenic_values['Barcode'].at['SW-Common']\n",
    "print(Pdom_Intergenic_WS_R) #check for correct number\n",
    "#this one is unadjusted for GC%"
   ]
  },
  {
   "cell_type": "code",
   "execution_count": 12,
   "metadata": {},
   "outputs": [
    {
     "data": {
      "text/plain": [
       "Text(0,0.5,'Value Counts')"
      ]
     },
     "execution_count": 12,
     "metadata": {},
     "output_type": "execute_result"
    },
    {
     "data": {
      "text/plain": [
       "Text(0.5,1,'Prevalence of the mutation based on their direction')"
      ]
     },
     "execution_count": 12,
     "metadata": {},
     "output_type": "execute_result"
    },
    {
     "data": {
      "text/plain": [
       "([<matplotlib.axis.XTick at 0x7fcea3095c88>,\n",
       "  <matplotlib.axis.XTick at 0x7fcea30984a8>],\n",
       " <a list of 2 Text xticklabel objects>)"
      ]
     },
     "execution_count": 12,
     "metadata": {},
     "output_type": "execute_result"
    },
    {
     "data": {
      "text/plain": [
       "<matplotlib.legend.Legend at 0x7fcea3092048>"
      ]
     },
     "execution_count": 12,
     "metadata": {},
     "output_type": "execute_result"
    },
    {
     "data": {
      "image/png": "[encoded data removed]",
      "text/plain": [
       "<Figure size 432x288 with 1 Axes>"
      ]
     },
     "metadata": {},
     "output_type": "display_data"
    }
   ],
   "source": [
    "#Stacked bar graph\n",
    "N = 2\n",
    "Pdom_Intergenic_Common = (Pdom_Intergenic_WS_C, Pdom_Intergenic_SW_C)\n",
    "Pdom_Intergenic_Rare = (Pdom_Intergenic_WS_R, Pdom_Intergenic_SW_R)\n",
    "ind = np.arange(N) # the x locations for the groups\n",
    "width = 0.9 # the width of the bars: can also be len(x) sequence\n",
    "\n",
    "Pdom_Intergenic_p1 = plt.bar(ind, Pdom_Intergenic_Common, width)\n",
    "Pdom_Intergenic_p2 = plt.bar(ind, Pdom_Intergenic_Rare, width, bottom=Pdom_Intergenic_Common)\n",
    "\n",
    "plt.ylabel('Value Counts')\n",
    "plt.title('Prevalence of the mutation based on their direction')\n",
    "plt.xticks(ind, ('WS', 'SW'))\n",
    "#plt.yticks(np.arange(0, 500001, 100000))\n",
    "plt.legend((Pdom_Intergenic_p1[0], Pdom_Intergenic_p2[0]), ('Common(0.25-0.5)', 'Rare(0.1)'))\n",
    "\n",
    "plt.show()"
   ]
  },
  {
   "cell_type": "markdown",
   "metadata": {},
   "source": [
    "#### Chi-Square Test"
   ]
  },
  {
   "cell_type": "code",
   "execution_count": 10,
   "metadata": {},
   "outputs": [
    {
     "data": {
      "text/plain": [
       "(12151.923235207141, 0.0, 1, array([[552238.83544174, 211730.16455826],\n",
       "        [329042.16455826, 126155.83544174]]))"
      ]
     },
     "execution_count": 10,
     "metadata": {},
     "output_type": "execute_result"
    }
   ],
   "source": [
    "test = np.array ([[Pdom_Intergenic_SW_R, Pdom_Intergenic_SW_C], [Pdom_Intergenic_WS_R, Pdom_Intergenic_WS_C]]) \n",
    "#array setup: SW-Rare,Common and WS-Rare,Common\n",
    "chi2_contingency(test)\n",
    "#output is in the order of X-value, p-value, dof, and the array of expected"
   ]
  },
  {
   "cell_type": "markdown",
   "metadata": {},
   "source": [
    "#### Odd's Ratio"
   ]
  },
  {
   "cell_type": "code",
   "execution_count": 11,
   "metadata": {},
   "outputs": [
    {
     "name": "stdout",
     "output_type": "stream",
     "text": [
      "0.3203955816803234\n",
      "0.5038422148072286\n",
      "1.5725629303775486\n"
     ]
    }
   ],
   "source": [
    "#defined as (a*d)/(b*c) = OR\n",
    "#when C/R, OR for SW is:\n",
    "print(Pdom_Intergenic_SW_C/Pdom_Intergenic_SW_R)\n",
    "\n",
    "#OR for WS is:\n",
    "print(Pdom_Intergenic_WS_C/Pdom_Intergenic_WS_R)\n",
    "\n",
    "#OR overall, WS/SW is:\n",
    "print((Pdom_Intergenic_WS_C/Pdom_Intergenic_WS_R)/(Pdom_Intergenic_SW_C/Pdom_Intergenic_SW_R))\n"
   ]
  },
  {
   "cell_type": "code",
   "execution_count": null,
   "metadata": {},
   "outputs": [],
   "source": []
  }
 ],
 "metadata": {
  "kernelspec": {
   "display_name": "Python 3",
   "language": "python",
   "name": "python3"
  },
  "language_info": {
   "codemirror_mode": {
    "name": "ipython",
    "version": 3
   },
   "file_extension": ".py",
   "mimetype": "text/x-python",
   "name": "python",
   "nbconvert_exporter": "python",
   "pygments_lexer": "ipython3",
   "version": "3.6.3"
  }
 },
 "nbformat": 4,
 "nbformat_minor": 2
}
