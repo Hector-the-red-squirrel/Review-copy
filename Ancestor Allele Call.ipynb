{
 "cells": [
  {
   "cell_type": "code",
   "execution_count": 1,
   "metadata": {},
   "outputs": [],
   "source": [
    "import pandas as pd\n",
    "import matplotlib.pyplot as plt\n",
    "import seaborn as sns\n",
    "import scipy.stats as stats\n",
    "import numpy as np\n",
    "import allel\n",
    "import itertools\n",
    "from scipy.stats import chi2_contingency"
   ]
  },
  {
   "cell_type": "markdown",
   "metadata": {},
   "source": [
    "## Ancestor Allele Call based on Allele Frequency"
   ]
  },
  {
   "cell_type": "code",
   "execution_count": 2,
   "metadata": {},
   "outputs": [],
   "source": [
    "df = pd.read_table('/home/taeyoon/VcfFiles/bombus-impatiens-snps-final.vcf', sep ='\\t', header=None, comment='#')\n",
    "\n",
    "df.rename(columns={\n",
    "    0:\"scaffold\", 1:\"pos\", 2:\"id\", 3:\"ref\", 4:\"alt\", 5:\"quality\", 6:\"filter\", 7:\"info\", 8:\"header\",\n",
    "    9:\"1\", 10:\"10\", 11:\"11\", 12:\"2b\", 13:\"3\", 14:\"4\", 15:\"5\", 16:\"6\", 17:\"7\", 18:\"8\"}, inplace=True)"
   ]
  },
  {
   "cell_type": "code",
   "execution_count": 3,
   "metadata": {},
   "outputs": [],
   "source": [
    "column_picks= [\"scaffold\", \"pos\", \"ref\", \"alt\", \"info\"]\n",
    "GT_display= df[column_picks]"
   ]
  },
  {
   "cell_type": "code",
   "execution_count": 4,
   "metadata": {},
   "outputs": [
    {
     "data": {
      "text/html": [
       "<div>\n",
       "<style scoped>\n",
       "    .dataframe tbody tr th:only-of-type {\n",
       "        vertical-align: middle;\n",
       "    }\n",
       "\n",
       "    .dataframe tbody tr th {\n",
       "        vertical-align: top;\n",
       "    }\n",
       "\n",
       "    .dataframe thead th {\n",
       "        text-align: right;\n",
       "    }\n",
       "</style>\n",
       "<table border=\"1\" class=\"dataframe\">\n",
       "  <thead>\n",
       "    <tr style=\"text-align: right;\">\n",
       "      <th></th>\n",
       "      <th>scaffold</th>\n",
       "      <th>pos</th>\n",
       "      <th>ref</th>\n",
       "      <th>alt</th>\n",
       "      <th>info</th>\n",
       "    </tr>\n",
       "  </thead>\n",
       "  <tbody>\n",
       "    <tr>\n",
       "      <th>0</th>\n",
       "      <td>NT_176421.1</td>\n",
       "      <td>2767</td>\n",
       "      <td>G</td>\n",
       "      <td>T</td>\n",
       "      <td>AC=9;AF=1.00;AN=9;DP=64;FS=0.000;MLEAC=9;MLEAF...</td>\n",
       "    </tr>\n",
       "    <tr>\n",
       "      <th>1</th>\n",
       "      <td>NT_176421.1</td>\n",
       "      <td>3010</td>\n",
       "      <td>G</td>\n",
       "      <td>A</td>\n",
       "      <td>AC=10;AF=1.00;AN=10;BaseQRankSum=1.45;Clipping...</td>\n",
       "    </tr>\n",
       "    <tr>\n",
       "      <th>2</th>\n",
       "      <td>NT_176421.1</td>\n",
       "      <td>6525</td>\n",
       "      <td>C</td>\n",
       "      <td>T</td>\n",
       "      <td>AC=10;AF=1.00;AN=10;DP=62;FS=0.000;MLEAC=10;ML...</td>\n",
       "    </tr>\n",
       "    <tr>\n",
       "      <th>3</th>\n",
       "      <td>NT_176421.1</td>\n",
       "      <td>6633</td>\n",
       "      <td>T</td>\n",
       "      <td>A</td>\n",
       "      <td>AC=10;AF=1.00;AN=10;BaseQRankSum=1.59;Clipping...</td>\n",
       "    </tr>\n",
       "    <tr>\n",
       "      <th>4</th>\n",
       "      <td>NT_176421.1</td>\n",
       "      <td>6661</td>\n",
       "      <td>G</td>\n",
       "      <td>A</td>\n",
       "      <td>AC=10;AF=1.00;AN=10;DP=75;FS=0.000;MLEAC=10;ML...</td>\n",
       "    </tr>\n",
       "  </tbody>\n",
       "</table>\n",
       "</div>"
      ],
      "text/plain": [
       "      scaffold   pos ref alt  \\\n",
       "0  NT_176421.1  2767   G   T   \n",
       "1  NT_176421.1  3010   G   A   \n",
       "2  NT_176421.1  6525   C   T   \n",
       "3  NT_176421.1  6633   T   A   \n",
       "4  NT_176421.1  6661   G   A   \n",
       "\n",
       "                                                info  \n",
       "0  AC=9;AF=1.00;AN=9;DP=64;FS=0.000;MLEAC=9;MLEAF...  \n",
       "1  AC=10;AF=1.00;AN=10;BaseQRankSum=1.45;Clipping...  \n",
       "2  AC=10;AF=1.00;AN=10;DP=62;FS=0.000;MLEAC=10;ML...  \n",
       "3  AC=10;AF=1.00;AN=10;BaseQRankSum=1.59;Clipping...  \n",
       "4  AC=10;AF=1.00;AN=10;DP=75;FS=0.000;MLEAC=10;ML...  "
      ]
     },
     "execution_count": 4,
     "metadata": {},
     "output_type": "execute_result"
    }
   ],
   "source": [
    "GT_display.sort_values(by=['scaffold', 'pos']).head(5)"
   ]
  },
  {
   "cell_type": "markdown",
   "metadata": {},
   "source": [
    "### Split Info for frequency"
   ]
  },
  {
   "cell_type": "code",
   "execution_count": 5,
   "metadata": {},
   "outputs": [],
   "source": [
    "#Split the info column to extract AF value, results in string.\n",
    "df[\"info\"]= df[\"info\"].astype(str)\n",
    "df[\"info\"]= df[\"info\"].str.split(\";\", 2)\n",
    "df[\"AF\"]= df[\"info\"].str.get(1)"
   ]
  },
  {
   "cell_type": "code",
   "execution_count": 6,
   "metadata": {},
   "outputs": [
    {
     "data": {
      "text/plain": [
       "0     1.00\n",
       "1     1.00\n",
       "2     1.00\n",
       "3     1.00\n",
       "4     1.00\n",
       "5     1.00\n",
       "6    0.500\n",
       "7    0.100\n",
       "8    0.300\n",
       "9    0.100\n",
       "Name: AF_Value, dtype: object"
      ]
     },
     "execution_count": 6,
     "metadata": {},
     "output_type": "execute_result"
    }
   ],
   "source": [
    "df[\"AF\"]= df[\"AF\"].str.split(\"=\")\n",
    "df[\"AF_Value\"]= df[\"AF\"].str.get(1)\n",
    "df[\"AF_Value\"].head(10)"
   ]
  },
  {
   "cell_type": "code",
   "execution_count": 7,
   "metadata": {},
   "outputs": [],
   "source": [
    "#convert string to float, have to make a new category \"alt freq\"\n",
    "#otherwise, for some reason, AF_Value column will stay as 'object'\n",
    "df[\"Alt_Freq\"]= df[\"AF_Value\"].astype(float)"
   ]
  },
  {
   "cell_type": "code",
   "execution_count": 8,
   "metadata": {},
   "outputs": [],
   "source": [
    "column_picked_2= [\"scaffold\", \"pos\", \"ref\", \"alt\", \"Alt_Freq\"]\n",
    "Allele_and_AF= df[column_picked_2]"
   ]
  },
  {
   "cell_type": "code",
   "execution_count": 9,
   "metadata": {},
   "outputs": [
    {
     "data": {
      "text/html": [
       "<div>\n",
       "<style scoped>\n",
       "    .dataframe tbody tr th:only-of-type {\n",
       "        vertical-align: middle;\n",
       "    }\n",
       "\n",
       "    .dataframe tbody tr th {\n",
       "        vertical-align: top;\n",
       "    }\n",
       "\n",
       "    .dataframe thead th {\n",
       "        text-align: right;\n",
       "    }\n",
       "</style>\n",
       "<table border=\"1\" class=\"dataframe\">\n",
       "  <thead>\n",
       "    <tr style=\"text-align: right;\">\n",
       "      <th></th>\n",
       "      <th>scaffold</th>\n",
       "      <th>pos</th>\n",
       "      <th>ref</th>\n",
       "      <th>alt</th>\n",
       "      <th>Alt_Freq</th>\n",
       "    </tr>\n",
       "  </thead>\n",
       "  <tbody>\n",
       "    <tr>\n",
       "      <th>0</th>\n",
       "      <td>NT_176421.1</td>\n",
       "      <td>2767</td>\n",
       "      <td>G</td>\n",
       "      <td>T</td>\n",
       "      <td>1.0</td>\n",
       "    </tr>\n",
       "    <tr>\n",
       "      <th>1</th>\n",
       "      <td>NT_176421.1</td>\n",
       "      <td>3010</td>\n",
       "      <td>G</td>\n",
       "      <td>A</td>\n",
       "      <td>1.0</td>\n",
       "    </tr>\n",
       "    <tr>\n",
       "      <th>2</th>\n",
       "      <td>NT_176421.1</td>\n",
       "      <td>6525</td>\n",
       "      <td>C</td>\n",
       "      <td>T</td>\n",
       "      <td>1.0</td>\n",
       "    </tr>\n",
       "    <tr>\n",
       "      <th>3</th>\n",
       "      <td>NT_176421.1</td>\n",
       "      <td>6633</td>\n",
       "      <td>T</td>\n",
       "      <td>A</td>\n",
       "      <td>1.0</td>\n",
       "    </tr>\n",
       "    <tr>\n",
       "      <th>4</th>\n",
       "      <td>NT_176421.1</td>\n",
       "      <td>6661</td>\n",
       "      <td>G</td>\n",
       "      <td>A</td>\n",
       "      <td>1.0</td>\n",
       "    </tr>\n",
       "  </tbody>\n",
       "</table>\n",
       "</div>"
      ],
      "text/plain": [
       "      scaffold   pos ref alt  Alt_Freq\n",
       "0  NT_176421.1  2767   G   T       1.0\n",
       "1  NT_176421.1  3010   G   A       1.0\n",
       "2  NT_176421.1  6525   C   T       1.0\n",
       "3  NT_176421.1  6633   T   A       1.0\n",
       "4  NT_176421.1  6661   G   A       1.0"
      ]
     },
     "execution_count": 9,
     "metadata": {},
     "output_type": "execute_result"
    }
   ],
   "source": [
    "Allele_and_AF.sort_values(by=['scaffold', 'pos']).head(5)"
   ]
  },
  {
   "cell_type": "code",
   "execution_count": 10,
   "metadata": {},
   "outputs": [
    {
     "data": {
      "text/plain": [
       "scaffold     object\n",
       "pos           int64\n",
       "ref          object\n",
       "alt          object\n",
       "Alt_Freq    float64\n",
       "dtype: object"
      ]
     },
     "execution_count": 10,
     "metadata": {},
     "output_type": "execute_result"
    }
   ],
   "source": [
    "Allele_and_AF.dtypes"
   ]
  },
  {
   "cell_type": "code",
   "execution_count": 11,
   "metadata": {},
   "outputs": [
    {
     "data": {
      "text/plain": [
       "1790181"
      ]
     },
     "execution_count": 11,
     "metadata": {},
     "output_type": "execute_result"
    }
   ],
   "source": [
    "len(Allele_and_AF) #check initial length"
   ]
  },
  {
   "cell_type": "markdown",
   "metadata": {},
   "source": [
    "### Eliminate Alleles with 0 or 1 frequency"
   ]
  },
  {
   "cell_type": "code",
   "execution_count": 12,
   "metadata": {},
   "outputs": [],
   "source": [
    "Allele_and_AF_2 = Allele_and_AF[Allele_and_AF['Alt_Freq'] != 1.0]"
   ]
  },
  {
   "cell_type": "code",
   "execution_count": 13,
   "metadata": {},
   "outputs": [
    {
     "data": {
      "text/plain": [
       "1760159"
      ]
     },
     "execution_count": 13,
     "metadata": {},
     "output_type": "execute_result"
    }
   ],
   "source": [
    "len(Allele_and_AF_2) #check length without AF = 1"
   ]
  },
  {
   "cell_type": "code",
   "execution_count": 14,
   "metadata": {},
   "outputs": [],
   "source": [
    "Allele_and_AF_3 = Allele_and_AF_2[Allele_and_AF_2['Alt_Freq'] != 0]"
   ]
  },
  {
   "cell_type": "code",
   "execution_count": 15,
   "metadata": {},
   "outputs": [
    {
     "data": {
      "text/plain": [
       "1760159"
      ]
     },
     "execution_count": 15,
     "metadata": {},
     "output_type": "execute_result"
    }
   ],
   "source": [
    "len(Allele_and_AF_3) #check length without AF = 0"
   ]
  },
  {
   "cell_type": "markdown",
   "metadata": {},
   "source": [
    "### Call AA based on frequency"
   ]
  },
  {
   "cell_type": "code",
   "execution_count": 16,
   "metadata": {},
   "outputs": [],
   "source": [
    "#Ancestral Allele, determined based on frequency\n",
    "#cut off is 0.5, any sitting at 0.5 is discarded\n",
    "def AA_caller(frequency, reference, alternative):\n",
    "    if (frequency > 0.5):\n",
    "        return alternative\n",
    "    elif (frequency < 0.5):\n",
    "        return reference\n",
    "    else:\n",
    "        return np.nan"
   ]
  },
  {
   "cell_type": "code",
   "execution_count": 17,
   "metadata": {},
   "outputs": [],
   "source": [
    "#determine Ancestral Allele = AA\n",
    "Allele_and_AF_3[\"AA\"] = Allele_and_AF_3.apply(lambda row: AA_caller(row[\"Alt_Freq\"], row[\"ref\"], row[\"alt\"]), \n",
    "                                              axis= 'columns')"
   ]
  },
  {
   "cell_type": "code",
   "execution_count": 18,
   "metadata": {},
   "outputs": [
    {
     "data": {
      "text/html": [
       "<div>\n",
       "<style scoped>\n",
       "    .dataframe tbody tr th:only-of-type {\n",
       "        vertical-align: middle;\n",
       "    }\n",
       "\n",
       "    .dataframe tbody tr th {\n",
       "        vertical-align: top;\n",
       "    }\n",
       "\n",
       "    .dataframe thead th {\n",
       "        text-align: right;\n",
       "    }\n",
       "</style>\n",
       "<table border=\"1\" class=\"dataframe\">\n",
       "  <thead>\n",
       "    <tr style=\"text-align: right;\">\n",
       "      <th></th>\n",
       "      <th>scaffold</th>\n",
       "      <th>pos</th>\n",
       "      <th>ref</th>\n",
       "      <th>alt</th>\n",
       "      <th>Alt_Freq</th>\n",
       "      <th>AA</th>\n",
       "    </tr>\n",
       "  </thead>\n",
       "  <tbody>\n",
       "    <tr>\n",
       "      <th>6</th>\n",
       "      <td>NT_176421.1</td>\n",
       "      <td>7050</td>\n",
       "      <td>C</td>\n",
       "      <td>T</td>\n",
       "      <td>0.5</td>\n",
       "      <td>NaN</td>\n",
       "    </tr>\n",
       "    <tr>\n",
       "      <th>7</th>\n",
       "      <td>NT_176422.1</td>\n",
       "      <td>477</td>\n",
       "      <td>G</td>\n",
       "      <td>A</td>\n",
       "      <td>0.1</td>\n",
       "      <td>G</td>\n",
       "    </tr>\n",
       "    <tr>\n",
       "      <th>8</th>\n",
       "      <td>NT_176422.1</td>\n",
       "      <td>1173</td>\n",
       "      <td>G</td>\n",
       "      <td>A</td>\n",
       "      <td>0.3</td>\n",
       "      <td>G</td>\n",
       "    </tr>\n",
       "    <tr>\n",
       "      <th>9</th>\n",
       "      <td>NT_176422.1</td>\n",
       "      <td>1727</td>\n",
       "      <td>A</td>\n",
       "      <td>G</td>\n",
       "      <td>0.1</td>\n",
       "      <td>A</td>\n",
       "    </tr>\n",
       "    <tr>\n",
       "      <th>10</th>\n",
       "      <td>NT_176422.1</td>\n",
       "      <td>2347</td>\n",
       "      <td>G</td>\n",
       "      <td>A</td>\n",
       "      <td>0.1</td>\n",
       "      <td>G</td>\n",
       "    </tr>\n",
       "    <tr>\n",
       "      <th>11</th>\n",
       "      <td>NT_176422.1</td>\n",
       "      <td>2773</td>\n",
       "      <td>G</td>\n",
       "      <td>A</td>\n",
       "      <td>0.1</td>\n",
       "      <td>G</td>\n",
       "    </tr>\n",
       "    <tr>\n",
       "      <th>12</th>\n",
       "      <td>NT_176422.1</td>\n",
       "      <td>2900</td>\n",
       "      <td>C</td>\n",
       "      <td>A</td>\n",
       "      <td>0.4</td>\n",
       "      <td>C</td>\n",
       "    </tr>\n",
       "    <tr>\n",
       "      <th>13</th>\n",
       "      <td>NT_176422.1</td>\n",
       "      <td>3458</td>\n",
       "      <td>G</td>\n",
       "      <td>A</td>\n",
       "      <td>0.4</td>\n",
       "      <td>G</td>\n",
       "    </tr>\n",
       "  </tbody>\n",
       "</table>\n",
       "</div>"
      ],
      "text/plain": [
       "       scaffold   pos ref alt  Alt_Freq   AA\n",
       "6   NT_176421.1  7050   C   T       0.5  NaN\n",
       "7   NT_176422.1   477   G   A       0.1    G\n",
       "8   NT_176422.1  1173   G   A       0.3    G\n",
       "9   NT_176422.1  1727   A   G       0.1    A\n",
       "10  NT_176422.1  2347   G   A       0.1    G\n",
       "11  NT_176422.1  2773   G   A       0.1    G\n",
       "12  NT_176422.1  2900   C   A       0.4    C\n",
       "13  NT_176422.1  3458   G   A       0.4    G"
      ]
     },
     "execution_count": 18,
     "metadata": {},
     "output_type": "execute_result"
    }
   ],
   "source": [
    "Allele_and_AF_3.head(8)"
   ]
  },
  {
   "cell_type": "code",
   "execution_count": 19,
   "metadata": {},
   "outputs": [],
   "source": [
    "#Add column for dervied allele\n",
    "#take the same script, but swtich positions for alt and ref.\n",
    "Allele_and_AF_3[\"Derived\"] = Allele_and_AF_3.apply(lambda row: AA_caller(row[\"Alt_Freq\"], row[\"alt\"], row[\"ref\"]), \n",
    "                                                   axis= 'columns')"
   ]
  },
  {
   "cell_type": "code",
   "execution_count": 20,
   "metadata": {
    "scrolled": false
   },
   "outputs": [
    {
     "data": {
      "text/html": [
       "<div>\n",
       "<style scoped>\n",
       "    .dataframe tbody tr th:only-of-type {\n",
       "        vertical-align: middle;\n",
       "    }\n",
       "\n",
       "    .dataframe tbody tr th {\n",
       "        vertical-align: top;\n",
       "    }\n",
       "\n",
       "    .dataframe thead th {\n",
       "        text-align: right;\n",
       "    }\n",
       "</style>\n",
       "<table border=\"1\" class=\"dataframe\">\n",
       "  <thead>\n",
       "    <tr style=\"text-align: right;\">\n",
       "      <th></th>\n",
       "      <th>scaffold</th>\n",
       "      <th>pos</th>\n",
       "      <th>ref</th>\n",
       "      <th>alt</th>\n",
       "      <th>Alt_Freq</th>\n",
       "      <th>AA</th>\n",
       "      <th>Derived</th>\n",
       "    </tr>\n",
       "  </thead>\n",
       "  <tbody>\n",
       "    <tr>\n",
       "      <th>6</th>\n",
       "      <td>NT_176421.1</td>\n",
       "      <td>7050</td>\n",
       "      <td>C</td>\n",
       "      <td>T</td>\n",
       "      <td>0.5</td>\n",
       "      <td>NaN</td>\n",
       "      <td>NaN</td>\n",
       "    </tr>\n",
       "    <tr>\n",
       "      <th>7</th>\n",
       "      <td>NT_176422.1</td>\n",
       "      <td>477</td>\n",
       "      <td>G</td>\n",
       "      <td>A</td>\n",
       "      <td>0.1</td>\n",
       "      <td>G</td>\n",
       "      <td>A</td>\n",
       "    </tr>\n",
       "    <tr>\n",
       "      <th>8</th>\n",
       "      <td>NT_176422.1</td>\n",
       "      <td>1173</td>\n",
       "      <td>G</td>\n",
       "      <td>A</td>\n",
       "      <td>0.3</td>\n",
       "      <td>G</td>\n",
       "      <td>A</td>\n",
       "    </tr>\n",
       "    <tr>\n",
       "      <th>9</th>\n",
       "      <td>NT_176422.1</td>\n",
       "      <td>1727</td>\n",
       "      <td>A</td>\n",
       "      <td>G</td>\n",
       "      <td>0.1</td>\n",
       "      <td>A</td>\n",
       "      <td>G</td>\n",
       "    </tr>\n",
       "    <tr>\n",
       "      <th>10</th>\n",
       "      <td>NT_176422.1</td>\n",
       "      <td>2347</td>\n",
       "      <td>G</td>\n",
       "      <td>A</td>\n",
       "      <td>0.1</td>\n",
       "      <td>G</td>\n",
       "      <td>A</td>\n",
       "    </tr>\n",
       "    <tr>\n",
       "      <th>11</th>\n",
       "      <td>NT_176422.1</td>\n",
       "      <td>2773</td>\n",
       "      <td>G</td>\n",
       "      <td>A</td>\n",
       "      <td>0.1</td>\n",
       "      <td>G</td>\n",
       "      <td>A</td>\n",
       "    </tr>\n",
       "    <tr>\n",
       "      <th>12</th>\n",
       "      <td>NT_176422.1</td>\n",
       "      <td>2900</td>\n",
       "      <td>C</td>\n",
       "      <td>A</td>\n",
       "      <td>0.4</td>\n",
       "      <td>C</td>\n",
       "      <td>A</td>\n",
       "    </tr>\n",
       "    <tr>\n",
       "      <th>13</th>\n",
       "      <td>NT_176422.1</td>\n",
       "      <td>3458</td>\n",
       "      <td>G</td>\n",
       "      <td>A</td>\n",
       "      <td>0.4</td>\n",
       "      <td>G</td>\n",
       "      <td>A</td>\n",
       "    </tr>\n",
       "    <tr>\n",
       "      <th>15</th>\n",
       "      <td>NT_176422.1</td>\n",
       "      <td>8291</td>\n",
       "      <td>T</td>\n",
       "      <td>G</td>\n",
       "      <td>0.1</td>\n",
       "      <td>T</td>\n",
       "      <td>G</td>\n",
       "    </tr>\n",
       "    <tr>\n",
       "      <th>16</th>\n",
       "      <td>NT_176422.1</td>\n",
       "      <td>9246</td>\n",
       "      <td>T</td>\n",
       "      <td>C</td>\n",
       "      <td>0.1</td>\n",
       "      <td>T</td>\n",
       "      <td>C</td>\n",
       "    </tr>\n",
       "  </tbody>\n",
       "</table>\n",
       "</div>"
      ],
      "text/plain": [
       "       scaffold   pos ref alt  Alt_Freq   AA Derived\n",
       "6   NT_176421.1  7050   C   T       0.5  NaN     NaN\n",
       "7   NT_176422.1   477   G   A       0.1    G       A\n",
       "8   NT_176422.1  1173   G   A       0.3    G       A\n",
       "9   NT_176422.1  1727   A   G       0.1    A       G\n",
       "10  NT_176422.1  2347   G   A       0.1    G       A\n",
       "11  NT_176422.1  2773   G   A       0.1    G       A\n",
       "12  NT_176422.1  2900   C   A       0.4    C       A\n",
       "13  NT_176422.1  3458   G   A       0.4    G       A\n",
       "15  NT_176422.1  8291   T   G       0.1    T       G\n",
       "16  NT_176422.1  9246   T   C       0.1    T       C"
      ]
     },
     "execution_count": 20,
     "metadata": {},
     "output_type": "execute_result"
    }
   ],
   "source": [
    "Allele_and_AF_3.head(10)"
   ]
  },
  {
   "cell_type": "code",
   "execution_count": 21,
   "metadata": {},
   "outputs": [],
   "source": [
    "#drop NaN, where frequency is 50%\n",
    "Trimmed_table= Allele_and_AF_3.dropna(how='any')"
   ]
  },
  {
   "cell_type": "code",
   "execution_count": 22,
   "metadata": {},
   "outputs": [
    {
     "data": {
      "text/html": [
       "<div>\n",
       "<style scoped>\n",
       "    .dataframe tbody tr th:only-of-type {\n",
       "        vertical-align: middle;\n",
       "    }\n",
       "\n",
       "    .dataframe tbody tr th {\n",
       "        vertical-align: top;\n",
       "    }\n",
       "\n",
       "    .dataframe thead th {\n",
       "        text-align: right;\n",
       "    }\n",
       "</style>\n",
       "<table border=\"1\" class=\"dataframe\">\n",
       "  <thead>\n",
       "    <tr style=\"text-align: right;\">\n",
       "      <th></th>\n",
       "      <th>scaffold</th>\n",
       "      <th>pos</th>\n",
       "      <th>ref</th>\n",
       "      <th>alt</th>\n",
       "      <th>Alt_Freq</th>\n",
       "      <th>AA</th>\n",
       "      <th>Derived</th>\n",
       "    </tr>\n",
       "  </thead>\n",
       "  <tbody>\n",
       "    <tr>\n",
       "      <th>7</th>\n",
       "      <td>NT_176422.1</td>\n",
       "      <td>477</td>\n",
       "      <td>G</td>\n",
       "      <td>A</td>\n",
       "      <td>0.1</td>\n",
       "      <td>G</td>\n",
       "      <td>A</td>\n",
       "    </tr>\n",
       "    <tr>\n",
       "      <th>8</th>\n",
       "      <td>NT_176422.1</td>\n",
       "      <td>1173</td>\n",
       "      <td>G</td>\n",
       "      <td>A</td>\n",
       "      <td>0.3</td>\n",
       "      <td>G</td>\n",
       "      <td>A</td>\n",
       "    </tr>\n",
       "    <tr>\n",
       "      <th>9</th>\n",
       "      <td>NT_176422.1</td>\n",
       "      <td>1727</td>\n",
       "      <td>A</td>\n",
       "      <td>G</td>\n",
       "      <td>0.1</td>\n",
       "      <td>A</td>\n",
       "      <td>G</td>\n",
       "    </tr>\n",
       "    <tr>\n",
       "      <th>10</th>\n",
       "      <td>NT_176422.1</td>\n",
       "      <td>2347</td>\n",
       "      <td>G</td>\n",
       "      <td>A</td>\n",
       "      <td>0.1</td>\n",
       "      <td>G</td>\n",
       "      <td>A</td>\n",
       "    </tr>\n",
       "    <tr>\n",
       "      <th>11</th>\n",
       "      <td>NT_176422.1</td>\n",
       "      <td>2773</td>\n",
       "      <td>G</td>\n",
       "      <td>A</td>\n",
       "      <td>0.1</td>\n",
       "      <td>G</td>\n",
       "      <td>A</td>\n",
       "    </tr>\n",
       "    <tr>\n",
       "      <th>12</th>\n",
       "      <td>NT_176422.1</td>\n",
       "      <td>2900</td>\n",
       "      <td>C</td>\n",
       "      <td>A</td>\n",
       "      <td>0.4</td>\n",
       "      <td>C</td>\n",
       "      <td>A</td>\n",
       "    </tr>\n",
       "    <tr>\n",
       "      <th>13</th>\n",
       "      <td>NT_176422.1</td>\n",
       "      <td>3458</td>\n",
       "      <td>G</td>\n",
       "      <td>A</td>\n",
       "      <td>0.4</td>\n",
       "      <td>G</td>\n",
       "      <td>A</td>\n",
       "    </tr>\n",
       "    <tr>\n",
       "      <th>15</th>\n",
       "      <td>NT_176422.1</td>\n",
       "      <td>8291</td>\n",
       "      <td>T</td>\n",
       "      <td>G</td>\n",
       "      <td>0.1</td>\n",
       "      <td>T</td>\n",
       "      <td>G</td>\n",
       "    </tr>\n",
       "    <tr>\n",
       "      <th>16</th>\n",
       "      <td>NT_176422.1</td>\n",
       "      <td>9246</td>\n",
       "      <td>T</td>\n",
       "      <td>C</td>\n",
       "      <td>0.1</td>\n",
       "      <td>T</td>\n",
       "      <td>C</td>\n",
       "    </tr>\n",
       "    <tr>\n",
       "      <th>17</th>\n",
       "      <td>NT_176422.1</td>\n",
       "      <td>10514</td>\n",
       "      <td>T</td>\n",
       "      <td>A</td>\n",
       "      <td>0.7</td>\n",
       "      <td>A</td>\n",
       "      <td>T</td>\n",
       "    </tr>\n",
       "  </tbody>\n",
       "</table>\n",
       "</div>"
      ],
      "text/plain": [
       "       scaffold    pos ref alt  Alt_Freq AA Derived\n",
       "7   NT_176422.1    477   G   A       0.1  G       A\n",
       "8   NT_176422.1   1173   G   A       0.3  G       A\n",
       "9   NT_176422.1   1727   A   G       0.1  A       G\n",
       "10  NT_176422.1   2347   G   A       0.1  G       A\n",
       "11  NT_176422.1   2773   G   A       0.1  G       A\n",
       "12  NT_176422.1   2900   C   A       0.4  C       A\n",
       "13  NT_176422.1   3458   G   A       0.4  G       A\n",
       "15  NT_176422.1   8291   T   G       0.1  T       G\n",
       "16  NT_176422.1   9246   T   C       0.1  T       C\n",
       "17  NT_176422.1  10514   T   A       0.7  A       T"
      ]
     },
     "execution_count": 22,
     "metadata": {},
     "output_type": "execute_result"
    }
   ],
   "source": [
    "Trimmed_table.head(10)"
   ]
  },
  {
   "cell_type": "markdown",
   "metadata": {},
   "source": [
    "### Mutation Direction"
   ]
  },
  {
   "cell_type": "code",
   "execution_count": 23,
   "metadata": {},
   "outputs": [],
   "source": [
    "#sort mutation by direction, SW and WS\n",
    "strong_bases= ['G', 'C']\n",
    "weak_bases= ['A', 'T']\n",
    "\n",
    "def strength_classifier(ancestor, derived):\n",
    "    if (ancestor in strong_bases) and (derived in weak_bases):\n",
    "        return 'SW'\n",
    "    elif (ancestor in weak_bases) and (derived in strong_bases):\n",
    "        return 'WS'\n",
    "    else:\n",
    "        return 'NN'"
   ]
  },
  {
   "cell_type": "code",
   "execution_count": 24,
   "metadata": {},
   "outputs": [
    {
     "name": "stderr",
     "output_type": "stream",
     "text": [
      "/home/taeyoon/miniconda3/lib/python3.6/site-packages/ipykernel_launcher.py:1: SettingWithCopyWarning: \n",
      "A value is trying to be set on a copy of a slice from a DataFrame.\n",
      "Try using .loc[row_indexer,col_indexer] = value instead\n",
      "\n",
      "See the caveats in the documentation: http://pandas.pydata.org/pandas-docs/stable/indexing.html#indexing-view-versus-copy\n",
      "  \"\"\"Entry point for launching an IPython kernel.\n"
     ]
    }
   ],
   "source": [
    "Trimmed_table['Strength'] = Trimmed_table.apply(lambda row: strength_classifier(row['AA'], row['Derived']), axis='columns')"
   ]
  },
  {
   "cell_type": "code",
   "execution_count": 25,
   "metadata": {
    "scrolled": true
   },
   "outputs": [
    {
     "data": {
      "text/html": [
       "<div>\n",
       "<style scoped>\n",
       "    .dataframe tbody tr th:only-of-type {\n",
       "        vertical-align: middle;\n",
       "    }\n",
       "\n",
       "    .dataframe tbody tr th {\n",
       "        vertical-align: top;\n",
       "    }\n",
       "\n",
       "    .dataframe thead th {\n",
       "        text-align: right;\n",
       "    }\n",
       "</style>\n",
       "<table border=\"1\" class=\"dataframe\">\n",
       "  <thead>\n",
       "    <tr style=\"text-align: right;\">\n",
       "      <th></th>\n",
       "      <th>scaffold</th>\n",
       "      <th>pos</th>\n",
       "      <th>ref</th>\n",
       "      <th>alt</th>\n",
       "      <th>Alt_Freq</th>\n",
       "      <th>AA</th>\n",
       "      <th>Derived</th>\n",
       "      <th>Strength</th>\n",
       "    </tr>\n",
       "  </thead>\n",
       "  <tbody>\n",
       "    <tr>\n",
       "      <th>7</th>\n",
       "      <td>NT_176422.1</td>\n",
       "      <td>477</td>\n",
       "      <td>G</td>\n",
       "      <td>A</td>\n",
       "      <td>0.1</td>\n",
       "      <td>G</td>\n",
       "      <td>A</td>\n",
       "      <td>SW</td>\n",
       "    </tr>\n",
       "    <tr>\n",
       "      <th>8</th>\n",
       "      <td>NT_176422.1</td>\n",
       "      <td>1173</td>\n",
       "      <td>G</td>\n",
       "      <td>A</td>\n",
       "      <td>0.3</td>\n",
       "      <td>G</td>\n",
       "      <td>A</td>\n",
       "      <td>SW</td>\n",
       "    </tr>\n",
       "    <tr>\n",
       "      <th>9</th>\n",
       "      <td>NT_176422.1</td>\n",
       "      <td>1727</td>\n",
       "      <td>A</td>\n",
       "      <td>G</td>\n",
       "      <td>0.1</td>\n",
       "      <td>A</td>\n",
       "      <td>G</td>\n",
       "      <td>WS</td>\n",
       "    </tr>\n",
       "    <tr>\n",
       "      <th>10</th>\n",
       "      <td>NT_176422.1</td>\n",
       "      <td>2347</td>\n",
       "      <td>G</td>\n",
       "      <td>A</td>\n",
       "      <td>0.1</td>\n",
       "      <td>G</td>\n",
       "      <td>A</td>\n",
       "      <td>SW</td>\n",
       "    </tr>\n",
       "    <tr>\n",
       "      <th>11</th>\n",
       "      <td>NT_176422.1</td>\n",
       "      <td>2773</td>\n",
       "      <td>G</td>\n",
       "      <td>A</td>\n",
       "      <td>0.1</td>\n",
       "      <td>G</td>\n",
       "      <td>A</td>\n",
       "      <td>SW</td>\n",
       "    </tr>\n",
       "    <tr>\n",
       "      <th>12</th>\n",
       "      <td>NT_176422.1</td>\n",
       "      <td>2900</td>\n",
       "      <td>C</td>\n",
       "      <td>A</td>\n",
       "      <td>0.4</td>\n",
       "      <td>C</td>\n",
       "      <td>A</td>\n",
       "      <td>SW</td>\n",
       "    </tr>\n",
       "    <tr>\n",
       "      <th>13</th>\n",
       "      <td>NT_176422.1</td>\n",
       "      <td>3458</td>\n",
       "      <td>G</td>\n",
       "      <td>A</td>\n",
       "      <td>0.4</td>\n",
       "      <td>G</td>\n",
       "      <td>A</td>\n",
       "      <td>SW</td>\n",
       "    </tr>\n",
       "    <tr>\n",
       "      <th>15</th>\n",
       "      <td>NT_176422.1</td>\n",
       "      <td>8291</td>\n",
       "      <td>T</td>\n",
       "      <td>G</td>\n",
       "      <td>0.1</td>\n",
       "      <td>T</td>\n",
       "      <td>G</td>\n",
       "      <td>WS</td>\n",
       "    </tr>\n",
       "    <tr>\n",
       "      <th>16</th>\n",
       "      <td>NT_176422.1</td>\n",
       "      <td>9246</td>\n",
       "      <td>T</td>\n",
       "      <td>C</td>\n",
       "      <td>0.1</td>\n",
       "      <td>T</td>\n",
       "      <td>C</td>\n",
       "      <td>WS</td>\n",
       "    </tr>\n",
       "    <tr>\n",
       "      <th>17</th>\n",
       "      <td>NT_176422.1</td>\n",
       "      <td>10514</td>\n",
       "      <td>T</td>\n",
       "      <td>A</td>\n",
       "      <td>0.7</td>\n",
       "      <td>A</td>\n",
       "      <td>T</td>\n",
       "      <td>NN</td>\n",
       "    </tr>\n",
       "  </tbody>\n",
       "</table>\n",
       "</div>"
      ],
      "text/plain": [
       "       scaffold    pos ref alt  Alt_Freq AA Derived Strength\n",
       "7   NT_176422.1    477   G   A       0.1  G       A       SW\n",
       "8   NT_176422.1   1173   G   A       0.3  G       A       SW\n",
       "9   NT_176422.1   1727   A   G       0.1  A       G       WS\n",
       "10  NT_176422.1   2347   G   A       0.1  G       A       SW\n",
       "11  NT_176422.1   2773   G   A       0.1  G       A       SW\n",
       "12  NT_176422.1   2900   C   A       0.4  C       A       SW\n",
       "13  NT_176422.1   3458   G   A       0.4  G       A       SW\n",
       "15  NT_176422.1   8291   T   G       0.1  T       G       WS\n",
       "16  NT_176422.1   9246   T   C       0.1  T       C       WS\n",
       "17  NT_176422.1  10514   T   A       0.7  A       T       NN"
      ]
     },
     "execution_count": 25,
     "metadata": {},
     "output_type": "execute_result"
    }
   ],
   "source": [
    "Trimmed_table.head(10)"
   ]
  },
  {
   "cell_type": "code",
   "execution_count": 26,
   "metadata": {},
   "outputs": [
    {
     "data": {
      "text/plain": [
       "SW    953537\n",
       "WS    523616\n",
       "NN    194764\n",
       "Name: Strength, dtype: int64"
      ]
     },
     "execution_count": 26,
     "metadata": {},
     "output_type": "execute_result"
    },
    {
     "data": {
      "image/png": "[encoded data removed]",
      "text/plain": [
       "<Figure size 432x288 with 1 Axes>"
      ]
     },
     "metadata": {},
     "output_type": "display_data"
    }
   ],
   "source": [
    "Trimmed_table['Strength'].value_counts().plot(kind='bar')\n",
    "Trimmed_table['Strength'].value_counts()\n",
    "#based on allele frequency"
   ]
  },
  {
   "cell_type": "code",
   "execution_count": 27,
   "metadata": {},
   "outputs": [
    {
     "data": {
      "text/plain": [
       "2515928.759894459"
      ]
     },
     "execution_count": 27,
     "metadata": {},
     "output_type": "execute_result"
    }
   ],
   "source": [
    "#mutliplying GC% of Bombus: 37.9%\n",
    "#https://www.ncbi.nlm.nih.gov/genome/?term=Bombus%20impatiens\n",
    "Trimmed_table['Strength'].value_counts().at['SW'] / 0.379"
   ]
  },
  {
   "cell_type": "code",
   "execution_count": 28,
   "metadata": {},
   "outputs": [
    {
     "data": {
      "text/plain": [
       "843181.9645732689"
      ]
     },
     "execution_count": 28,
     "metadata": {},
     "output_type": "execute_result"
    }
   ],
   "source": [
    "Trimmed_table['Strength'].value_counts().at['WS'] / (1 - 0.379)"
   ]
  },
  {
   "cell_type": "code",
   "execution_count": 29,
   "metadata": {},
   "outputs": [
    {
     "data": {
      "text/plain": [
       "1671917"
      ]
     },
     "execution_count": 29,
     "metadata": {},
     "output_type": "execute_result"
    }
   ],
   "source": [
    "len(Trimmed_table)"
   ]
  },
  {
   "cell_type": "markdown",
   "metadata": {},
   "source": [
    "### Mutation Frequency"
   ]
  },
  {
   "cell_type": "code",
   "execution_count": 30,
   "metadata": {},
   "outputs": [],
   "source": [
    "#Define frequency of the Derived State, the mutation\n",
    "#if ALT = Derived, keep the original AF, which describes the frequency of the ALT\n",
    "#if REF = Derived, use 1 - AF\n",
    "\n",
    "def mutation_frequency (Derived, ALT, AF):\n",
    "    if Derived == ALT: #this means derived is ALT, which AF is associated with\n",
    "        return AF\n",
    "    if Derived != ALT: #this means dervied is REF, which is inversely associated with AF\n",
    "        return (1-AF)\n",
    "    else:\n",
    "        return 'Error'"
   ]
  },
  {
   "cell_type": "code",
   "execution_count": 31,
   "metadata": {},
   "outputs": [
    {
     "name": "stderr",
     "output_type": "stream",
     "text": [
      "/home/taeyoon/miniconda3/lib/python3.6/site-packages/ipykernel_launcher.py:2: SettingWithCopyWarning: \n",
      "A value is trying to be set on a copy of a slice from a DataFrame.\n",
      "Try using .loc[row_indexer,col_indexer] = value instead\n",
      "\n",
      "See the caveats in the documentation: http://pandas.pydata.org/pandas-docs/stable/indexing.html#indexing-view-versus-copy\n",
      "  \n"
     ]
    }
   ],
   "source": [
    "Trimmed_table['MF'] = Trimmed_table.apply(lambda row: mutation_frequency(row['Derived'], row['alt'], row['Alt_Freq']), \n",
    "                                    axis='columns')"
   ]
  },
  {
   "cell_type": "code",
   "execution_count": 62,
   "metadata": {},
   "outputs": [
    {
     "data": {
      "text/html": [
       "<div>\n",
       "<style scoped>\n",
       "    .dataframe tbody tr th:only-of-type {\n",
       "        vertical-align: middle;\n",
       "    }\n",
       "\n",
       "    .dataframe tbody tr th {\n",
       "        vertical-align: top;\n",
       "    }\n",
       "\n",
       "    .dataframe thead th {\n",
       "        text-align: right;\n",
       "    }\n",
       "</style>\n",
       "<table border=\"1\" class=\"dataframe\">\n",
       "  <thead>\n",
       "    <tr style=\"text-align: right;\">\n",
       "      <th></th>\n",
       "      <th>scaffold</th>\n",
       "      <th>pos</th>\n",
       "      <th>ref</th>\n",
       "      <th>alt</th>\n",
       "      <th>Alt_Freq</th>\n",
       "      <th>AA</th>\n",
       "      <th>Derived</th>\n",
       "      <th>Strength</th>\n",
       "      <th>MF</th>\n",
       "      <th>Barcode</th>\n",
       "    </tr>\n",
       "  </thead>\n",
       "  <tbody>\n",
       "    <tr>\n",
       "      <th>7</th>\n",
       "      <td>NT_176422.1</td>\n",
       "      <td>477</td>\n",
       "      <td>G</td>\n",
       "      <td>A</td>\n",
       "      <td>0.1</td>\n",
       "      <td>G</td>\n",
       "      <td>A</td>\n",
       "      <td>SW</td>\n",
       "      <td>0.1</td>\n",
       "      <td>SW-Rare</td>\n",
       "    </tr>\n",
       "    <tr>\n",
       "      <th>8</th>\n",
       "      <td>NT_176422.1</td>\n",
       "      <td>1173</td>\n",
       "      <td>G</td>\n",
       "      <td>A</td>\n",
       "      <td>0.3</td>\n",
       "      <td>G</td>\n",
       "      <td>A</td>\n",
       "      <td>SW</td>\n",
       "      <td>0.3</td>\n",
       "      <td>SW-Common</td>\n",
       "    </tr>\n",
       "    <tr>\n",
       "      <th>9</th>\n",
       "      <td>NT_176422.1</td>\n",
       "      <td>1727</td>\n",
       "      <td>A</td>\n",
       "      <td>G</td>\n",
       "      <td>0.1</td>\n",
       "      <td>A</td>\n",
       "      <td>G</td>\n",
       "      <td>WS</td>\n",
       "      <td>0.1</td>\n",
       "      <td>WS-Rare</td>\n",
       "    </tr>\n",
       "    <tr>\n",
       "      <th>10</th>\n",
       "      <td>NT_176422.1</td>\n",
       "      <td>2347</td>\n",
       "      <td>G</td>\n",
       "      <td>A</td>\n",
       "      <td>0.1</td>\n",
       "      <td>G</td>\n",
       "      <td>A</td>\n",
       "      <td>SW</td>\n",
       "      <td>0.1</td>\n",
       "      <td>SW-Rare</td>\n",
       "    </tr>\n",
       "    <tr>\n",
       "      <th>11</th>\n",
       "      <td>NT_176422.1</td>\n",
       "      <td>2773</td>\n",
       "      <td>G</td>\n",
       "      <td>A</td>\n",
       "      <td>0.1</td>\n",
       "      <td>G</td>\n",
       "      <td>A</td>\n",
       "      <td>SW</td>\n",
       "      <td>0.1</td>\n",
       "      <td>SW-Rare</td>\n",
       "    </tr>\n",
       "  </tbody>\n",
       "</table>\n",
       "</div>"
      ],
      "text/plain": [
       "       scaffold   pos ref alt  Alt_Freq AA Derived Strength   MF    Barcode\n",
       "7   NT_176422.1   477   G   A       0.1  G       A       SW  0.1    SW-Rare\n",
       "8   NT_176422.1  1173   G   A       0.3  G       A       SW  0.3  SW-Common\n",
       "9   NT_176422.1  1727   A   G       0.1  A       G       WS  0.1    WS-Rare\n",
       "10  NT_176422.1  2347   G   A       0.1  G       A       SW  0.1    SW-Rare\n",
       "11  NT_176422.1  2773   G   A       0.1  G       A       SW  0.1    SW-Rare"
      ]
     },
     "execution_count": 62,
     "metadata": {},
     "output_type": "execute_result"
    }
   ],
   "source": [
    "Trimmed_table.head(5)"
   ]
  },
  {
   "cell_type": "code",
   "execution_count": 33,
   "metadata": {},
   "outputs": [
    {
     "data": {
      "text/plain": [
       "0.444"
      ]
     },
     "execution_count": 33,
     "metadata": {},
     "output_type": "execute_result"
    }
   ],
   "source": [
    "Trimmed_table['MF'].max()"
   ]
  },
  {
   "cell_type": "code",
   "execution_count": 34,
   "metadata": {},
   "outputs": [
    {
     "data": {
      "text/plain": [
       "0.09999999999999998"
      ]
     },
     "execution_count": 34,
     "metadata": {},
     "output_type": "execute_result"
    }
   ],
   "source": [
    "Trimmed_table['MF'].min()"
   ]
  },
  {
   "cell_type": "code",
   "execution_count": 61,
   "metadata": {},
   "outputs": [],
   "source": [
    "Trimmed_table.sort_values(by = ['Alt_Freq']);"
   ]
  },
  {
   "cell_type": "markdown",
   "metadata": {},
   "source": [
    "### Split bars based on freq, 0.1 and 0.25~0.5"
   ]
  },
  {
   "cell_type": "code",
   "execution_count": 36,
   "metadata": {},
   "outputs": [],
   "source": [
    "#Ancestry based on allele frequency\n",
    "\n",
    "def barcoder(strength, frequency):\n",
    "    if (strength == 'SW') and (frequency <= 0.1):\n",
    "        return 'SW-Rare'\n",
    "    elif (strength == 'SW') and (0.25 <= frequency <= 0.5):\n",
    "        return 'SW-Common'\n",
    "    elif (strength == 'WS') and (frequency <= 0.1):\n",
    "        return 'WS-Rare'\n",
    "    elif (strength == 'WS') and (0.25 <= frequency <= 0.5):\n",
    "        return 'WS-Common'\n",
    "    else:\n",
    "        return 'NaN'"
   ]
  },
  {
   "cell_type": "code",
   "execution_count": 37,
   "metadata": {},
   "outputs": [
    {
     "name": "stderr",
     "output_type": "stream",
     "text": [
      "/home/taeyoon/miniconda3/lib/python3.6/site-packages/ipykernel_launcher.py:1: SettingWithCopyWarning: \n",
      "A value is trying to be set on a copy of a slice from a DataFrame.\n",
      "Try using .loc[row_indexer,col_indexer] = value instead\n",
      "\n",
      "See the caveats in the documentation: http://pandas.pydata.org/pandas-docs/stable/indexing.html#indexing-view-versus-copy\n",
      "  \"\"\"Entry point for launching an IPython kernel.\n"
     ]
    }
   ],
   "source": [
    "Trimmed_table['Barcode'] = Trimmed_table.apply(lambda row: barcoder(row['Strength'], row['MF']), axis='columns')"
   ]
  },
  {
   "cell_type": "code",
   "execution_count": 38,
   "metadata": {},
   "outputs": [
    {
     "data": {
      "text/plain": [
       "SW-Rare      557999\n",
       "NaN          499230\n",
       "WS-Rare      251242\n",
       "SW-Common    204473\n",
       "WS-Common    158973\n",
       "Name: Barcode, dtype: int64"
      ]
     },
     "execution_count": 38,
     "metadata": {},
     "output_type": "execute_result"
    }
   ],
   "source": [
    "Trimmed_table['Barcode'].value_counts()"
   ]
  },
  {
   "cell_type": "code",
   "execution_count": 39,
   "metadata": {},
   "outputs": [],
   "source": [
    "woutNaN = Trimmed_table[Trimmed_table['Barcode'] != 'NaN'] #drops anything between 0.25 and 0.5"
   ]
  },
  {
   "cell_type": "code",
   "execution_count": 40,
   "metadata": {},
   "outputs": [
    {
     "data": {
      "text/plain": [
       "SW-Rare      557999\n",
       "WS-Rare      251242\n",
       "SW-Common    204473\n",
       "WS-Common    158973\n",
       "Name: Barcode, dtype: int64"
      ]
     },
     "execution_count": 40,
     "metadata": {},
     "output_type": "execute_result"
    },
    {
     "data": {
      "image/png": "[encoded data removed]",
      "text/plain": [
       "<Figure size 432x288 with 1 Axes>"
      ]
     },
     "metadata": {},
     "output_type": "display_data"
    }
   ],
   "source": [
    "woutNaN['Barcode'].value_counts().plot(kind='bar')\n",
    "woutNaN['Barcode'].value_counts()"
   ]
  },
  {
   "cell_type": "code",
   "execution_count": 41,
   "metadata": {},
   "outputs": [
    {
     "data": {
      "text/html": [
       "<div>\n",
       "<style scoped>\n",
       "    .dataframe tbody tr th:only-of-type {\n",
       "        vertical-align: middle;\n",
       "    }\n",
       "\n",
       "    .dataframe tbody tr th {\n",
       "        vertical-align: top;\n",
       "    }\n",
       "\n",
       "    .dataframe thead th {\n",
       "        text-align: right;\n",
       "    }\n",
       "</style>\n",
       "<table border=\"1\" class=\"dataframe\">\n",
       "  <thead>\n",
       "    <tr style=\"text-align: right;\">\n",
       "      <th></th>\n",
       "      <th>Barcode</th>\n",
       "    </tr>\n",
       "  </thead>\n",
       "  <tbody>\n",
       "    <tr>\n",
       "      <th>SW-Rare</th>\n",
       "      <td>557999</td>\n",
       "    </tr>\n",
       "    <tr>\n",
       "      <th>WS-Rare</th>\n",
       "      <td>251242</td>\n",
       "    </tr>\n",
       "    <tr>\n",
       "      <th>SW-Common</th>\n",
       "      <td>204473</td>\n",
       "    </tr>\n",
       "    <tr>\n",
       "      <th>WS-Common</th>\n",
       "      <td>158973</td>\n",
       "    </tr>\n",
       "  </tbody>\n",
       "</table>\n",
       "</div>"
      ],
      "text/plain": [
       "           Barcode\n",
       "SW-Rare     557999\n",
       "WS-Rare     251242\n",
       "SW-Common   204473\n",
       "WS-Common   158973"
      ]
     },
     "execution_count": 41,
     "metadata": {},
     "output_type": "execute_result"
    }
   ],
   "source": [
    "value_only = pd.DataFrame(data = woutNaN['Barcode'].value_counts())\n",
    "value_only.head(5)"
   ]
  },
  {
   "cell_type": "code",
   "execution_count": 42,
   "metadata": {},
   "outputs": [],
   "source": [
    "value_only.sort_index(ascending = False, inplace= True)"
   ]
  },
  {
   "cell_type": "code",
   "execution_count": 43,
   "metadata": {},
   "outputs": [
    {
     "data": {
      "text/plain": [
       "<matplotlib.axes._subplots.AxesSubplot at 0x7f915a74f748>"
      ]
     },
     "execution_count": 43,
     "metadata": {},
     "output_type": "execute_result"
    },
    {
     "data": {
      "image/png": "[encoded data removed]",
      "text/plain": [
       "<Figure size 432x288 with 1 Axes>"
      ]
     },
     "metadata": {},
     "output_type": "display_data"
    }
   ],
   "source": [
    "value_only.plot(kind='bar', legend= False)\n",
    "#this is for AA call made with frequency"
   ]
  },
  {
   "cell_type": "markdown",
   "metadata": {},
   "source": [
    "#### Take the Freq-based AA and make stacked bar graph. + then adjust for GC%"
   ]
  },
  {
   "cell_type": "code",
   "execution_count": 44,
   "metadata": {},
   "outputs": [
    {
     "name": "stdout",
     "output_type": "stream",
     "text": [
      "204473\n"
     ]
    }
   ],
   "source": [
    "#Assign names for each category to use in making stacked bar plot\n",
    "FbAA_WS_R = value_only['Barcode'].at['WS-Rare']\n",
    "FbAA_WS_C = value_only['Barcode'].at['WS-Common']\n",
    "FbAA_SW_R = value_only['Barcode'].at['SW-Rare']\n",
    "FbAA_SW_C = value_only['Barcode'].at['SW-Common']\n",
    "print(FbAA_SW_C) #check if the stored value is correct\n",
    "#this one is unadjusted for GC%"
   ]
  },
  {
   "cell_type": "code",
   "execution_count": 45,
   "metadata": {},
   "outputs": [
    {
     "data": {
      "image/png": "[encoded data removed]",
      "text/plain": [
       "<Figure size 432x288 with 1 Axes>"
      ]
     },
     "metadata": {},
     "output_type": "display_data"
    }
   ],
   "source": [
    "#Stacked bar graph, bombus, unadjusted\n",
    "N = 2\n",
    "Common = (FbAA_WS_C, FbAA_SW_C)\n",
    "Rare = (FbAA_WS_R, FbAA_SW_R)\n",
    "ind = np.arange(N) # the x locations for the groups\n",
    "width = 0.9 # the width of the bars: can also be len(x) sequence\n",
    "\n",
    "FbAA_p1 = plt.bar(ind, Common, width)\n",
    "FbAA_p2 = plt.bar(ind, Rare, width, bottom=Common)\n",
    "\n",
    "plt.ylabel('Value Counts')\n",
    "plt.title('Prevalence of the mutation based on their direction')\n",
    "plt.xticks(ind, ('WS', 'SW'))\n",
    "plt.yticks(np.arange(0, 750001, 100000))\n",
    "plt.legend((FbAA_p1[0], FbAA_p2[0]), ('Common(>0.5)', 'Rare(=0.1)'))\n",
    "\n",
    "plt.show()"
   ]
  },
  {
   "cell_type": "markdown",
   "metadata": {},
   "source": [
    "#### Chi-Square Test of the data"
   ]
  },
  {
   "cell_type": "code",
   "execution_count": 60,
   "metadata": {},
   "outputs": [
    {
     "data": {
      "text/plain": [
       "(17767.959610959893, 0.0, 1, array([[526162.22722005, 236309.77277995],\n",
       "        [283078.77277995, 127136.22722005]]))"
      ]
     },
     "execution_count": 60,
     "metadata": {},
     "output_type": "execute_result"
    }
   ],
   "source": [
    "#chi square test by manually typing out the array\n",
    "test = np.array ([[557999, 204473], [251242, 158973]]) #array setup: SW-Rare,Common and WS-Rare,Common\n",
    "chi2_contingency(test)\n",
    "#result reported in Chi-value, p-value, df, expected values in array\n",
    "#(17767.959610959893, 0.0, 1, array([[526162.22722005, 236309.77277995], [283078.77277995, 127136.22722005]]))"
   ]
  },
  {
   "cell_type": "code",
   "execution_count": 48,
   "metadata": {},
   "outputs": [
    {
     "data": {
      "text/plain": [
       "'SW-Rare \\t542774\\n    WS-Rare \\t241273\\n    SW-Common \\t115275\\n    WS-Common \\t90587'"
      ]
     },
     "execution_count": 48,
     "metadata": {},
     "output_type": "execute_result"
    }
   ],
   "source": [
    "#values used for array\n",
    "#SW-Rare \t557999\n",
    "#WS-Rare \t251242\n",
    "#SW-Common \t204473\n",
    "#WS-Common \t158973"
   ]
  },
  {
   "cell_type": "markdown",
   "metadata": {},
   "source": [
    "#### Odds Ratio Test"
   ]
  },
  {
   "cell_type": "code",
   "execution_count": 49,
   "metadata": {},
   "outputs": [
    {
     "data": {
      "text/plain": [
       "0.3664397248023742"
      ]
     },
     "execution_count": 49,
     "metadata": {},
     "output_type": "execute_result"
    }
   ],
   "source": [
    "#defined as (a*d)/(b*c) = OR\n",
    "#when C/R, OR for SW is:\n",
    "FbAA_SW_C/FbAA_SW_R\n",
    "#0.3664397248023742"
   ]
  },
  {
   "cell_type": "code",
   "execution_count": 50,
   "metadata": {},
   "outputs": [
    {
     "data": {
      "text/plain": [
       "0.6327485054250483"
      ]
     },
     "execution_count": 50,
     "metadata": {},
     "output_type": "execute_result"
    }
   ],
   "source": [
    "#OR for WS is:\n",
    "FbAA_WS_C/FbAA_WS_R\n",
    "#0.6327485054250483"
   ]
  },
  {
   "cell_type": "code",
   "execution_count": 51,
   "metadata": {},
   "outputs": [
    {
     "data": {
      "text/plain": [
       "1.7267464813382283"
      ]
     },
     "execution_count": 51,
     "metadata": {},
     "output_type": "execute_result"
    }
   ],
   "source": [
    "#OR overall, WS/SW is:\n",
    "(FbAA_WS_C/FbAA_WS_R)/(FbAA_SW_C/FbAA_SW_R)\n",
    "#1.7267464813382283"
   ]
  },
  {
   "cell_type": "markdown",
   "metadata": {},
   "source": [
    "#### Same thing adjusted as per GC% of BImp"
   ]
  },
  {
   "cell_type": "code",
   "execution_count": 53,
   "metadata": {},
   "outputs": [
    {
     "name": "stdout",
     "output_type": "stream",
     "text": [
      "WSR 251242 | 404576.4895330113\n",
      "WSC 158973 | 255995.16908212562\n",
      "SWR 557999 | 1472292.875989446\n",
      "SWC 204473 | 539506.5963060686\n"
     ]
    }
   ],
   "source": [
    "#Assign names for each category to use in making stacked bar plot\n",
    "FbAA_WS_R_adj = (value_only['Barcode'].at['WS-Rare']) / (1-0.379)\n",
    "FbAA_WS_C_adj = (value_only['Barcode'].at['WS-Common']) / (1-0.379)\n",
    "FbAA_SW_R_adj = (value_only['Barcode'].at['SW-Rare'] / 0.379)\n",
    "FbAA_SW_C_adj = (value_only['Barcode'].at['SW-Common'] / 0.379)\n",
    "\n",
    "print('WSR', FbAA_WS_R, '|', FbAA_WS_R_adj)\n",
    "print('WSC', FbAA_WS_C, '|', FbAA_WS_C_adj)\n",
    "print('SWR', FbAA_SW_R, '|', FbAA_SW_R_adj)\n",
    "print('SWC', FbAA_SW_C, '|', FbAA_SW_C_adj)\n",
    "#check if the stored value is correct\n",
    "#this one is Adjusted for GC%, making it mutations 'per' that type of nucleotide"
   ]
  },
  {
   "cell_type": "code",
   "execution_count": 54,
   "metadata": {},
   "outputs": [
    {
     "data": {
      "image/png": "[encoded data removed]",
      "text/plain": [
       "<Figure size 432x288 with 1 Axes>"
      ]
     },
     "metadata": {},
     "output_type": "display_data"
    }
   ],
   "source": [
    "#Stacked bar graph\n",
    "N = 2\n",
    "Common_adj = (FbAA_WS_C_adj, FbAA_SW_C_adj)\n",
    "Rare_adj = (FbAA_WS_R_adj, FbAA_SW_R_adj)\n",
    "ind = np.arange(N) # the x locations for the groups\n",
    "width = 0.9 # the width of the bars: can also be len(x) sequence\n",
    "\n",
    "FbAA_p1_adj = plt.bar(ind, Common_adj, width)\n",
    "FbAA_p2_adj = plt.bar(ind, Rare_adj, width, bottom=Common_adj)\n",
    "\n",
    "plt.ylabel('Adjusted Value')\n",
    "plt.title('Prevalence of the mutation based on their direction')\n",
    "plt.xticks(ind, ('WS', 'SW'))\n",
    "plt.yticks(np.arange(0, 1800001, 400000))\n",
    "plt.legend((FbAA_p1_adj[0], FbAA_p2_adj[0]), ('Common(>0.5)', 'Rare(=0.1)'))\n",
    "\n",
    "plt.show()"
   ]
  },
  {
   "cell_type": "markdown",
   "metadata": {},
   "source": [
    "#### Chi-square and Odd's Ratio for Adjusted Bimp"
   ]
  },
  {
   "cell_type": "code",
   "execution_count": 63,
   "metadata": {},
   "outputs": [
    {
     "data": {
      "text/plain": [
       "(33889.90191377693, 0.0, 1, array([[1412934.28725186,  598865.18504365],\n",
       "        [ 463935.07827059,  196636.58034454]]))"
      ]
     },
     "execution_count": 63,
     "metadata": {},
     "output_type": "execute_result"
    }
   ],
   "source": [
    "#Chi square\n",
    "test_adjust = np.array ([[1472292.875989446, 539506.5963060686], [404576.4895330113, 255995.16908212562]]) \n",
    "#array setup: SW-Rare,Common and WS-Rare,Common\n",
    "chi2_contingency(test_adjust)\n",
    "#this returns chi-sqaure, p, degrees of freedom, and expected values in array\n",
    "#(33889.90191377693, 0.0, 1, array([[1412934.28725186,  598865.18504365],[ 463935.07827059,  196636.58034454]]"
   ]
  },
  {
   "cell_type": "code",
   "execution_count": 66,
   "metadata": {},
   "outputs": [
    {
     "data": {
      "text/plain": [
       "1.7267464813382283"
      ]
     },
     "execution_count": 66,
     "metadata": {},
     "output_type": "execute_result"
    }
   ],
   "source": [
    "#OR overall, WS/SW is:\n",
    "(FbAA_WS_C_adj/FbAA_WS_R_adj)/(FbAA_SW_C_adj/FbAA_SW_R_adj)\n",
    "#no change becasue numerator and denominator gets divided by the same value."
   ]
  },
  {
   "cell_type": "markdown",
   "metadata": {},
   "source": [
    "## Repeated on Polistes"
   ]
  },
  {
   "cell_type": "code",
   "execution_count": 67,
   "metadata": {},
   "outputs": [
    {
     "name": "stdout",
     "output_type": "stream",
     "text": [
      "CPU times: user 23.1 s, sys: 2.08 s, total: 25.1 s\n",
      "Wall time: 25.1 s\n"
     ]
    }
   ],
   "source": [
    "%%time\n",
    "pol_df = pd.read_table('/data3/arshad_PNAS_data/For_Tae/polistes-snps.vcf', sep ='\\t', header=None, comment='#')\n",
    "\n",
    "pol_df.rename(columns={\n",
    "    0:\"scaffold\", 1:\"pos\", 2:\"id\", 3:\"ref\", 4:\"alt\", 5:\"quality\", 6:\"filter\", 7:\"info\", 8:\"header\", \n",
    "    9:\"1\", 10:\"10\", 11:\"11\", 12:\"2b\", 13:\"3\", 14:\"4\", 15:\"5\", 16:\"6\", 17:\"7\", 18:\"8\"}, inplace=True)"
   ]
  },
  {
   "cell_type": "code",
   "execution_count": 68,
   "metadata": {},
   "outputs": [],
   "source": [
    "pol_column_picks= [\"scaffold\", \"pos\", \"ref\", \"alt\", \"info\"]\n",
    "pol_GT_display= pol_df[pol_column_picks]"
   ]
  },
  {
   "cell_type": "code",
   "execution_count": 70,
   "metadata": {},
   "outputs": [
    {
     "data": {
      "text/html": [
       "<div>\n",
       "<style scoped>\n",
       "    .dataframe tbody tr th:only-of-type {\n",
       "        vertical-align: middle;\n",
       "    }\n",
       "\n",
       "    .dataframe tbody tr th {\n",
       "        vertical-align: top;\n",
       "    }\n",
       "\n",
       "    .dataframe thead th {\n",
       "        text-align: right;\n",
       "    }\n",
       "</style>\n",
       "<table border=\"1\" class=\"dataframe\">\n",
       "  <thead>\n",
       "    <tr style=\"text-align: right;\">\n",
       "      <th></th>\n",
       "      <th>scaffold</th>\n",
       "      <th>pos</th>\n",
       "      <th>ref</th>\n",
       "      <th>alt</th>\n",
       "      <th>info</th>\n",
       "    </tr>\n",
       "  </thead>\n",
       "  <tbody>\n",
       "    <tr>\n",
       "      <th>0</th>\n",
       "      <td>PdomSCFr1.2-0001</td>\n",
       "      <td>74</td>\n",
       "      <td>G</td>\n",
       "      <td>C</td>\n",
       "      <td>AC=9;AF=0.450;AN=20;BaseQRankSum=0.286;Clippin...</td>\n",
       "    </tr>\n",
       "    <tr>\n",
       "      <th>1</th>\n",
       "      <td>PdomSCFr1.2-0001</td>\n",
       "      <td>91</td>\n",
       "      <td>A</td>\n",
       "      <td>T</td>\n",
       "      <td>AC=10;AF=0.500;AN=20;BaseQRankSum=0.185;Clippi...</td>\n",
       "    </tr>\n",
       "    <tr>\n",
       "      <th>2</th>\n",
       "      <td>PdomSCFr1.2-0001</td>\n",
       "      <td>94</td>\n",
       "      <td>G</td>\n",
       "      <td>C</td>\n",
       "      <td>AC=4;AF=0.200;AN=20;BaseQRankSum=-5.900e-02;Cl...</td>\n",
       "    </tr>\n",
       "    <tr>\n",
       "      <th>3</th>\n",
       "      <td>PdomSCFr1.2-0001</td>\n",
       "      <td>101</td>\n",
       "      <td>C</td>\n",
       "      <td>A</td>\n",
       "      <td>AC=8;AF=0.400;AN=20;BaseQRankSum=0.469;Clippin...</td>\n",
       "    </tr>\n",
       "    <tr>\n",
       "      <th>4</th>\n",
       "      <td>PdomSCFr1.2-0001</td>\n",
       "      <td>135</td>\n",
       "      <td>C</td>\n",
       "      <td>T</td>\n",
       "      <td>AC=9;AF=0.450;AN=20;BaseQRankSum=0.457;Clippin...</td>\n",
       "    </tr>\n",
       "  </tbody>\n",
       "</table>\n",
       "</div>"
      ],
      "text/plain": [
       "           scaffold  pos ref alt  \\\n",
       "0  PdomSCFr1.2-0001   74   G   C   \n",
       "1  PdomSCFr1.2-0001   91   A   T   \n",
       "2  PdomSCFr1.2-0001   94   G   C   \n",
       "3  PdomSCFr1.2-0001  101   C   A   \n",
       "4  PdomSCFr1.2-0001  135   C   T   \n",
       "\n",
       "                                                info  \n",
       "0  AC=9;AF=0.450;AN=20;BaseQRankSum=0.286;Clippin...  \n",
       "1  AC=10;AF=0.500;AN=20;BaseQRankSum=0.185;Clippi...  \n",
       "2  AC=4;AF=0.200;AN=20;BaseQRankSum=-5.900e-02;Cl...  \n",
       "3  AC=8;AF=0.400;AN=20;BaseQRankSum=0.469;Clippin...  \n",
       "4  AC=9;AF=0.450;AN=20;BaseQRankSum=0.457;Clippin...  "
      ]
     },
     "execution_count": 70,
     "metadata": {},
     "output_type": "execute_result"
    }
   ],
   "source": [
    "pol_GT_display.sort_values(by=['scaffold', 'pos']).head()"
   ]
  },
  {
   "cell_type": "markdown",
   "metadata": {},
   "source": [
    "### Split info to Frequency"
   ]
  },
  {
   "cell_type": "code",
   "execution_count": 74,
   "metadata": {},
   "outputs": [],
   "source": [
    "pol_df['AF'] = pol_df['info'].str.split('AF=').str.get(1).str.split(';').str.get(0)"
   ]
  },
  {
   "cell_type": "code",
   "execution_count": 72,
   "metadata": {},
   "outputs": [],
   "source": [
    "#convert string to float, have to make a new category \"alt frequency\"\n",
    "#otherwise, for some reason, AF_Value column will stay as 'object'\n",
    "pol_df[\"Alt_Freq\"]= pol_df[\"AF\"].astype(float)"
   ]
  },
  {
   "cell_type": "code",
   "execution_count": 75,
   "metadata": {},
   "outputs": [
    {
     "data": {
      "text/html": [
       "<div>\n",
       "<style scoped>\n",
       "    .dataframe tbody tr th:only-of-type {\n",
       "        vertical-align: middle;\n",
       "    }\n",
       "\n",
       "    .dataframe tbody tr th {\n",
       "        vertical-align: top;\n",
       "    }\n",
       "\n",
       "    .dataframe thead th {\n",
       "        text-align: right;\n",
       "    }\n",
       "</style>\n",
       "<table border=\"1\" class=\"dataframe\">\n",
       "  <thead>\n",
       "    <tr style=\"text-align: right;\">\n",
       "      <th></th>\n",
       "      <th>scaffold</th>\n",
       "      <th>pos</th>\n",
       "      <th>ref</th>\n",
       "      <th>alt</th>\n",
       "      <th>Alt_Freq</th>\n",
       "    </tr>\n",
       "  </thead>\n",
       "  <tbody>\n",
       "    <tr>\n",
       "      <th>0</th>\n",
       "      <td>PdomSCFr1.2-0001</td>\n",
       "      <td>74</td>\n",
       "      <td>G</td>\n",
       "      <td>C</td>\n",
       "      <td>0.45</td>\n",
       "    </tr>\n",
       "    <tr>\n",
       "      <th>1</th>\n",
       "      <td>PdomSCFr1.2-0001</td>\n",
       "      <td>91</td>\n",
       "      <td>A</td>\n",
       "      <td>T</td>\n",
       "      <td>0.50</td>\n",
       "    </tr>\n",
       "    <tr>\n",
       "      <th>2</th>\n",
       "      <td>PdomSCFr1.2-0001</td>\n",
       "      <td>94</td>\n",
       "      <td>G</td>\n",
       "      <td>C</td>\n",
       "      <td>0.20</td>\n",
       "    </tr>\n",
       "    <tr>\n",
       "      <th>3</th>\n",
       "      <td>PdomSCFr1.2-0001</td>\n",
       "      <td>101</td>\n",
       "      <td>C</td>\n",
       "      <td>A</td>\n",
       "      <td>0.40</td>\n",
       "    </tr>\n",
       "    <tr>\n",
       "      <th>4</th>\n",
       "      <td>PdomSCFr1.2-0001</td>\n",
       "      <td>135</td>\n",
       "      <td>C</td>\n",
       "      <td>T</td>\n",
       "      <td>0.45</td>\n",
       "    </tr>\n",
       "  </tbody>\n",
       "</table>\n",
       "</div>"
      ],
      "text/plain": [
       "           scaffold  pos ref alt  Alt_Freq\n",
       "0  PdomSCFr1.2-0001   74   G   C      0.45\n",
       "1  PdomSCFr1.2-0001   91   A   T      0.50\n",
       "2  PdomSCFr1.2-0001   94   G   C      0.20\n",
       "3  PdomSCFr1.2-0001  101   C   A      0.40\n",
       "4  PdomSCFr1.2-0001  135   C   T      0.45"
      ]
     },
     "execution_count": 75,
     "metadata": {},
     "output_type": "execute_result"
    }
   ],
   "source": [
    "pol_column_picked_2= [\"scaffold\", \"pos\", \"ref\", \"alt\", \"Alt_Freq\"]\n",
    "pol_Allele_and_AF= pol_df[pol_column_picked_2]\n",
    "pol_Allele_and_AF.sort_values(by=['scaffold', 'pos']).head(5)"
   ]
  },
  {
   "cell_type": "code",
   "execution_count": 76,
   "metadata": {},
   "outputs": [
    {
     "data": {
      "text/plain": [
       "3006260"
      ]
     },
     "execution_count": 76,
     "metadata": {},
     "output_type": "execute_result"
    }
   ],
   "source": [
    "len(pol_Allele_and_AF)"
   ]
  },
  {
   "cell_type": "markdown",
   "metadata": {},
   "source": [
    "### Eliminate Alleles with 0 or 1 frequency"
   ]
  },
  {
   "cell_type": "code",
   "execution_count": 77,
   "metadata": {},
   "outputs": [],
   "source": [
    "pol_Allele_and_AF_2 = pol_Allele_and_AF[pol_Allele_and_AF['Alt_Freq'] != 1.0]\n",
    "pol_Allele_and_AF_3 = pol_Allele_and_AF_2[pol_Allele_and_AF_2['Alt_Freq'] != 0]"
   ]
  },
  {
   "cell_type": "code",
   "execution_count": 78,
   "metadata": {},
   "outputs": [
    {
     "data": {
      "text/html": [
       "<div>\n",
       "<style scoped>\n",
       "    .dataframe tbody tr th:only-of-type {\n",
       "        vertical-align: middle;\n",
       "    }\n",
       "\n",
       "    .dataframe tbody tr th {\n",
       "        vertical-align: top;\n",
       "    }\n",
       "\n",
       "    .dataframe thead th {\n",
       "        text-align: right;\n",
       "    }\n",
       "</style>\n",
       "<table border=\"1\" class=\"dataframe\">\n",
       "  <thead>\n",
       "    <tr style=\"text-align: right;\">\n",
       "      <th></th>\n",
       "      <th>scaffold</th>\n",
       "      <th>pos</th>\n",
       "      <th>ref</th>\n",
       "      <th>alt</th>\n",
       "      <th>Alt_Freq</th>\n",
       "    </tr>\n",
       "  </thead>\n",
       "  <tbody>\n",
       "    <tr>\n",
       "      <th>0</th>\n",
       "      <td>PdomSCFr1.2-0001</td>\n",
       "      <td>74</td>\n",
       "      <td>G</td>\n",
       "      <td>C</td>\n",
       "      <td>0.45</td>\n",
       "    </tr>\n",
       "    <tr>\n",
       "      <th>1</th>\n",
       "      <td>PdomSCFr1.2-0001</td>\n",
       "      <td>91</td>\n",
       "      <td>A</td>\n",
       "      <td>T</td>\n",
       "      <td>0.50</td>\n",
       "    </tr>\n",
       "    <tr>\n",
       "      <th>2</th>\n",
       "      <td>PdomSCFr1.2-0001</td>\n",
       "      <td>94</td>\n",
       "      <td>G</td>\n",
       "      <td>C</td>\n",
       "      <td>0.20</td>\n",
       "    </tr>\n",
       "    <tr>\n",
       "      <th>3</th>\n",
       "      <td>PdomSCFr1.2-0001</td>\n",
       "      <td>101</td>\n",
       "      <td>C</td>\n",
       "      <td>A</td>\n",
       "      <td>0.40</td>\n",
       "    </tr>\n",
       "    <tr>\n",
       "      <th>4</th>\n",
       "      <td>PdomSCFr1.2-0001</td>\n",
       "      <td>135</td>\n",
       "      <td>C</td>\n",
       "      <td>T</td>\n",
       "      <td>0.45</td>\n",
       "    </tr>\n",
       "  </tbody>\n",
       "</table>\n",
       "</div>"
      ],
      "text/plain": [
       "           scaffold  pos ref alt  Alt_Freq\n",
       "0  PdomSCFr1.2-0001   74   G   C      0.45\n",
       "1  PdomSCFr1.2-0001   91   A   T      0.50\n",
       "2  PdomSCFr1.2-0001   94   G   C      0.20\n",
       "3  PdomSCFr1.2-0001  101   C   A      0.40\n",
       "4  PdomSCFr1.2-0001  135   C   T      0.45"
      ]
     },
     "execution_count": 78,
     "metadata": {},
     "output_type": "execute_result"
    }
   ],
   "source": [
    "pol_Allele_and_AF_3.head()"
   ]
  },
  {
   "cell_type": "code",
   "execution_count": 79,
   "metadata": {},
   "outputs": [
    {
     "data": {
      "text/plain": [
       "2927620"
      ]
     },
     "execution_count": 79,
     "metadata": {},
     "output_type": "execute_result"
    }
   ],
   "source": [
    "len(pol_Allele_and_AF_3)"
   ]
  },
  {
   "cell_type": "code",
   "execution_count": 83,
   "metadata": {},
   "outputs": [
    {
     "data": {
      "text/plain": [
       "0.05"
      ]
     },
     "execution_count": 83,
     "metadata": {},
     "output_type": "execute_result"
    }
   ],
   "source": [
    "pol_Allele_and_AF_3['Alt_Freq'].min() #check min, must be above 0"
   ]
  },
  {
   "cell_type": "code",
   "execution_count": 84,
   "metadata": {},
   "outputs": [
    {
     "data": {
      "text/plain": [
       "0.95"
      ]
     },
     "execution_count": 84,
     "metadata": {},
     "output_type": "execute_result"
    }
   ],
   "source": [
    "pol_Allele_and_AF_3['Alt_Freq'].max() #check max, must be below 1"
   ]
  },
  {
   "cell_type": "markdown",
   "metadata": {},
   "source": [
    "### Call AA based on Frequency"
   ]
  },
  {
   "cell_type": "code",
   "execution_count": 85,
   "metadata": {},
   "outputs": [],
   "source": [
    "#reuse function from previous\n",
    "pol_Allele_and_AF_3[\"AA\"] = pol_Allele_and_AF_3.apply(lambda row: AA_caller(row[\"Alt_Freq\"], row[\"ref\"], row[\"alt\"]), \n",
    "                                                      axis= 'columns')"
   ]
  },
  {
   "cell_type": "code",
   "execution_count": 86,
   "metadata": {},
   "outputs": [],
   "source": [
    "#Add column for dervied allele\n",
    "#take the same script, but swtich positions for alt and ref.\n",
    "pol_Allele_and_AF_3[\"Derived\"] = pol_Allele_and_AF_3.apply(lambda row: AA_caller(row[\"Alt_Freq\"], row[\"alt\"], row[\"ref\"]), \n",
    "                                                           axis= 'columns')"
   ]
  },
  {
   "cell_type": "code",
   "execution_count": 87,
   "metadata": {},
   "outputs": [],
   "source": [
    "#drop NaN\n",
    "pol_Trimmed_table= pol_Allele_and_AF_3.dropna(how='any')"
   ]
  },
  {
   "cell_type": "code",
   "execution_count": 88,
   "metadata": {},
   "outputs": [
    {
     "data": {
      "text/plain": [
       "2848125"
      ]
     },
     "execution_count": 88,
     "metadata": {},
     "output_type": "execute_result"
    }
   ],
   "source": [
    "len(pol_Trimmed_table)"
   ]
  },
  {
   "cell_type": "markdown",
   "metadata": {},
   "source": [
    "### Mutation Direction"
   ]
  },
  {
   "cell_type": "code",
   "execution_count": 89,
   "metadata": {},
   "outputs": [
    {
     "name": "stderr",
     "output_type": "stream",
     "text": [
      "/home/taeyoon/miniconda3/lib/python3.6/site-packages/ipykernel_launcher.py:3: SettingWithCopyWarning: \n",
      "A value is trying to be set on a copy of a slice from a DataFrame.\n",
      "Try using .loc[row_indexer,col_indexer] = value instead\n",
      "\n",
      "See the caveats in the documentation: http://pandas.pydata.org/pandas-docs/stable/indexing.html#indexing-view-versus-copy\n",
      "  This is separate from the ipykernel package so we can avoid doing imports until\n"
     ]
    }
   ],
   "source": [
    "#reuse strength_classifier from previous\n",
    "pol_Trimmed_table['Strength'] = pol_Trimmed_table.apply(lambda row: strength_classifier(row['AA'], row['Derived']), \n",
    "                                                        axis='columns')"
   ]
  },
  {
   "cell_type": "code",
   "execution_count": 90,
   "metadata": {},
   "outputs": [
    {
     "data": {
      "text/html": [
       "<div>\n",
       "<style scoped>\n",
       "    .dataframe tbody tr th:only-of-type {\n",
       "        vertical-align: middle;\n",
       "    }\n",
       "\n",
       "    .dataframe tbody tr th {\n",
       "        vertical-align: top;\n",
       "    }\n",
       "\n",
       "    .dataframe thead th {\n",
       "        text-align: right;\n",
       "    }\n",
       "</style>\n",
       "<table border=\"1\" class=\"dataframe\">\n",
       "  <thead>\n",
       "    <tr style=\"text-align: right;\">\n",
       "      <th></th>\n",
       "      <th>scaffold</th>\n",
       "      <th>pos</th>\n",
       "      <th>ref</th>\n",
       "      <th>alt</th>\n",
       "      <th>Alt_Freq</th>\n",
       "      <th>AA</th>\n",
       "      <th>Derived</th>\n",
       "      <th>Strength</th>\n",
       "    </tr>\n",
       "  </thead>\n",
       "  <tbody>\n",
       "    <tr>\n",
       "      <th>0</th>\n",
       "      <td>PdomSCFr1.2-0001</td>\n",
       "      <td>74</td>\n",
       "      <td>G</td>\n",
       "      <td>C</td>\n",
       "      <td>0.45</td>\n",
       "      <td>G</td>\n",
       "      <td>C</td>\n",
       "      <td>NN</td>\n",
       "    </tr>\n",
       "    <tr>\n",
       "      <th>2</th>\n",
       "      <td>PdomSCFr1.2-0001</td>\n",
       "      <td>94</td>\n",
       "      <td>G</td>\n",
       "      <td>C</td>\n",
       "      <td>0.20</td>\n",
       "      <td>G</td>\n",
       "      <td>C</td>\n",
       "      <td>NN</td>\n",
       "    </tr>\n",
       "    <tr>\n",
       "      <th>3</th>\n",
       "      <td>PdomSCFr1.2-0001</td>\n",
       "      <td>101</td>\n",
       "      <td>C</td>\n",
       "      <td>A</td>\n",
       "      <td>0.40</td>\n",
       "      <td>C</td>\n",
       "      <td>A</td>\n",
       "      <td>SW</td>\n",
       "    </tr>\n",
       "    <tr>\n",
       "      <th>4</th>\n",
       "      <td>PdomSCFr1.2-0001</td>\n",
       "      <td>135</td>\n",
       "      <td>C</td>\n",
       "      <td>T</td>\n",
       "      <td>0.45</td>\n",
       "      <td>C</td>\n",
       "      <td>T</td>\n",
       "      <td>SW</td>\n",
       "    </tr>\n",
       "    <tr>\n",
       "      <th>5</th>\n",
       "      <td>PdomSCFr1.2-0001</td>\n",
       "      <td>136</td>\n",
       "      <td>A</td>\n",
       "      <td>T</td>\n",
       "      <td>0.10</td>\n",
       "      <td>A</td>\n",
       "      <td>T</td>\n",
       "      <td>NN</td>\n",
       "    </tr>\n",
       "  </tbody>\n",
       "</table>\n",
       "</div>"
      ],
      "text/plain": [
       "           scaffold  pos ref alt  Alt_Freq AA Derived Strength\n",
       "0  PdomSCFr1.2-0001   74   G   C      0.45  G       C       NN\n",
       "2  PdomSCFr1.2-0001   94   G   C      0.20  G       C       NN\n",
       "3  PdomSCFr1.2-0001  101   C   A      0.40  C       A       SW\n",
       "4  PdomSCFr1.2-0001  135   C   T      0.45  C       T       SW\n",
       "5  PdomSCFr1.2-0001  136   A   T      0.10  A       T       NN"
      ]
     },
     "execution_count": 90,
     "metadata": {},
     "output_type": "execute_result"
    }
   ],
   "source": [
    "pol_Trimmed_table.head(5)"
   ]
  },
  {
   "cell_type": "code",
   "execution_count": 91,
   "metadata": {},
   "outputs": [
    {
     "data": {
      "text/plain": [
       "SW    1385187\n",
       "WS     847624\n",
       "NN     615314\n",
       "Name: Strength, dtype: int64"
      ]
     },
     "execution_count": 91,
     "metadata": {},
     "output_type": "execute_result"
    },
    {
     "data": {
      "image/png": "[encoded data removed]",
      "text/plain": [
       "<Figure size 432x288 with 1 Axes>"
      ]
     },
     "metadata": {},
     "output_type": "display_data"
    }
   ],
   "source": [
    "pol_Trimmed_table['Strength'].value_counts().plot(kind='bar')\n",
    "pol_Trimmed_table['Strength'].value_counts()"
   ]
  },
  {
   "cell_type": "code",
   "execution_count": 92,
   "metadata": {},
   "outputs": [],
   "source": [
    "#general comment: also largely S->W. Not sure why AT would be more often found in smaller frequency than GC."
   ]
  },
  {
   "cell_type": "markdown",
   "metadata": {},
   "source": [
    "### Mutation Frequency"
   ]
  },
  {
   "cell_type": "code",
   "execution_count": 93,
   "metadata": {},
   "outputs": [
    {
     "name": "stderr",
     "output_type": "stream",
     "text": [
      "/home/taeyoon/miniconda3/lib/python3.6/site-packages/ipykernel_launcher.py:2: SettingWithCopyWarning: \n",
      "A value is trying to be set on a copy of a slice from a DataFrame.\n",
      "Try using .loc[row_indexer,col_indexer] = value instead\n",
      "\n",
      "See the caveats in the documentation: http://pandas.pydata.org/pandas-docs/stable/indexing.html#indexing-view-versus-copy\n",
      "  \n"
     ]
    }
   ],
   "source": [
    "pol_Trimmed_table['MF'] = pol_Trimmed_table.apply(lambda row: mutation_frequency(row['Derived'], row['alt'], row['Alt_Freq']), \n",
    "                                    axis='columns')"
   ]
  },
  {
   "cell_type": "markdown",
   "metadata": {},
   "source": [
    "#### Splitting the Bar graph"
   ]
  },
  {
   "cell_type": "code",
   "execution_count": 94,
   "metadata": {},
   "outputs": [
    {
     "name": "stderr",
     "output_type": "stream",
     "text": [
      "/home/taeyoon/miniconda3/lib/python3.6/site-packages/ipykernel_launcher.py:1: SettingWithCopyWarning: \n",
      "A value is trying to be set on a copy of a slice from a DataFrame.\n",
      "Try using .loc[row_indexer,col_indexer] = value instead\n",
      "\n",
      "See the caveats in the documentation: http://pandas.pydata.org/pandas-docs/stable/indexing.html#indexing-view-versus-copy\n",
      "  \"\"\"Entry point for launching an IPython kernel.\n"
     ]
    }
   ],
   "source": [
    "pol_Trimmed_table['Barcode'] = pol_Trimmed_table.apply(lambda row: barcoder(row['Strength'], row['MF']), axis='columns')"
   ]
  },
  {
   "cell_type": "code",
   "execution_count": 95,
   "metadata": {},
   "outputs": [
    {
     "data": {
      "text/html": [
       "<div>\n",
       "<style scoped>\n",
       "    .dataframe tbody tr th:only-of-type {\n",
       "        vertical-align: middle;\n",
       "    }\n",
       "\n",
       "    .dataframe tbody tr th {\n",
       "        vertical-align: top;\n",
       "    }\n",
       "\n",
       "    .dataframe thead th {\n",
       "        text-align: right;\n",
       "    }\n",
       "</style>\n",
       "<table border=\"1\" class=\"dataframe\">\n",
       "  <thead>\n",
       "    <tr style=\"text-align: right;\">\n",
       "      <th></th>\n",
       "      <th>scaffold</th>\n",
       "      <th>pos</th>\n",
       "      <th>ref</th>\n",
       "      <th>alt</th>\n",
       "      <th>Alt_Freq</th>\n",
       "      <th>AA</th>\n",
       "      <th>Derived</th>\n",
       "      <th>Strength</th>\n",
       "      <th>MF</th>\n",
       "      <th>Barcode</th>\n",
       "    </tr>\n",
       "  </thead>\n",
       "  <tbody>\n",
       "    <tr>\n",
       "      <th>0</th>\n",
       "      <td>PdomSCFr1.2-0001</td>\n",
       "      <td>74</td>\n",
       "      <td>G</td>\n",
       "      <td>C</td>\n",
       "      <td>0.45</td>\n",
       "      <td>G</td>\n",
       "      <td>C</td>\n",
       "      <td>NN</td>\n",
       "      <td>0.45</td>\n",
       "      <td>NaN</td>\n",
       "    </tr>\n",
       "    <tr>\n",
       "      <th>2</th>\n",
       "      <td>PdomSCFr1.2-0001</td>\n",
       "      <td>94</td>\n",
       "      <td>G</td>\n",
       "      <td>C</td>\n",
       "      <td>0.20</td>\n",
       "      <td>G</td>\n",
       "      <td>C</td>\n",
       "      <td>NN</td>\n",
       "      <td>0.20</td>\n",
       "      <td>NaN</td>\n",
       "    </tr>\n",
       "    <tr>\n",
       "      <th>3</th>\n",
       "      <td>PdomSCFr1.2-0001</td>\n",
       "      <td>101</td>\n",
       "      <td>C</td>\n",
       "      <td>A</td>\n",
       "      <td>0.40</td>\n",
       "      <td>C</td>\n",
       "      <td>A</td>\n",
       "      <td>SW</td>\n",
       "      <td>0.40</td>\n",
       "      <td>SW-Common</td>\n",
       "    </tr>\n",
       "    <tr>\n",
       "      <th>4</th>\n",
       "      <td>PdomSCFr1.2-0001</td>\n",
       "      <td>135</td>\n",
       "      <td>C</td>\n",
       "      <td>T</td>\n",
       "      <td>0.45</td>\n",
       "      <td>C</td>\n",
       "      <td>T</td>\n",
       "      <td>SW</td>\n",
       "      <td>0.45</td>\n",
       "      <td>SW-Common</td>\n",
       "    </tr>\n",
       "    <tr>\n",
       "      <th>5</th>\n",
       "      <td>PdomSCFr1.2-0001</td>\n",
       "      <td>136</td>\n",
       "      <td>A</td>\n",
       "      <td>T</td>\n",
       "      <td>0.10</td>\n",
       "      <td>A</td>\n",
       "      <td>T</td>\n",
       "      <td>NN</td>\n",
       "      <td>0.10</td>\n",
       "      <td>NaN</td>\n",
       "    </tr>\n",
       "  </tbody>\n",
       "</table>\n",
       "</div>"
      ],
      "text/plain": [
       "           scaffold  pos ref alt  Alt_Freq AA Derived Strength    MF  \\\n",
       "0  PdomSCFr1.2-0001   74   G   C      0.45  G       C       NN  0.45   \n",
       "2  PdomSCFr1.2-0001   94   G   C      0.20  G       C       NN  0.20   \n",
       "3  PdomSCFr1.2-0001  101   C   A      0.40  C       A       SW  0.40   \n",
       "4  PdomSCFr1.2-0001  135   C   T      0.45  C       T       SW  0.45   \n",
       "5  PdomSCFr1.2-0001  136   A   T      0.10  A       T       NN  0.10   \n",
       "\n",
       "     Barcode  \n",
       "0        NaN  \n",
       "2        NaN  \n",
       "3  SW-Common  \n",
       "4  SW-Common  \n",
       "5        NaN  "
      ]
     },
     "execution_count": 95,
     "metadata": {},
     "output_type": "execute_result"
    }
   ],
   "source": [
    "pol_Trimmed_table.head(5)"
   ]
  },
  {
   "cell_type": "code",
   "execution_count": 96,
   "metadata": {},
   "outputs": [
    {
     "data": {
      "text/plain": [
       "2848125"
      ]
     },
     "execution_count": 96,
     "metadata": {},
     "output_type": "execute_result"
    }
   ],
   "source": [
    "len(pol_Trimmed_table)"
   ]
  },
  {
   "cell_type": "code",
   "execution_count": 97,
   "metadata": {},
   "outputs": [
    {
     "data": {
      "text/plain": [
       "1789949"
      ]
     },
     "execution_count": 97,
     "metadata": {},
     "output_type": "execute_result"
    }
   ],
   "source": [
    "pol_woutNaN = pol_Trimmed_table[pol_Trimmed_table['Barcode'] != 'NaN']\n",
    "len(pol_woutNaN)"
   ]
  },
  {
   "cell_type": "code",
   "execution_count": 98,
   "metadata": {},
   "outputs": [
    {
     "data": {
      "text/html": [
       "<div>\n",
       "<style scoped>\n",
       "    .dataframe tbody tr th:only-of-type {\n",
       "        vertical-align: middle;\n",
       "    }\n",
       "\n",
       "    .dataframe tbody tr th {\n",
       "        vertical-align: top;\n",
       "    }\n",
       "\n",
       "    .dataframe thead th {\n",
       "        text-align: right;\n",
       "    }\n",
       "</style>\n",
       "<table border=\"1\" class=\"dataframe\">\n",
       "  <thead>\n",
       "    <tr style=\"text-align: right;\">\n",
       "      <th></th>\n",
       "      <th>Barcode</th>\n",
       "    </tr>\n",
       "  </thead>\n",
       "  <tbody>\n",
       "    <tr>\n",
       "      <th>WS-Rare</th>\n",
       "      <td>433182</td>\n",
       "    </tr>\n",
       "    <tr>\n",
       "      <th>WS-Common</th>\n",
       "      <td>239987</td>\n",
       "    </tr>\n",
       "    <tr>\n",
       "      <th>SW-Rare</th>\n",
       "      <td>824597</td>\n",
       "    </tr>\n",
       "    <tr>\n",
       "      <th>SW-Common</th>\n",
       "      <td>292183</td>\n",
       "    </tr>\n",
       "  </tbody>\n",
       "</table>\n",
       "</div>"
      ],
      "text/plain": [
       "           Barcode\n",
       "WS-Rare     433182\n",
       "WS-Common   239987\n",
       "SW-Rare     824597\n",
       "SW-Common   292183"
      ]
     },
     "execution_count": 98,
     "metadata": {},
     "output_type": "execute_result"
    }
   ],
   "source": [
    "pol_value_only = pd.DataFrame(data = pol_woutNaN['Barcode'].value_counts())\n",
    "pol_value_only.sort_index(ascending = False, inplace= True)\n",
    "pol_value_only.head(5)"
   ]
  },
  {
   "cell_type": "code",
   "execution_count": 99,
   "metadata": {},
   "outputs": [
    {
     "data": {
      "text/plain": [
       "<matplotlib.axes._subplots.AxesSubplot at 0x7f9036f5aa58>"
      ]
     },
     "execution_count": 99,
     "metadata": {},
     "output_type": "execute_result"
    },
    {
     "data": {
      "image/png": "[encoded data removed]",
      "text/plain": [
       "<Figure size 432x288 with 1 Axes>"
      ]
     },
     "metadata": {},
     "output_type": "display_data"
    }
   ],
   "source": [
    "pol_value_only.plot(kind='bar', legend= False)"
   ]
  },
  {
   "cell_type": "markdown",
   "metadata": {},
   "source": [
    "#### Polistes Stacked Bar plot"
   ]
  },
  {
   "cell_type": "code",
   "execution_count": 100,
   "metadata": {},
   "outputs": [
    {
     "name": "stdout",
     "output_type": "stream",
     "text": [
      "292183\n"
     ]
    }
   ],
   "source": [
    "#Assign names for each category to use in making stacked bar plot\n",
    "pol_FbAA_WS_R = pol_value_only['Barcode'].at['WS-Rare']\n",
    "pol_FbAA_WS_C = pol_value_only['Barcode'].at['WS-Common']\n",
    "pol_FbAA_SW_R = pol_value_only['Barcode'].at['SW-Rare']\n",
    "pol_FbAA_SW_C = pol_value_only['Barcode'].at['SW-Common']\n",
    "print(pol_FbAA_SW_C) #check if the stored value is correct\n",
    "#this one is unadjusted for GC%"
   ]
  },
  {
   "cell_type": "code",
   "execution_count": 101,
   "metadata": {},
   "outputs": [
    {
     "data": {
      "image/png": "[encoded data removed]",
      "text/plain": [
       "<Figure size 432x288 with 1 Axes>"
      ]
     },
     "metadata": {},
     "output_type": "display_data"
    }
   ],
   "source": [
    "#Stacked bar graph\n",
    "N = 2\n",
    "pol_Common = (pol_FbAA_WS_C, pol_FbAA_SW_C)\n",
    "pol_Rare = (pol_FbAA_WS_R, pol_FbAA_SW_R)\n",
    "ind = np.arange(N) # the x locations for the groups\n",
    "width = 0.9 # the width of the bars: can also be len(x) sequence\n",
    "\n",
    "pol_FbAA_p1 = plt.bar(ind, pol_Common, width)\n",
    "pol_FbAA_p2 = plt.bar(ind, pol_Rare, width, bottom=pol_Common)\n",
    "\n",
    "plt.ylabel('Value Counts')\n",
    "plt.title('Prevalence of the mutation based on their direction')\n",
    "plt.xticks(ind, ('WS', 'SW'))\n",
    "plt.yticks(np.arange(0, 1200001, 200000))\n",
    "plt.legend((FbAA_p1[0], FbAA_p2[0]), ('Common(>0.5)', 'Rare(=0.1)'))\n",
    "\n",
    "plt.show()"
   ]
  },
  {
   "cell_type": "markdown",
   "metadata": {},
   "source": [
    "#### Chi Square Test on Polistes"
   ]
  },
  {
   "cell_type": "code",
   "execution_count": 103,
   "metadata": {},
   "outputs": [
    {
     "data": {
      "text/plain": [
       "(18094.9100970834, 0.0, 1, array([[784749.97422832, 332030.02577168],\n",
       "        [473029.02577168, 200139.97422832]]))"
      ]
     },
     "execution_count": 103,
     "metadata": {},
     "output_type": "execute_result"
    }
   ],
   "source": [
    "#chi square test by manually typing out the array\n",
    "test = np.array ([[824597, 292183], [433182, 239987]]) #array setup: SW-Rare,Common and WS-Rare,Common\n",
    "chi2_contingency(test)\n",
    "#output is in the order of X-value, p-value, dof, and the array of expected\n",
    "#(18094.9100970834, 0.0, 1, array([[784749.97422832, 332030.02577168], [473029.02577168, 200139.97422832]]))"
   ]
  },
  {
   "cell_type": "code",
   "execution_count": null,
   "metadata": {},
   "outputs": [],
   "source": [
    "#the value counts for reference \n",
    "#WS-Rare \t433182\n",
    "#WS-Common \t239987\n",
    "#SW-Rare \t824597\n",
    "#SW-Common \t292183"
   ]
  },
  {
   "cell_type": "markdown",
   "metadata": {},
   "source": [
    "#### Odds Ratio Test on Polistes"
   ]
  },
  {
   "cell_type": "code",
   "execution_count": 105,
   "metadata": {},
   "outputs": [
    {
     "name": "stdout",
     "output_type": "stream",
     "text": [
      "0.3543342990576003\n",
      "0.5540096310557687\n",
      "1.5635224490805204\n"
     ]
    }
   ],
   "source": [
    "#defined as (a*d)/(b*c) = OR\n",
    "#when C/R, OR for SW is:\n",
    "print(pol_FbAA_SW_C/pol_FbAA_SW_R)\n",
    "#0.3543342990576003\n",
    "#OR for WS is:\n",
    "print(pol_FbAA_WS_C/pol_FbAA_WS_R)\n",
    "#0.5540096310557687\n",
    "#OR overall, WS/SW is:\n",
    "print((pol_FbAA_WS_C/pol_FbAA_WS_R)/(pol_FbAA_SW_C/pol_FbAA_SW_R))\n",
    "#OR = 1.5635224490805204"
   ]
  },
  {
   "cell_type": "markdown",
   "metadata": {},
   "source": [
    "#### GC content adjusted Polistes"
   ]
  },
  {
   "cell_type": "code",
   "execution_count": 106,
   "metadata": {},
   "outputs": [
    {
     "name": "stdout",
     "output_type": "stream",
     "text": [
      "WSR 433182 | 632382.4817518247\n",
      "WSC 239987 | 350345.98540145985\n",
      "SWR 824597 | 2617768.2539682537\n",
      "SWC 292183 | 927565.0793650794\n"
     ]
    }
   ],
   "source": [
    "#https://www.ncbi.nlm.nih.gov/genome/?term=Polistes+dominula\n",
    "#GC%: 31.5\n",
    "#Assign names for each category to use in making stacked bar plot\n",
    "pol_FbAA_WS_R_adj = (pol_value_only['Barcode'].at['WS-Rare']) / (1-0.315)\n",
    "pol_FbAA_WS_C_adj = (pol_value_only['Barcode'].at['WS-Common']) / (1-0.315)\n",
    "pol_FbAA_SW_R_adj = (pol_value_only['Barcode'].at['SW-Rare'] / 0.315)\n",
    "pol_FbAA_SW_C_adj = (pol_value_only['Barcode'].at['SW-Common'] / 0.315)\n",
    "\n",
    "print('WSR', pol_FbAA_WS_R, '|', pol_FbAA_WS_R_adj)\n",
    "print('WSC', pol_FbAA_WS_C, '|', pol_FbAA_WS_C_adj)\n",
    "print('SWR', pol_FbAA_SW_R, '|', pol_FbAA_SW_R_adj)\n",
    "print('SWC', pol_FbAA_SW_C, '|', pol_FbAA_SW_C_adj)\n",
    "#check if the stored value is correct\n",
    "#this one is Adjusted for GC%, making it mutations 'per' that type of nucleotide"
   ]
  },
  {
   "cell_type": "code",
   "execution_count": 107,
   "metadata": {},
   "outputs": [
    {
     "data": {
      "image/png": "[encoded data removed]",
      "text/plain": [
       "<Figure size 432x288 with 1 Axes>"
      ]
     },
     "metadata": {},
     "output_type": "display_data"
    }
   ],
   "source": [
    "#Stacked bar graph\n",
    "N = 2\n",
    "pol_Common_adj = (pol_FbAA_WS_C_adj, pol_FbAA_SW_C_adj)\n",
    "pol_Rare_adj = (pol_FbAA_WS_R_adj, pol_FbAA_SW_R_adj)\n",
    "ind = np.arange(N) # the x locations for the groups\n",
    "width = 0.9 # the width of the bars: can also be len(x) sequence\n",
    "\n",
    "pol_FbAA_p1_adj = plt.bar(ind, pol_Common_adj, width)\n",
    "pol_FbAA_p2_adj = plt.bar(ind, pol_Rare_adj, width, bottom=pol_Common_adj)\n",
    "\n",
    "plt.ylabel('Adjusted Value')\n",
    "plt.title('Prevalence of the mutation based on their direction')\n",
    "plt.xticks(ind, ('WS', 'SW'))\n",
    "plt.yticks(np.arange(0, 3600001, 600000))\n",
    "plt.legend((FbAA_p1_adj[0], FbAA_p2_adj[0]), ('Common(>0.5)', 'Rare(=0.1)'))\n",
    "\n",
    "plt.show()"
   ]
  },
  {
   "cell_type": "code",
   "execution_count": 108,
   "metadata": {},
   "outputs": [
    {
     "data": {
      "text/plain": [
       "(34188.69603624954, 0.0, 1, array([[2544768.21417674, 1000565.11915659],\n",
       "        [ 705382.52154334,  277345.94560995]]))"
      ]
     },
     "execution_count": 108,
     "metadata": {},
     "output_type": "execute_result"
    }
   ],
   "source": [
    "#chi square test by manually typing out the array\n",
    "test = np.array ([[2617768.2539682537, 927565.0793650794], [632382.4817518247, 350345.98540145985]]) #array setup: SW-Rare,Common and WS-Rare,Common\n",
    "chi2_contingency(test)\n",
    "#output is in the order of X-value, p-value, dof, and the array of expected\n",
    "#(34188.69603624954, 0.0, 1, array([[2544768.21417674, 1000565.11915659], [ 705382.52154334,  277345.94560995]]))"
   ]
  },
  {
   "cell_type": "code",
   "execution_count": null,
   "metadata": {},
   "outputs": [],
   "source": []
  }
 ],
 "metadata": {
  "kernelspec": {
   "display_name": "Python 3",
   "language": "python",
   "name": "python3"
  },
  "language_info": {
   "codemirror_mode": {
    "name": "ipython",
    "version": 3
   },
   "file_extension": ".py",
   "mimetype": "text/x-python",
   "name": "python",
   "nbconvert_exporter": "python",
   "pygments_lexer": "ipython3",
   "version": "3.6.3"
  }
 },
 "nbformat": 4,
 "nbformat_minor": 2
}
